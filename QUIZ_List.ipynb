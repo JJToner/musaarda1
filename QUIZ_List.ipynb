{
 "cells": [
  {
   "cell_type": "markdown",
   "id": "editorial-rugby",
   "metadata": {},
   "source": [
    "## QUIZ - List"
   ]
  },
  {
   "cell_type": "markdown",
   "id": "helpful-suspect",
   "metadata": {},
   "source": [
    "**Q 1:**\n",
    "\n",
    "Define a function named **sum_of_list**.\n",
    "\n",
    "The parameter will be a list.\n",
    "\n",
    "The function will add all the elements in the list and return the summation result.\n",
    "\n",
    "<pre>\n",
    "Expected Output:\n",
    "nums = [1, 2, 3, 4, 5, 'a']\n",
    "sum_of_list(nums) -> 15\n",
    "</pre>"
   ]
  },
  {
   "cell_type": "code",
   "execution_count": 1,
   "id": "casual-thirty",
   "metadata": {},
   "outputs": [
    {
     "name": "stdout",
     "output_type": "stream",
     "text": [
      "15\n"
     ]
    }
   ],
   "source": [
    "# Q 1:\n",
    "\n",
    "# ---- your solution here ----\n",
    "    \n",
    "    \n",
    "# call the function you defined\n",
    "nums = [1, 2, 3, 4, 5, 'a'] \n",
    "summation = sum_of_list(nums)\n",
    "print(summation)"
   ]
  },
  {
   "cell_type": "markdown",
   "id": "efficient-principal",
   "metadata": {},
   "source": [
    "---"
   ]
  },
  {
   "cell_type": "markdown",
   "id": "adaptive-classics",
   "metadata": {},
   "source": [
    "**Q 2:**\n",
    "\n",
    "Define a function named **two_levels_sum**.\n",
    "\n",
    "The parameter will be a list of two levels (nested list).\n",
    "\n",
    "The function will add all the elements including the nested lists and return the summation result.\n",
    "\n",
    "**Hints:**\n",
    "* isdigit()\n",
    "* type()\n",
    "\n",
    "<pre>\n",
    "Expected Output:\n",
    "a_list = [[5, 8], [1, 4, 7], [10], 3, 'a']\n",
    "summation = two_levels_sum(a_list)  -> 38\n",
    "</pre>"
   ]
  },
  {
   "cell_type": "code",
   "execution_count": 2,
   "id": "cultural-description",
   "metadata": {},
   "outputs": [
    {
     "name": "stdout",
     "output_type": "stream",
     "text": [
      "38\n"
     ]
    }
   ],
   "source": [
    "# Q 2:\n",
    "\n",
    "# ---- your solution here ----\n",
    "\n",
    "\n",
    "# call the function you defined\n",
    "a_list = [[5, 8], [1, 4, 7], [10], 3, 'a']\n",
    "summation = two_levels_sum(a_list)\n",
    "print(summation)"
   ]
  },
  {
   "cell_type": "markdown",
   "id": "handmade-pointer",
   "metadata": {},
   "source": [
    "---"
   ]
  },
  {
   "cell_type": "markdown",
   "id": "continuing-persian",
   "metadata": {},
   "source": [
    "**Q 3:**\n",
    "\n",
    "The function you defined in Q2 can only add lists of two levels.\n",
    "\n",
    "Now we will convert this into a generic function that can take any levels of nested lists.\n",
    "\n",
    "Function name will be **nested_sum**.\n",
    "\n",
    "It will add all the elements of all lists including nested lists and return the overall summation result.\n",
    "\n",
    "\n",
    "**Hints:**\n",
    "* Recursion\n",
    "* isdigit()\n",
    "* type()\n",
    "\n",
    "<pre>\n",
    "Expected Output:\n",
    "a_list = [[-5, [9, 1, [6, 2]], 8], [1, 4, 7, [8, 2]], [10, [-1, 2]], 3]\n",
    "summation = nested_sum(a_list)  -> 57\n",
    "</pre>"
   ]
  },
  {
   "cell_type": "code",
   "execution_count": 3,
   "id": "whole-hollow",
   "metadata": {},
   "outputs": [
    {
     "name": "stdout",
     "output_type": "stream",
     "text": [
      "57\n"
     ]
    }
   ],
   "source": [
    "# Q 3:\n",
    "\n",
    "# ---- your solution here ----\n",
    "    \n",
    "\n",
    "# call the function you defined\n",
    "a_list = [[-5, [9, 1, [6, 2]], 8], [1, 4, 7, [8, 2]], [10, [-1, 2]], 3]\n",
    "summation = nested_sum(a_list)\n",
    "print(summation)"
   ]
  },
  {
   "cell_type": "markdown",
   "id": "retained-teach",
   "metadata": {},
   "source": [
    "---"
   ]
  },
  {
   "cell_type": "markdown",
   "id": "continuous-image",
   "metadata": {},
   "source": [
    "**Q 4:**\n",
    "\n",
    "Define a function named **squares**.\n",
    "\n",
    "It will calculate the square of each item in the list and append it to a new list.\n",
    "\n",
    "It will return the new list of squares.\n",
    "\n",
    "<pre>\n",
    "Expected Output:\n",
    "numbers = [1,2,3,4,5]\n",
    "squares(numbers)  ->   [1, 4, 9, 16, 25]\n",
    "\n",
    "</pre>"
   ]
  },
  {
   "cell_type": "code",
   "execution_count": 4,
   "id": "modular-overview",
   "metadata": {},
   "outputs": [
    {
     "name": "stdout",
     "output_type": "stream",
     "text": [
      "[1, 4, 9, 16, 25]\n"
     ]
    }
   ],
   "source": [
    "# Q 4:\n",
    "\n",
    "# ---- your solution here ----\n",
    "    \n",
    "    \n",
    "# call the function you defined\n",
    "numbers = [1,2,3,4,5]\n",
    "result = squares(numbers)\n",
    "print(result)"
   ]
  },
  {
   "cell_type": "markdown",
   "id": "aging-format",
   "metadata": {},
   "source": [
    "---"
   ]
  },
  {
   "cell_type": "markdown",
   "id": "hawaiian-impression",
   "metadata": {},
   "source": [
    "**Q 5:**\n",
    "\n",
    "Define a function named **sum_of_squares**.\n",
    "\n",
    "It will calculate the squares of items first and will add them to create items of a new list.\n",
    "\n",
    "Each item in the new list will be the sum of items from the old list starting from index 0 up to the item's index.\n",
    "\n",
    "For example in the new list the item in index 4 is going to be the sum of squares of items at indices 0-1-2-3-4 of parameter list.\n",
    "\n",
    "And it will return the new list.\n",
    "\n",
    "**Hints:**\n",
    "* use sum_of_list function you defined in Q1\n",
    "\n",
    "<pre>\n",
    "Function Call:\n",
    "a_list = [1,2,3,4,5]\n",
    "result = sum_of_squares(a_list)\n",
    "print(result)\n",
    "\n",
    "Expected Output:\n",
    "[1, 5, 15, 37, 83]\n",
    "</pre>"
   ]
  },
  {
   "cell_type": "code",
   "execution_count": 5,
   "id": "breeding-audit",
   "metadata": {},
   "outputs": [
    {
     "name": "stdout",
     "output_type": "stream",
     "text": [
      "[1, 5, 15, 37, 83]\n"
     ]
    }
   ],
   "source": [
    "# Q 5:\n",
    "\n",
    "# ---- your solution here ----\n",
    "    \n",
    "    \n",
    "# call the function you defined\n",
    "a_list = [1,2,3,4,5]\n",
    "result = sum_of_squares(a_list)\n",
    "print(result)"
   ]
  },
  {
   "cell_type": "markdown",
   "id": "dated-journal",
   "metadata": {},
   "source": [
    "---"
   ]
  },
  {
   "cell_type": "markdown",
   "id": "cross-inside",
   "metadata": {},
   "source": [
    "**Q 6:**\n",
    "\n",
    "Define a function that return the difference between items at odd indices (1,3,5...) and items at even indices (0,2,4...).\n",
    "\n",
    "The function name will be **odd_even_difference**.\n",
    "\n",
    "**Hints:**\n",
    "* index starts from zero\n",
    "* use lists and indices only\n",
    "* do not use loop\n",
    "* use sum_of_list function you defined in Q1\n",
    "\n",
    "<pre>\n",
    "Function Call:\n",
    "a_list = [1,2,3,4,5,6]\n",
    "diff = odd_even_difference(a_list)\n",
    "print(diff)\n",
    "\n",
    "Expected Output:\n",
    "3\n",
    "</pre>"
   ]
  },
  {
   "cell_type": "code",
   "execution_count": 6,
   "id": "removed-rugby",
   "metadata": {},
   "outputs": [
    {
     "name": "stdout",
     "output_type": "stream",
     "text": [
      "3\n"
     ]
    }
   ],
   "source": [
    "# Q 6:\n",
    "\n",
    "# ---- your solution here ----\n",
    "    \n",
    "    \n",
    "# call the function you defined\n",
    "a_list = [1,2,3,4,5,6]\n",
    "diff = odd_even_difference(a_list)\n",
    "print(diff)"
   ]
  },
  {
   "cell_type": "markdown",
   "id": "tested-baptist",
   "metadata": {},
   "source": [
    "---"
   ]
  },
  {
   "cell_type": "markdown",
   "id": "designing-walnut",
   "metadata": {},
   "source": [
    "**Q 7:**\n",
    "\n",
    "Define a function that crop the list parameter.\n",
    "\n",
    "The function will be **crop_the_list**.\n",
    "\n",
    "Cropping means remove the first and the last elements from the list.\n",
    "\n",
    "The function will **mutate the original list parameter** namely it will modify the list in-place.\n",
    "\n",
    "It will not return any value.\n",
    "\n",
    "Test the function and prove it mutates the list which you pass as argument.\n",
    "\n",
    "<pre>    \n",
    "Function Call:\n",
    "nums = [1,2,3,4,5,6,7]\n",
    "print('the list before passing as parameter:', nums)\n",
    "crop_the_list(nums)\n",
    "print('the list before passing as parameter:', nums)\n",
    "\n",
    "Expected Output:\n",
    "the list before passing as parameter: [1, 2, 3, 4, 5, 6, 7]\n",
    "the list before passing as parameter: [2, 3, 4, 5, 6]\n",
    "</pre>"
   ]
  },
  {
   "cell_type": "code",
   "execution_count": 7,
   "id": "color-small",
   "metadata": {},
   "outputs": [
    {
     "name": "stdout",
     "output_type": "stream",
     "text": [
      "the list before passing as parameter: [1, 2, 3, 4, 5, 6, 7]\n",
      "the list before passing as parameter: [2, 3, 4, 5, 6]\n"
     ]
    }
   ],
   "source": [
    "# Q 7:\n",
    "\n",
    "# ---- your solution here ----\n",
    "\n",
    "    \n",
    "# call the function you defined\n",
    "nums = [1,2,3,4,5,6,7]\n",
    "print('the list before passing as parameter:', nums)\n",
    "crop_the_list(nums)\n",
    "print('the list before passing as parameter:', nums)"
   ]
  },
  {
   "cell_type": "markdown",
   "id": "integrated-stereo",
   "metadata": {},
   "source": [
    "---"
   ]
  },
  {
   "cell_type": "markdown",
   "id": "incorporate-continent",
   "metadata": {},
   "source": [
    "**Q 8:**\n",
    "\n",
    "Define a function named **sort_the_list**.\n",
    "\n",
    "It will take a list and sort type (is_reverse) as parameters.\n",
    "\n",
    "**is_reverse** will be boolean and it will decide if the sort will be ascending or descending. It's default value will be False.\n",
    "* if is_reverse is True -> sort will be descending\n",
    "* if is_reverse is False -> sort will be ascending\n",
    "\n",
    "The function will return the new sorted list.\n",
    "\n",
    "**Hints:**\n",
    "* sorted()\n",
    "* no loops\n",
    "* do not mutate the original list\n",
    "\n",
    "<pre>\n",
    "Function Call:\n",
    "a = [12, 4, 2, 1, 6, 3, 45]\n",
    "print('a:', a)\n",
    "\n",
    "sorted_a = sort_the_list(a, False)\n",
    "print('sorted - ascending', sorted_a)\n",
    "\n",
    "sorted_a = sort_the_list(a, True)\n",
    "print('sorted - descending', sorted_a)\n",
    "\n",
    "print('a after sort_the_list function call:', a)\n",
    "\n",
    "Expected Output:\n",
    "a: [12, 4, 2, 1, 6, 3, 45]\n",
    "sorted - ascending [1, 2, 3, 4, 6, 12, 45]\n",
    "sorted - descending [45, 12, 6, 4, 3, 2, 1]\n",
    "a after sort_the_list function call: [12, 4, 2, 1, 6, 3, 45]\n",
    "</pre>"
   ]
  },
  {
   "cell_type": "code",
   "execution_count": 8,
   "id": "korean-modern",
   "metadata": {},
   "outputs": [
    {
     "name": "stdout",
     "output_type": "stream",
     "text": [
      "a: [12, 4, 2, 1, 6, 3, 45]\n",
      "sorted - ascending [1, 2, 3, 4, 6, 12, 45]\n",
      "sorted - descending [45, 12, 6, 4, 3, 2, 1]\n",
      "a after sort_the_list function call: [12, 4, 2, 1, 6, 3, 45]\n"
     ]
    }
   ],
   "source": [
    "# Q 8:\n",
    "\n",
    "# ---- your solution here ----\n",
    "\n",
    "\n",
    "# call the function you defined\n",
    "a = [12, 4, 2, 1, 6, 3, 45]\n",
    "print('a:', a)\n",
    "\n",
    "sorted_a = sort_the_list(a, False)\n",
    "print('sorted - ascending', sorted_a)\n",
    "\n",
    "sorted_a = sort_the_list(a, True)\n",
    "print('sorted - descending', sorted_a)\n",
    "\n",
    "print('a after sort_the_list function call:', a)"
   ]
  },
  {
   "cell_type": "markdown",
   "id": "efficient-semiconductor",
   "metadata": {},
   "source": [
    "---"
   ]
  },
  {
   "cell_type": "markdown",
   "id": "contrary-stream",
   "metadata": {},
   "source": [
    "**Q 9:**\n",
    "\n",
    "The Consecutive Numbers in Math are actually Lists in Python.\n",
    "\n",
    "**Gauss' Method for Summing Consecutive Numbers** is a method that gives you the summation of numbers.\n",
    "\n",
    "And that's how Gauss' Method works:\n",
    "* First it sorts the list in ascending order\n",
    "* Then sorts the list in descending order\n",
    "* Adds the items in both lists at the same index\n",
    "* Divides the overall summation by 2 (because each element is written 2 times)\n",
    "\n",
    "Example: Sum of all integers from 1 to 10.\n",
    "\n",
    "<pre>\n",
    "1   2   3   4   5   6   7   8   9   10\n",
    "10  9   8   7   6   5   4   3   2   1\n",
    "+   +   +   +   +   +   +   +   +   +\n",
    "11  11  11  11  11  11  11  11  11  11    (pairwise sum)\n",
    "\n",
    "Summation = 11 * 10\n",
    "Result = Summation / 2\n",
    "</pre>\n",
    "\n",
    "In this question you are going to sum all the number starting from 2 up to 100 with step size 3.\n",
    "\n",
    "You should use Gauss' Method in Python to calculate the overrall sum.\n",
    "\n",
    "The function name will be **gauss** and the parameters and default values will be:\n",
    "* start -> 1\n",
    "* end -> 100\n",
    "* step_size -> 2\n",
    "\n",
    "**Hints:**\n",
    "* use range() to create the list\n",
    "\n",
    "<pre>\n",
    "Function Call:\n",
    "conseq_sum = gauss(2, 100, 3)\n",
    "conseq_sum\n",
    "\n",
    "Expected Output:\n",
    "1650.0\n",
    "</pre>"
   ]
  },
  {
   "cell_type": "code",
   "execution_count": 9,
   "id": "inside-nudist",
   "metadata": {},
   "outputs": [
    {
     "name": "stdout",
     "output_type": "stream",
     "text": [
      "1650.0\n"
     ]
    }
   ],
   "source": [
    "# Q 9:\n",
    "\n",
    "# ---- your solution here ----\n",
    "    \n",
    "    \n",
    "# call the function you defined\n",
    "conseq_sum = gauss(2, 100, 3)\n",
    "print(conseq_sum)"
   ]
  },
  {
   "cell_type": "markdown",
   "id": "exceptional-housing",
   "metadata": {},
   "source": [
    "---"
   ]
  },
  {
   "cell_type": "markdown",
   "id": "adaptive-wallet",
   "metadata": {},
   "source": [
    "**Q 10:**\n",
    "\n",
    "Define a function to check if a given list is sorted in descending order or not.\n",
    "\n",
    "The function name will be **is_it_sorted_descending**.\n",
    "\n",
    "It will return True if the list items are in descending order, False otherwise.\n",
    "\n",
    "<pre>\n",
    "Function Calls:\n",
    "a_list = [2, 3, 4, 7]\n",
    "print(is_it_sorted_descending(a_list))\n",
    "\n",
    "a_list = [7, 7, 4, 3, 2, 1, 1]\n",
    "print(is_it_sorted_descending(a_list))\n",
    "\n",
    "a_list = ['a', 'b', 'c', 'd']\n",
    "print(is_it_sorted_descending(a_list))\n",
    "\n",
    "a_list = ['d', 'c', 'b', 'a']\n",
    "print(is_it_sorted_descending(a_list))\n",
    "\n",
    "Expected Output:\n",
    "False\n",
    "True\n",
    "False\n",
    "True\n",
    "</pre>"
   ]
  },
  {
   "cell_type": "code",
   "execution_count": 10,
   "id": "suspended-privacy",
   "metadata": {},
   "outputs": [
    {
     "name": "stdout",
     "output_type": "stream",
     "text": [
      "False\n",
      "True\n",
      "False\n",
      "True\n"
     ]
    }
   ],
   "source": [
    "# Q 10:\n",
    "\n",
    "# ---- your solution here ----\n",
    "\n",
    "    \n",
    "# call the function you defined\n",
    "a_list = [2, 3, 4, 7]\n",
    "print(is_it_sorted_descending(a_list))\n",
    "\n",
    "a_list = [7, 7, 4, 3, 2, 1, 1]\n",
    "print(is_it_sorted_descending(a_list))\n",
    "\n",
    "a_list = ['a', 'b', 'c', 'd']\n",
    "print(is_it_sorted_descending(a_list))\n",
    "\n",
    "a_list = ['d', 'c', 'b', 'a']\n",
    "print(is_it_sorted_descending(a_list))"
   ]
  }
 ],
 "metadata": {
  "kernelspec": {
   "display_name": "Python 3",
   "language": "python",
   "name": "python3"
  },
  "language_info": {
   "codemirror_mode": {
    "name": "ipython",
    "version": 3
   },
   "file_extension": ".py",
   "mimetype": "text/x-python",
   "name": "python",
   "nbconvert_exporter": "python",
   "pygments_lexer": "ipython3",
   "version": "3.8.8"
  }
 },
 "nbformat": 4,
 "nbformat_minor": 5
}
