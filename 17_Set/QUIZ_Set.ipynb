{
 "cells": [
  {
   "cell_type": "markdown",
   "id": "random-somerset",
   "metadata": {},
   "source": [
    "## QUIZ - Set"
   ]
  },
  {
   "cell_type": "markdown",
   "id": "willing-grocery",
   "metadata": {},
   "source": [
    "**Q 1:**\n",
    "\n",
    "Define a function named **create_set_and_add**.\n",
    "\n",
    "It will take a list as parameter.\n",
    "\n",
    "First it will create a set containing the elements below:\n",
    "\n",
    "\"Apple\", \"Banana\", \"Cherry\", \"Orange\"\n",
    "\n",
    "Then it will the items of the parameter list into this set.\n",
    "\n",
    "And finally it will return the final set.\n",
    "\n",
    "**Hints:**\n",
    "* {}\n",
    "* add()\n",
    "\n",
    "<pre style=\"background: gold\">\n",
    "Parameter:\n",
    "list_to_add = ['Cranberry', 'Grape', 'Pineapple', 'Mango']\n",
    "\n",
    "Expected Output:\n",
    "(the order of items may change, because sets are unordered collections)\n",
    "{'Mango', 'Apple', 'Cranberry', 'Banana', 'Cherry', 'Grape', 'Pineapple', 'Orange'}\n",
    "</pre>"
   ]
  },
  {
   "cell_type": "code",
   "execution_count": 1,
   "id": "danish-insurance",
   "metadata": {},
   "outputs": [
    {
     "name": "stdout",
     "output_type": "stream",
     "text": [
      "{'Pineapple', 'Apple', 'Mango', 'Orange', 'Grape', 'Cherry', 'Cranberry', 'Banana'}\n"
     ]
    }
   ],
   "source": [
    "# Q 1:\n",
    "\n",
    "# ---- your solution here ----\n",
    "    \n",
    "    \n",
    "# call the function you defined\n",
    "list_to_add = ['Cranberry', 'Grape', 'Pineapple', 'Mango']\n",
    "all_fruits = create_set_and_add(list_to_add)\n",
    "print(all_fruits)"
   ]
  },
  {
   "cell_type": "markdown",
   "id": "threaded-fetish",
   "metadata": {},
   "source": [
    "---"
   ]
  },
  {
   "cell_type": "markdown",
   "id": "documented-booking",
   "metadata": {},
   "source": [
    "**Q 2:**\n",
    "\n",
    "Define a function named **create_set_and_add_all_at_once**.\n",
    "\n",
    "It will take a list as parameter.\n",
    "\n",
    "First it will create a set containing the elements below:\n",
    "\n",
    "\"Apple\", \"Banana\", \"Cherry\", \"Orange\"\n",
    "\n",
    "Then it will the items of the parameter list into this set (all at once).\n",
    "\n",
    "And finally it will return the final set.\n",
    "\n",
    "**Hints:**\n",
    "* set()\n",
    "* update()\n",
    "\n",
    "<pre style=\"background: gold\">\n",
    "Parameter:\n",
    "list_to_add = ['Cranberry', 'Grape', 'Pineapple', 'Mango']\n",
    "\n",
    "Expected Output:\n",
    "{'Mango', 'Apple', 'Cranberry', 'Banana', 'Cherry', 'Grape', 'Pineapple', 'Orange'}\n",
    "</pre>"
   ]
  },
  {
   "cell_type": "code",
   "execution_count": 2,
   "id": "specified-grove",
   "metadata": {},
   "outputs": [
    {
     "name": "stdout",
     "output_type": "stream",
     "text": [
      "{'Pineapple', 'Apple', 'Mango', 'Another Fruit', 'Orange', 'Grape', 'Cherry', 'Cranberry', 'Banana'}\n"
     ]
    }
   ],
   "source": [
    "# Q 2:\n",
    "\n",
    "# ---- your solution here ----\n",
    "\n",
    "\n",
    "# call the function you defined\n",
    "list_to_add = ['Cranberry', 'Grape', 'Pineapple', 'Mango', 'Another Fruit']\n",
    "all_fruits = create_set_and_add_all_at_once(list_to_add)\n",
    "print(all_fruits)"
   ]
  },
  {
   "cell_type": "markdown",
   "id": "former-saint",
   "metadata": {},
   "source": [
    "---"
   ]
  },
  {
   "cell_type": "markdown",
   "id": "thick-wrist",
   "metadata": {},
   "source": [
    "**Q 3:**\n",
    "\n",
    "Define a function named **same_elements**.\n",
    "\n",
    "It will take two Sets as parameters.\n",
    "\n",
    "The function will return the same elements (intersection) of both sets in a List.\n",
    "\n",
    "And this list is going to be sorted in ascending order.\n",
    "\n",
    "**Hints:**\n",
    "* no loops\n",
    "* intersection()\n",
    "* sorted()\n",
    "\n",
    "<pre style=\"background: gold\">\n",
    "Parameters:\n",
    "set_1 = {10, 20, 30, 40, 50, 60}\n",
    "set_2 = {20, 40, 60, 80, 90, 100}\n",
    "\n",
    "Expected Output:\n",
    "[20, 40, 60]\n",
    "</pre>"
   ]
  },
  {
   "cell_type": "code",
   "execution_count": 3,
   "id": "parallel-devices",
   "metadata": {},
   "outputs": [
    {
     "name": "stdout",
     "output_type": "stream",
     "text": [
      "[20, 40, 60]\n"
     ]
    }
   ],
   "source": [
    "# Q 3:\n",
    "\n",
    "# ---- your solution here ----\n",
    "    \n",
    "    \n",
    "# call the function you defined\n",
    "set_1 = {10, 20, 30, 40, 50, 60}\n",
    "set_2 = {20, 40, 60, 80, 90, 100}\n",
    "intersection = same_elements(set_1, set_2)\n",
    "print(intersection)"
   ]
  },
  {
   "cell_type": "markdown",
   "id": "outside-bolivia",
   "metadata": {},
   "source": [
    "---"
   ]
  },
  {
   "cell_type": "markdown",
   "id": "incorporated-shelf",
   "metadata": {},
   "source": [
    "**Q 4:**\n",
    "\n",
    "\n",
    "Define a function named **all_elements**.\n",
    "\n",
    "It will take two Sets as parameters.\n",
    "\n",
    "The function will return all the elements (union) of both sets in a List.\n",
    "\n",
    "And this list is going to be sorted in ascending order.\n",
    "\n",
    "**Hints:**\n",
    "* no loops\n",
    "* union()\n",
    "* sort()\n",
    "\n",
    "<pre style=\"background: gold\">\n",
    "Parameters:\n",
    "set_1 = {10, 20, 30, 40, 50, 60}\n",
    "set_2 = {20, 40, 60, 80, 90, 100}\n",
    "\n",
    "Expected Output:\n",
    "[100, 90, 80, 60, 50, 40, 30, 20, 10]\n",
    "</pre>"
   ]
  },
  {
   "cell_type": "code",
   "execution_count": 4,
   "id": "touched-burns",
   "metadata": {},
   "outputs": [
    {
     "name": "stdout",
     "output_type": "stream",
     "text": [
      "[10, 20, 30, 40, 50, 60, 80, 90, 100]\n"
     ]
    }
   ],
   "source": [
    "# Q 4:\n",
    "\n",
    "# ---- your solution here ----\n",
    "    \n",
    "    \n",
    "# call the function you defined\n",
    "set_1 = {10, 20, 30, 40, 50, 60}\n",
    "set_2 = {20, 40, 60, 80, 90, 100}\n",
    "union = all_elements(set_1, set_2)\n",
    "print(union)"
   ]
  },
  {
   "cell_type": "markdown",
   "id": "enhanced-karen",
   "metadata": {},
   "source": [
    "---"
   ]
  },
  {
   "cell_type": "markdown",
   "id": "prescribed-carol",
   "metadata": {},
   "source": [
    "**Q 5:**\n",
    "\n",
    "Define a function named **get_difference**.\n",
    "\n",
    "It will take two lists (list_1, list_2) as parameters.\n",
    "\n",
    "The function will return the Set of elements which are in list_1 but not in list_2.\n",
    "\n",
    "\n",
    "**Hints:**\n",
    "* no loops\n",
    "* set()\n",
    "* difference()\n",
    "\n",
    "<pre style=\"background: gold\">\n",
    "Parameters:\n",
    "l_1 = [1, 2, 3, 4, 5, 6, 7, 8, 9]\n",
    "l_2 = [2, 4, 6, 8]\n",
    "\n",
    "Expected Output:\n",
    "{1, 3, 5, 7, 9}\n",
    "</pre>"
   ]
  },
  {
   "cell_type": "code",
   "execution_count": 5,
   "id": "mineral-updating",
   "metadata": {},
   "outputs": [
    {
     "name": "stdout",
     "output_type": "stream",
     "text": [
      "{1, 3, 5, 7, 9}\n"
     ]
    }
   ],
   "source": [
    "# Q 5:\n",
    "\n",
    "# ---- your solution here ----\n",
    "    \n",
    "    \n",
    "# call the function you defined\n",
    "l_1 = [1, 2, 3, 4, 5, 6, 7, 8, 9]\n",
    "l_2 = [2, 4, 6, 8]\n",
    "diff = get_difference(l_1, l_2)\n",
    "print(diff)"
   ]
  },
  {
   "cell_type": "markdown",
   "id": "figured-hotel",
   "metadata": {},
   "source": [
    "---"
   ]
  },
  {
   "cell_type": "markdown",
   "id": "protected-aquarium",
   "metadata": {},
   "source": [
    "**Q 6:**\n",
    "\n",
    "Define a function named **is_completely_different**.\n",
    "\n",
    "It will check if two sets (parameters) are completely different or not.\n",
    "\n",
    "Completely different means they have no elements in common.\n",
    "\n",
    "* If they are completely different it will return -> \"They are completely different.\"\n",
    "* If they have any elements in common it will return -> \"They are not completely different.\"\n",
    "\n",
    "The function will also check if the two parameters are Set or not.\n",
    "\n",
    "If any of them is not a Set it will raise an Exception as \"Parameters must be of Set type.\"\n",
    "\n",
    "**Hints:**\n",
    "* no loops\n",
    "* completely different: `isdisjoint()`\n",
    "* isinstance()\n",
    "* raise Exception()\n",
    "\n",
    "<pre style=\"background: gold\">\n",
    "Parameters:\n",
    "set_1 = {20, 10, 40, 30, 50}\n",
    "set_2 = {60, 80, 70, 100, 90}\n",
    "Expected Output:\n",
    "'They are completely different.'\n",
    "\n",
    "----------------------------------------\n",
    "Parameters:\n",
    "set_1 = {20, 10, 40, 30, 50, 60}\n",
    "set_2 = {60, 80, 70, 90, 40, 10}\n",
    "Expected Output:\n",
    "'They are not completely different.'\n",
    "</pre>"
   ]
  },
  {
   "cell_type": "code",
   "execution_count": 6,
   "id": "alike-graph",
   "metadata": {},
   "outputs": [
    {
     "name": "stdout",
     "output_type": "stream",
     "text": [
      "They are completely different.\n",
      "They are not completely different.\n"
     ]
    }
   ],
   "source": [
    "# Q 6:\n",
    "\n",
    "# ---- your solution here ----\n",
    "    \n",
    "    \n",
    "# call the function you defined\n",
    "set_1 = {20, 10, 40, 30, 50}\n",
    "set_2 = {60, 80, 70, 100, 90}\n",
    "print(is_completely_different(set_1, set_2))\n",
    "\n",
    "set_1 = {20, 10, 40, 30, 50, 60}\n",
    "set_2 = {60, 80, 70, 90, 40, 10}\n",
    "print(is_completely_different(set_1, set_2))"
   ]
  },
  {
   "cell_type": "markdown",
   "id": "professional-drunk",
   "metadata": {},
   "source": [
    "---"
   ]
  },
  {
   "cell_type": "markdown",
   "id": "dynamic-dance",
   "metadata": {},
   "source": [
    "**Q 7:**\n",
    "\n",
    "Define a function named **is_completely_different_2**.\n",
    "\n",
    "It will check if two sets (parameters) are completely different or not.\n",
    "\n",
    "Completely different means they have no elements in common.\n",
    "\n",
    "* If they are completely different it will return -> \"They are completely different.\"\n",
    "* If they have any elements in common it will return -> \"They are not completely different:\"\n",
    "    * And it will give the common elements in a set\n",
    "\n",
    "The function will also check if the two parameters are Set or not.\n",
    "\n",
    "If any of them is not a Set it will raise an Exception as \"Parameters must be of Set type.\"\n",
    "\n",
    "**Hints:**\n",
    "* no loops\n",
    "* completely different: `isdisjoint()`\n",
    "* isinstance()\n",
    "* raise Exception()\n",
    "\n",
    "<pre style=\"background: gold\">\n",
    "Parameters:\n",
    "set_1 = {20, 10, 40, 30, 50}\n",
    "set_2 = {60, 80, 70, 100, 90}\n",
    "Expected Output:\n",
    "'They are completely different.'\n",
    "\n",
    "----------------------------------------\n",
    "Parameters:\n",
    "set_1 = {20, 10, 40, 30, 50, 60}\n",
    "set_2 = {60, 80, 70, 90, 40, 10}\n",
    "Expected Output:\n",
    "'They are not completely different: {40, 10, 60}'\n",
    "</pre>"
   ]
  },
  {
   "cell_type": "code",
   "execution_count": 7,
   "id": "improved-banner",
   "metadata": {},
   "outputs": [
    {
     "name": "stdout",
     "output_type": "stream",
     "text": [
      "They are completely different.\n",
      "They are not completely different: {40, 10, 60}\n"
     ]
    }
   ],
   "source": [
    "# Q 7:\n",
    "\n",
    "# ---- your solution here ----\n",
    "\n",
    "        \n",
    "# call the function you defined\n",
    "set_1 = {20, 10, 40, 30, 50}\n",
    "set_2 = {60, 80, 70, 100, 90}\n",
    "print(is_completely_different_2(set_1, set_2))\n",
    "\n",
    "set_1 = {20, 10, 40, 30, 50, 60}\n",
    "set_2 = {60, 80, 70, 90, 40, 10}\n",
    "print(is_completely_different_2(set_1, set_2))"
   ]
  },
  {
   "cell_type": "markdown",
   "id": "crucial-gateway",
   "metadata": {},
   "source": [
    "---"
   ]
  },
  {
   "cell_type": "markdown",
   "id": "noticed-planet",
   "metadata": {},
   "source": [
    "**Q 8:**\n",
    "\n",
    "Define a function named **copy_and_clear**.\n",
    "\n",
    "It will take a Set as parameter.\n",
    "\n",
    "And it will clear (remove all elements) this Set but copy its elements into another Set.\n",
    "\n",
    "Finally it will return this new Set.\n",
    "\n",
    "**Hints:**\n",
    "* no loops\n",
    "* copy()\n",
    "* clear()\n",
    "* remember Pass by Reference\n",
    "\n",
    "<pre style=\"background: gold\">\n",
    "Parameter:\n",
    "set1 = {'A', 'B', 'C', 'D', 'E'}\n",
    "\n",
    "Expected Output:\n",
    "(the order of items may change, because sets are unordered collections)\n",
    "before the function call -> set1: {'E', 'C', 'D', 'B', 'A'}\n",
    "after the function call -> set1: set()\n",
    "set1_copy: {'D', 'B', 'E', 'A', 'C'}\n",
    "</pre>"
   ]
  },
  {
   "cell_type": "code",
   "execution_count": 8,
   "id": "banned-median",
   "metadata": {},
   "outputs": [
    {
     "name": "stdout",
     "output_type": "stream",
     "text": [
      "before the function call -> set1: {'E', 'C', 'D', 'A', 'B'}\n",
      "after the function call -> set1: set()\n",
      "set1_copy: {'E', 'C', 'A', 'B', 'D'}\n"
     ]
    }
   ],
   "source": [
    "# Q 8:\n",
    "\n",
    "# ---- your solution here ----\n",
    "    \n",
    "    \n",
    "# call the function you defined\n",
    "set1 = {'A', 'B', 'C', 'D', 'E'}\n",
    "print('before the function call -> set1:', set1)\n",
    "set1_copy = copy_and_clear(set1)\n",
    "print('after the function call -> set1:', set1)\n",
    "print('set1_copy:', set1_copy)"
   ]
  },
  {
   "cell_type": "markdown",
   "id": "massive-monitoring",
   "metadata": {},
   "source": [
    "---"
   ]
  },
  {
   "cell_type": "markdown",
   "id": "iraqi-mobile",
   "metadata": {},
   "source": [
    "**Q 9:**\n",
    "\n",
    "Define a function named **remove_common_elements**.\n",
    "\n",
    "It will take two Sets (set_1, set_2) as parameters.\n",
    "\n",
    "The function will remove the elements of set_1 which are also in set_2.\n",
    "\n",
    "And this operation will change the original sets. \n",
    "\n",
    "Namely it will mutate the parameter.\n",
    "\n",
    "**Hints:**\n",
    "* no loops\n",
    "* difference_update()\n",
    "\n",
    "<pre style=\"background: gold\">\n",
    "Parameters:\n",
    "set_1 = {'a', 'b', 'c', 'd', 'e', 'f'}\n",
    "set_2 = {'d', 'b', 'e', 'f', 'h', 'g'}\n",
    "\n",
    "Expected Output:\n",
    "(the order of items may change, because sets are unordered collections)\n",
    "before the function -> set_1: {'c', 'a', 'b', 'f', 'd', 'e'}\n",
    "after the function -> set_1: {'c', 'a'}\n",
    "</pre>"
   ]
  },
  {
   "cell_type": "code",
   "execution_count": 9,
   "id": "statutory-nashville",
   "metadata": {},
   "outputs": [
    {
     "name": "stdout",
     "output_type": "stream",
     "text": [
      "before the function -> set_1: {'d', 'b', 'c', 'a', 'e', 'f'}\n",
      "after the function -> set_1: {'c', 'a'}\n"
     ]
    }
   ],
   "source": [
    "# Q 9:\n",
    "\n",
    "# ---- your solution here ----\n",
    "        \n",
    "        \n",
    "# call the function you defined\n",
    "set_1 = {'a', 'b', 'c', 'd', 'e', 'f'}\n",
    "set_2 = {'d', 'b', 'e', 'f', 'h', 'g'}\n",
    "print('before the function -> set_1:', set_1)\n",
    "remove_common_elements(set_1, set_2)\n",
    "print('after the function -> set_1:', set_1)"
   ]
  },
  {
   "cell_type": "markdown",
   "id": "appreciated-nudist",
   "metadata": {},
   "source": [
    "---"
   ]
  },
  {
   "cell_type": "markdown",
   "id": "sacred-margin",
   "metadata": {},
   "source": [
    "**Q 10:**\n",
    "\n",
    "Define a function named **which_one_is_superset**.\n",
    "\n",
    "It will take two Sets (set_1, set_2) as parameters.\n",
    "\n",
    "If set_1 is the superset of set_2 it will return:\n",
    "* \"set_1: {....} is superset of set_2: {....}\"\n",
    "\n",
    "It the opposite is true it will return:\n",
    "* \"set_2: {....} is superset of set_1: {....}\"\n",
    "\n",
    "Here \"{....}\" are set elements.\n",
    "\n",
    "**Hints:**\n",
    "* no loop\n",
    "* issuperset()\n",
    "\n",
    "<pre style=\"background: gold\">\n",
    "Parameters:\n",
    "set_1 = {'a', 'b', 'c', 'd'}\n",
    "set_2 = {'d', 'b', 'e', 'f', 'a', 'c'}\n",
    "Expected Output:\n",
    "\"set_2: {'c', 'a', 'b', 'f', 'd', 'e'} is superset of set_1: {'b', 'c', 'd', 'a'}.\"\n",
    "\n",
    "----------------------------\n",
    "Parameters:\n",
    "set_1 = {'d', 'b', 'e', 'f', 'a', 'c'}\n",
    "set_2 = {'a', 'b', 'c', 'd'}\n",
    "Expected Output:\n",
    "\"set_1: {'c', 'a', 'b', 'f', 'd', 'e'} is superset of set_2: {'b', 'c', 'd', 'a'}\"\n",
    "</pre>"
   ]
  },
  {
   "cell_type": "code",
   "execution_count": 10,
   "id": "continent-secretary",
   "metadata": {},
   "outputs": [
    {
     "name": "stdout",
     "output_type": "stream",
     "text": [
      "set_2: {'d', 'b', 'c', 'a', 'e', 'f'} is superset of set_1: {'b', 'd', 'a', 'c'}.\n",
      "set_1: {'d', 'b', 'c', 'a', 'e', 'f'} is superset of set_2: {'b', 'd', 'a', 'c'}\n"
     ]
    }
   ],
   "source": [
    "# Q 10:\n",
    "\n",
    "# ---- your solution here ----\n",
    "    \n",
    "    \n",
    "# call the function you defined\n",
    "set_1 = {'a', 'b', 'c', 'd'}\n",
    "set_2 = {'d', 'b', 'e', 'f', 'a', 'c'}\n",
    "print(which_one_is_superset(set_1, set_2))\n",
    "\n",
    "set_1 = {'d', 'b', 'e', 'f', 'a', 'c'}\n",
    "set_2 = {'a', 'b', 'c', 'd'}\n",
    "print(which_one_is_superset(set_1, set_2))"
   ]
  }
 ],
 "metadata": {
  "kernelspec": {
   "display_name": "Python 3",
   "language": "python",
   "name": "python3"
  },
  "language_info": {
   "codemirror_mode": {
    "name": "ipython",
    "version": 3
   },
   "file_extension": ".py",
   "mimetype": "text/x-python",
   "name": "python",
   "nbconvert_exporter": "python",
   "pygments_lexer": "ipython3",
   "version": "3.8.8"
  }
 },
 "nbformat": 4,
 "nbformat_minor": 5
}
