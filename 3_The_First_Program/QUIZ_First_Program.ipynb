{
 "cells": [
  {
   "cell_type": "markdown",
   "id": "finished-interaction",
   "metadata": {},
   "source": [
    "## QUIZ - First Program"
   ]
  },
  {
   "cell_type": "markdown",
   "id": "ordered-float",
   "metadata": {},
   "source": [
    "**Q 1:**\n",
    "\n",
    "How many seconds are there in 24 minutes and 36 seconds?\n",
    "\n",
    "Answer: 1476"
   ]
  },
  {
   "cell_type": "code",
   "execution_count": null,
   "id": "blond-uncertainty",
   "metadata": {},
   "outputs": [],
   "source": []
  },
  {
   "cell_type": "markdown",
   "id": "accurate-reproduction",
   "metadata": {},
   "source": [
    "**Q 2:** \n",
    "\n",
    "The Batmobile, having average speed of 80 km/hour will travel from Gotham to Arkham.\n",
    "We know the distance between Gotham and Arkham, which is 450 km's.\n",
    "How many minutes will it take for Batmobile to travel from Gotham to Arkham?\n",
    "\n",
    "Answer: 337.5"
   ]
  },
  {
   "cell_type": "code",
   "execution_count": null,
   "id": "subtle-cookie",
   "metadata": {},
   "outputs": [],
   "source": []
  },
  {
   "cell_type": "markdown",
   "id": "transparent-police",
   "metadata": {},
   "source": [
    "**Q 3:**\n",
    "\n",
    "What is the result of 2 to the power of 14?\n",
    "\n",
    "Answer: 16384"
   ]
  },
  {
   "cell_type": "code",
   "execution_count": null,
   "id": "driving-safety",
   "metadata": {},
   "outputs": [],
   "source": []
  },
  {
   "cell_type": "markdown",
   "id": "headed-albany",
   "metadata": {},
   "source": [
    "**Q 4:**\n",
    "\n",
    "Can you print \"Python, I love you :)\" on the screen?\n",
    "\n",
    "Answer: Python, I love you :)"
   ]
  },
  {
   "cell_type": "code",
   "execution_count": null,
   "id": "complicated-jumping",
   "metadata": {},
   "outputs": [],
   "source": []
  },
  {
   "cell_type": "markdown",
   "id": "chinese-contrary",
   "metadata": {},
   "source": [
    "**Q 5:**\n",
    "\n",
    "Can you find the type of number 15?\n",
    "\n",
    "Answer: <class 'int'>"
   ]
  },
  {
   "cell_type": "code",
   "execution_count": null,
   "id": "third-orientation",
   "metadata": {},
   "outputs": [],
   "source": []
  },
  {
   "cell_type": "markdown",
   "id": "excessive-worship",
   "metadata": {},
   "source": [
    "**Q 6:**\n",
    "\n",
    "Can you print the type of text \"15\"?\n",
    "\n",
    "Answer: <class 'str'>"
   ]
  },
  {
   "cell_type": "code",
   "execution_count": null,
   "id": "collect-fancy",
   "metadata": {},
   "outputs": [],
   "source": []
  },
  {
   "cell_type": "markdown",
   "id": "opposed-magic",
   "metadata": {},
   "source": [
    "**Q 7:**\n",
    "\n",
    "What is the remainder when we divide 49 by 5?\n",
    "\n",
    "Answer: 4"
   ]
  },
  {
   "cell_type": "code",
   "execution_count": null,
   "id": "noble-institute",
   "metadata": {},
   "outputs": [],
   "source": []
  },
  {
   "cell_type": "markdown",
   "id": "atmospheric-craft",
   "metadata": {},
   "source": [
    "**Q 8:**\n",
    "\n",
    "What is the floor division (integer division) result of dividing 49 by 5?\n",
    "\n",
    "Answer: 9"
   ]
  },
  {
   "cell_type": "code",
   "execution_count": null,
   "id": "naked-canon",
   "metadata": {},
   "outputs": [],
   "source": []
  },
  {
   "cell_type": "markdown",
   "id": "behavioral-southwest",
   "metadata": {},
   "source": [
    "**Q 9:**\n",
    "\n",
    "What is the average of sum of squares of integers from 1 to 5?\n",
    "\n",
    "(average of this sum -> $1^2 + 2^2 + 3^2 + 4^2 + 5^2$)\n",
    "\n",
    "Answer: 11.0"
   ]
  },
  {
   "cell_type": "code",
   "execution_count": null,
   "id": "demanding-yacht",
   "metadata": {},
   "outputs": [],
   "source": []
  },
  {
   "cell_type": "markdown",
   "id": "narrative-sculpture",
   "metadata": {},
   "source": [
    "**Q 10:**\n",
    "\n",
    "Solve this equation with Python:\n",
    "\n",
    "$$ x^2 = 4^3 + 17 $$\n",
    "\n",
    "What is the value of x?\n",
    "\n",
    "Answer: 9.0"
   ]
  },
  {
   "cell_type": "code",
   "execution_count": null,
   "id": "capable-poison",
   "metadata": {},
   "outputs": [],
   "source": []
  }
 ],
 "metadata": {
  "kernelspec": {
   "display_name": "Python 3",
   "language": "python",
   "name": "python3"
  },
  "language_info": {
   "codemirror_mode": {
    "name": "ipython",
    "version": 3
   },
   "file_extension": ".py",
   "mimetype": "text/x-python",
   "name": "python",
   "nbconvert_exporter": "python",
   "pygments_lexer": "ipython3",
   "version": "3.8.8"
  }
 },
 "nbformat": 4,
 "nbformat_minor": 5
}
