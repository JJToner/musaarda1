{
 "cells": [
  {
   "cell_type": "markdown",
   "id": "ultimate-rider",
   "metadata": {},
   "source": [
    "## [10 Questions] QUIZ - First Program"
   ]
  },
  {
   "cell_type": "markdown",
   "id": "amateur-norwegian",
   "metadata": {},
   "source": [
    "**Q 1:**\n",
    "\n",
    "How many seconds are there in 24 minutes and 36 seconds?\n",
    "\n",
    "Answer: 1476"
   ]
  },
  {
   "cell_type": "code",
   "execution_count": 4,
   "id": "outside-preference",
   "metadata": {},
   "outputs": [
    {
     "data": {
      "text/plain": [
       "276"
      ]
     },
     "execution_count": 4,
     "metadata": {},
     "output_type": "execute_result"
    }
   ],
   "source": []
  },
  {
   "cell_type": "markdown",
   "id": "metropolitan-complement",
   "metadata": {},
   "source": [
    "**Q 2:** \n",
    "\n",
    "The Batmobile, having average speed of 80 km/hour will travel from Gotham to Arkham.\n",
    "We know the distance between Gotham and Arkham, which is 450 km's.\n",
    "How many minutes will it take for Batmobile to travel from Gotham to Arkham?\n",
    "\n",
    "Answer: 337.5"
   ]
  },
  {
   "cell_type": "code",
   "execution_count": 3,
   "id": "popular-circle",
   "metadata": {},
   "outputs": [
    {
     "data": {
      "text/plain": [
       "337.5"
      ]
     },
     "execution_count": 3,
     "metadata": {},
     "output_type": "execute_result"
    }
   ],
   "source": []
  },
  {
   "cell_type": "markdown",
   "id": "comprehensive-characteristic",
   "metadata": {},
   "source": [
    "**Q 3:**\n",
    "\n",
    "What is 14'th power of 2?\n",
    "\n",
    "Answer: 16384"
   ]
  },
  {
   "cell_type": "code",
   "execution_count": 4,
   "id": "imperial-boxing",
   "metadata": {},
   "outputs": [
    {
     "data": {
      "text/plain": [
       "16384"
      ]
     },
     "execution_count": 4,
     "metadata": {},
     "output_type": "execute_result"
    }
   ],
   "source": []
  },
  {
   "cell_type": "markdown",
   "id": "opening-lender",
   "metadata": {},
   "source": [
    "**Q 4:**\n",
    "\n",
    "Can you print \"Python, I love you :)\" on the screen?\n",
    "\n",
    "Answer: Python, I love you :)"
   ]
  },
  {
   "cell_type": "code",
   "execution_count": 1,
   "id": "blond-induction",
   "metadata": {},
   "outputs": [
    {
     "name": "stdout",
     "output_type": "stream",
     "text": [
      "Python, I love you :)\n"
     ]
    }
   ],
   "source": []
  },
  {
   "cell_type": "markdown",
   "id": "effective-pressing",
   "metadata": {},
   "source": [
    "**Q 5:**\n",
    "\n",
    "Can you print the type of number 15?\n",
    "\n",
    "Answer: <class 'int'>"
   ]
  },
  {
   "cell_type": "code",
   "execution_count": 6,
   "id": "intimate-delta",
   "metadata": {},
   "outputs": [
    {
     "name": "stdout",
     "output_type": "stream",
     "text": [
      "<class 'int'>\n"
     ]
    }
   ],
   "source": []
  },
  {
   "cell_type": "markdown",
   "id": "external-plane",
   "metadata": {},
   "source": [
    "**Q 6:**\n",
    "\n",
    "Can you print the type of \"Hi Python\" expression?\n",
    "\n",
    "Answer: <class 'str'>"
   ]
  },
  {
   "cell_type": "code",
   "execution_count": 2,
   "id": "endangered-berry",
   "metadata": {},
   "outputs": [
    {
     "name": "stdout",
     "output_type": "stream",
     "text": [
      "<class 'str'>\n"
     ]
    }
   ],
   "source": []
  },
  {
   "cell_type": "markdown",
   "id": "consecutive-significance",
   "metadata": {},
   "source": [
    "**Q 6:**\n",
    "\n",
    "Can you print the type of text \"15\"?\n",
    "\n",
    "Answer: <class 'str'>"
   ]
  },
  {
   "cell_type": "code",
   "execution_count": 3,
   "id": "satisfied-statistics",
   "metadata": {},
   "outputs": [
    {
     "name": "stdout",
     "output_type": "stream",
     "text": [
      "<class 'str'>\n"
     ]
    }
   ],
   "source": []
  },
  {
   "cell_type": "markdown",
   "id": "invisible-bedroom",
   "metadata": {},
   "source": [
    "**Q 7:**\n",
    "\n",
    "What is the remainder when we divide 49 by 5?\n",
    "\n",
    "Answer: 4"
   ]
  },
  {
   "cell_type": "code",
   "execution_count": 10,
   "id": "civil-connecticut",
   "metadata": {},
   "outputs": [
    {
     "name": "stdout",
     "output_type": "stream",
     "text": [
      "4\n"
     ]
    }
   ],
   "source": []
  },
  {
   "cell_type": "markdown",
   "id": "impressive-cooling",
   "metadata": {},
   "source": [
    "**Q 8:**\n",
    "\n",
    "What is the floor division (integer division) result of dividing 49 by 5?\n",
    "\n",
    "Answer: 9"
   ]
  },
  {
   "cell_type": "code",
   "execution_count": 11,
   "id": "forced-teaching",
   "metadata": {},
   "outputs": [
    {
     "data": {
      "text/plain": [
       "9"
      ]
     },
     "execution_count": 11,
     "metadata": {},
     "output_type": "execute_result"
    }
   ],
   "source": []
  },
  {
   "cell_type": "markdown",
   "id": "nearby-stress",
   "metadata": {},
   "source": [
    "**Q 9:**\n",
    "\n",
    "What is the average of sum of squares of integers from 1 to 5?\n",
    "\n",
    "(average of this sum -> $1^2 + 2^2 + 3^2 + 4^2 + 5^2$)\n",
    "\n",
    "Answer: 11.0"
   ]
  },
  {
   "cell_type": "code",
   "execution_count": 13,
   "id": "hazardous-liberty",
   "metadata": {},
   "outputs": [
    {
     "data": {
      "text/plain": [
       "11.0"
      ]
     },
     "execution_count": 13,
     "metadata": {},
     "output_type": "execute_result"
    }
   ],
   "source": []
  },
  {
   "cell_type": "markdown",
   "id": "original-samuel",
   "metadata": {},
   "source": [
    "**Q 10:**\n",
    "\n",
    "Solve this equation with Python:\n",
    "\n",
    "$$ x^2 = 4^3 + 17 $$\n",
    "\n",
    "What is the value of x?\n",
    "\n",
    "Answer: 9.0"
   ]
  },
  {
   "cell_type": "code",
   "execution_count": 14,
   "id": "turned-verse",
   "metadata": {},
   "outputs": [
    {
     "data": {
      "text/plain": [
       "9.0"
      ]
     },
     "execution_count": 14,
     "metadata": {},
     "output_type": "execute_result"
    }
   ],
   "source": []
  }
 ],
 "metadata": {
  "kernelspec": {
   "display_name": "Python 3",
   "language": "python",
   "name": "python3"
  },
  "language_info": {
   "codemirror_mode": {
    "name": "ipython",
    "version": 3
   },
   "file_extension": ".py",
   "mimetype": "text/x-python",
   "name": "python",
   "nbconvert_exporter": "python",
   "pygments_lexer": "ipython3",
   "version": "3.8.8"
  }
 },
 "nbformat": 4,
 "nbformat_minor": 5
}
