{
 "cells": [
  {
   "cell_type": "markdown",
   "id": "infectious-protocol",
   "metadata": {},
   "source": [
    "## QUIZ - Comprehension"
   ]
  },
  {
   "cell_type": "markdown",
   "id": "assumed-airplane",
   "metadata": {},
   "source": [
    "**Q 1:**\n",
    "\n",
    "Define two functions named **get_squares** and **get_squares_comp**.\n",
    "\n",
    "They will give the list of squares of numbers from 1 to 10 (exc.).\n",
    "\n",
    "The first function will use for loops and the second one will use Comprehension.\n",
    "\n",
    "<pre style=\"background: gold\">\n",
    "Expected Output:\n",
    "[1, 4, 9, 16, 25, 36, 49, 64, 81]\n",
    "</pre>"
   ]
  },
  {
   "cell_type": "code",
   "execution_count": 1,
   "id": "driven-minute",
   "metadata": {},
   "outputs": [
    {
     "name": "stdout",
     "output_type": "stream",
     "text": [
      "[1, 4, 9, 16, 25, 36, 49, 64, 81]\n",
      "[1, 4, 9, 16, 25, 36, 49, 64, 81]\n"
     ]
    }
   ],
   "source": [
    "# Q 1:\n",
    "\n",
    "# for loop\n",
    "# ---- your solution here ----\n",
    "    \n",
    "    \n",
    "# call the function you defined\n",
    "squares = get_squares()\n",
    "print(squares)\n",
    "\n",
    "\n",
    "# comprehension\n",
    "# ---- your solution here ----\n",
    "\n",
    "\n",
    "# call the function you defined\n",
    "sqrs = get_squares_comp()\n",
    "print(sqrs)"
   ]
  },
  {
   "cell_type": "markdown",
   "id": "viral-divide",
   "metadata": {},
   "source": [
    "---"
   ]
  },
  {
   "cell_type": "markdown",
   "id": "brave-filename",
   "metadata": {},
   "source": [
    "**Q 2:**\n",
    "\n",
    "Define two functions named **get_sentences** and **get_sentences_comp**.\n",
    "\n",
    "They will take a paragraph as parameter.\n",
    "\n",
    "And they will return the sentences as list.\n",
    "\n",
    "The first function will use for loops and second one will use Comprehension.\n",
    "\n",
    "<pre style=\"background: gold\">\n",
    "paragraph = \"Lorem ipsum dolor sit amet, consectetur adipiscing elit. Ut enim ad minim veniam, quis nostrud exercitation ullamco. Duis aute irure dolor in reprehenderit in voluptate velit esse. Excepteur sint occaecat cupidatat non proident.\"\n",
    "\n",
    "Expected Output:\n",
    "['Lorem ipsum dolor sit amet, consectetur adipiscing elit', 'Ut enim ad minim veniam, quis nostrud exercitation ullamco', 'Duis aute irure dolor in reprehenderit in voluptate velit esse', 'Excepteur sint occaecat cupidatat non proident.']\n",
    "</pre>"
   ]
  },
  {
   "cell_type": "code",
   "execution_count": 2,
   "id": "optional-momentum",
   "metadata": {},
   "outputs": [
    {
     "name": "stdout",
     "output_type": "stream",
     "text": [
      "['Lorem ipsum dolor sit amet, consectetur adipiscing elit', 'Ut enim ad minim veniam, quis nostrud exercitation ullamco', 'Duis aute irure dolor in reprehenderit in voluptate velit esse', 'Excepteur sint occaecat cupidatat non proident.']\n",
      "['Lorem ipsum dolor sit amet, consectetur adipiscing elit', 'Ut enim ad minim veniam, quis nostrud exercitation ullamco', 'Duis aute irure dolor in reprehenderit in voluptate velit esse', 'Excepteur sint occaecat cupidatat non proident.']\n"
     ]
    }
   ],
   "source": [
    "# Q 2:\n",
    "\n",
    "paragraph = \"Lorem ipsum dolor sit amet, consectetur adipiscing elit. Ut enim ad minim veniam, quis nostrud exercitation ullamco. Duis aute irure dolor in reprehenderit in voluptate velit esse. Excepteur sint occaecat cupidatat non proident.\"\n",
    "\n",
    "\n",
    "# for loop\n",
    "# ---- your solution here ----\n",
    "\n",
    "\n",
    "# call the function you defined\n",
    "sentences = get_sentences(paragraph)\n",
    "print(sentences)\n",
    "\n",
    "\n",
    "\n",
    "# comprehension\n",
    "# ---- your solution here ----\n",
    "\n",
    "\n",
    "# call the function you defined\n",
    "sentences_comp = get_sentences_comp(paragraph)\n",
    "print(sentences_comp)"
   ]
  },
  {
   "cell_type": "markdown",
   "id": "comic-linux",
   "metadata": {},
   "source": [
    "---"
   ]
  },
  {
   "cell_type": "markdown",
   "id": "negative-intention",
   "metadata": {},
   "source": [
    "**Q 3:**\n",
    "\n",
    "Use the functions in Q2 and this time define two functions named **get_words** and **get_words_comp**.\n",
    "\n",
    "These functions will return the words in the paragraph.\n",
    "\n",
    "The first one will use for loop and the second one will use Comprehension.\n",
    "\n",
    "<pre style=\"background: gold\">\n",
    "paragraph = \"Lorem ipsum dolor sit amet, consectetur adipiscing elit. Ut enim ad minim veniam, quis nostrud exercitation ullamco. Duis aute irure dolor in reprehenderit in voluptate velit esse. Excepteur sint occaecat cupidatat non proident.\"\n",
    "             \n",
    "Expected Output:\n",
    "['Lorem', 'ipsum', 'dolor', 'sit', 'amet,', 'consectetur', 'adipiscing', 'elit.', 'Ut', 'enim', 'ad', 'minim', 'veniam,', 'quis', 'nostrud', 'exercitation', 'ullamco.', 'Duis', 'aute', 'irure', 'dolor', 'in', 'reprehenderit', 'in', 'voluptate', 'velit', 'esse.', 'Excepteur', 'sint', 'occaecat', 'cupidatat', 'non', 'proident.']\n",
    "</pre>"
   ]
  },
  {
   "cell_type": "code",
   "execution_count": 3,
   "id": "instructional-tunisia",
   "metadata": {},
   "outputs": [
    {
     "name": "stdout",
     "output_type": "stream",
     "text": [
      "['Lorem', 'ipsum', 'dolor', 'sit', 'amet,', 'consectetur', 'adipiscing', 'elit', 'Ut', 'enim', 'ad', 'minim', 'veniam,', 'quis', 'nostrud', 'exercitation', 'ullamco', 'Duis', 'aute', 'irure', 'dolor', 'in', 'reprehenderit', 'in', 'voluptate', 'velit', 'esse', 'Excepteur', 'sint', 'occaecat', 'cupidatat', 'non', 'proident.']\n",
      "['Lorem', 'ipsum', 'dolor', 'sit', 'amet,', 'consectetur', 'adipiscing', 'elit', 'Ut', 'enim', 'ad', 'minim', 'veniam,', 'quis', 'nostrud', 'exercitation', 'ullamco', 'Duis', 'aute', 'irure', 'dolor', 'in', 'reprehenderit', 'in', 'voluptate', 'velit', 'esse', 'Excepteur', 'sint', 'occaecat', 'cupidatat', 'non', 'proident.']\n"
     ]
    }
   ],
   "source": [
    "# Q 3:\n",
    "\n",
    "paragraph = \"Lorem ipsum dolor sit amet, consectetur adipiscing elit. Ut enim ad minim veniam, quis nostrud exercitation ullamco. Duis aute irure dolor in reprehenderit in voluptate velit esse. Excepteur sint occaecat cupidatat non proident.\"\n",
    "\n",
    "\n",
    "# for loop\n",
    "# ---- your solution here ----\n",
    "\n",
    "\n",
    "# call the function you defined\n",
    "words = get_words(paragraph)\n",
    "print(words)\n",
    "\n",
    "\n",
    "\n",
    "# comprehension\n",
    "# ---- your solution here ----\n",
    "\n",
    "\n",
    "# call the function you defined\n",
    "words_comp = get_words_comp(paragraph)\n",
    "print(words_comp)"
   ]
  },
  {
   "cell_type": "markdown",
   "id": "double-removal",
   "metadata": {},
   "source": [
    "---"
   ]
  },
  {
   "cell_type": "markdown",
   "id": "executive-republican",
   "metadata": {},
   "source": [
    "**Q 4:**\n",
    "\n",
    "Use the functions in Q2 and this time define two functions named **get_words_starting_with_vowels** and **get_words_starting_with_vowels_comp**.\n",
    "\n",
    "These functions will return the words in the paragraph.\n",
    "\n",
    "The first one will use for loop and the second one will use Comprehension.\n",
    "\n",
    "<pre style=\"background: gold\">\n",
    "paragraph = [\"Lorem ipsum dolor sit amet, consectetur adipiscing elit.\",\n",
    "             \"Ut enim ad minim veniam, quis nostrud exercitation ullamco.\",\n",
    "             \"Duis aute irure dolor in reprehenderit in voluptate velit esse.\",\n",
    "             \"Excepteur sint occaecat cupidatat non proident.\"]\n",
    "             \n",
    "Expected Output:\n",
    "['ipsum', 'amet,', 'adipiscing', 'elit.', 'Ut', 'enim', 'ad', 'exercitation', 'ullamco.', 'aute', 'irure', 'in', 'in', 'esse.', 'Excepteur', 'occaecat']\n",
    "</pre>"
   ]
  },
  {
   "cell_type": "code",
   "execution_count": 4,
   "id": "advance-option",
   "metadata": {},
   "outputs": [
    {
     "name": "stdout",
     "output_type": "stream",
     "text": [
      "['ipsum', 'amet,', 'adipiscing', 'elit', 'Ut', 'enim', 'ad', 'exercitation', 'ullamco', 'aute', 'irure', 'in', 'in', 'esse', 'Excepteur', 'occaecat']\n",
      "['ipsum', 'amet,', 'adipiscing', 'elit', 'Ut', 'enim', 'ad', 'exercitation', 'ullamco', 'aute', 'irure', 'in', 'in', 'esse', 'Excepteur', 'occaecat']\n"
     ]
    }
   ],
   "source": [
    "# Q 4:\n",
    "\n",
    "paragraph = \"Lorem ipsum dolor sit amet, consectetur adipiscing elit. Ut enim ad minim veniam, quis nostrud exercitation ullamco. Duis aute irure dolor in reprehenderit in voluptate velit esse. Excepteur sint occaecat cupidatat non proident.\"\n",
    "\n",
    "\n",
    "# for loop\n",
    "# ---- your solution here ----\n",
    "    \n",
    "\n",
    "# call the function you defined\n",
    "vowel_words = get_words_starting_with_vowels(paragraph)\n",
    "print(vowel_words)\n",
    "\n",
    "\n",
    "\n",
    "# comprehension \n",
    "# ---- your solution here ----\n",
    "\n",
    "\n",
    "# call the function you defined\n",
    "vowels_comp = get_words_starting_with_vowels_comp(paragraph)\n",
    "print(vowels_comp)"
   ]
  },
  {
   "cell_type": "markdown",
   "id": "alike-improvement",
   "metadata": {},
   "source": [
    "---"
   ]
  },
  {
   "cell_type": "markdown",
   "id": "several-medicine",
   "metadata": {},
   "source": [
    "**Q 5:**\n",
    "\n",
    "Define a function named **dict_of_squares**.\n",
    "\n",
    "It will return a dictionary of squares of numbers from 0 to 20 (inc).\n",
    "\n",
    "Key will be the number and the value will be the square of this number.\n",
    "\n",
    "**{number: square}**.\n",
    "\n",
    "**Hints:**\n",
    "* no loops\n",
    "* use comprehension only\n",
    "\n",
    "<pre style=\"background: gold\">\n",
    "Expected Output:\n",
    "{0: 0, 1: 1, 2: 4, 3: 9, 4: 16, 5: 25, 6: 36, 7: 49, 8: 64, 9: 81, 10: 100, 11: 121, 12: 144, 13: 169, 14: 196, 15: 225, 16: 256, 17: 289, 18: 324, 19: 361, 20: 400}\n",
    "</pre>"
   ]
  },
  {
   "cell_type": "code",
   "execution_count": 5,
   "id": "gorgeous-worcester",
   "metadata": {},
   "outputs": [
    {
     "name": "stdout",
     "output_type": "stream",
     "text": [
      "{0: 0, 1: 1, 2: 4, 3: 9, 4: 16, 5: 25, 6: 36, 7: 49, 8: 64, 9: 81, 10: 100, 11: 121, 12: 144, 13: 169, 14: 196, 15: 225, 16: 256, 17: 289, 18: 324, 19: 361, 20: 400}\n"
     ]
    }
   ],
   "source": [
    "# Q 5:\n",
    "\n",
    "# ---- your solution here ----\n",
    "\n",
    "\n",
    "\n",
    "# call the function you defined\n",
    "sqr_dict = dict_of_squares()\n",
    "print(sqr_dict)"
   ]
  },
  {
   "cell_type": "markdown",
   "id": "willing-miami",
   "metadata": {},
   "source": [
    "---"
   ]
  },
  {
   "cell_type": "markdown",
   "id": "split-notification",
   "metadata": {},
   "source": [
    "**Q 6:**\n",
    "\n",
    "Define two functions named **numbers_and_names** and **numbers_and_names_comp**.\n",
    "\n",
    "They will take a dictionary as parameter.\n",
    "\n",
    "The dictionary is:\n",
    "<pre>\n",
    "{1: ['Spiderman', 24],\n",
    " 2: ['Wonder Woman', 100],\n",
    " 3: ['Batman', 45],\n",
    " 4: ['Superman', 70]}\n",
    "</pre>\n",
    "\n",
    "They will return a new dictionary containing only the numbers as the key and the name as value.\n",
    "\n",
    "<pre style=\"background: gold\">\n",
    "Expected Output:\n",
    "{1: 'Spiderman', 2: 'Wonder Woman', 3: 'Batman', 4: 'Superman'}\n",
    "</pre>"
   ]
  },
  {
   "cell_type": "code",
   "execution_count": 6,
   "id": "pleasant-prayer",
   "metadata": {},
   "outputs": [
    {
     "name": "stdout",
     "output_type": "stream",
     "text": [
      "{1: 'Spiderman', 2: 'Wonder Woman', 3: 'Batman', 4: 'Superman'}\n",
      "{1: 'Spiderman', 2: 'Wonder Woman', 3: 'Batman', 4: 'Superman'}\n"
     ]
    }
   ],
   "source": [
    "# Q 6:\n",
    "\n",
    "heroes = {1: ['Spiderman', 24],\n",
    "          2: ['Wonder Woman', 100],\n",
    "          3: ['Batman', 45],\n",
    "          4: ['Superman', 70]}\n",
    "\n",
    "\n",
    "# for loop\n",
    "# ---- your solution here ----\n",
    "    \n",
    "    \n",
    "# call the function you defined\n",
    "print(numbers_and_names(heroes))\n",
    "\n",
    "\n",
    "\n",
    "# comprehension \n",
    "# ---- your solution here ----\n",
    "\n",
    "\n",
    "# call the function you defined\n",
    "print(numbers_and_names_comp(heroes))"
   ]
  },
  {
   "cell_type": "markdown",
   "id": "behind-testament",
   "metadata": {},
   "source": [
    "---"
   ]
  },
  {
   "cell_type": "markdown",
   "id": "distinct-retailer",
   "metadata": {},
   "source": [
    "**Q 7:**\n",
    "\n",
    "Define a function named **odd_numbered_names**.\n",
    "\n",
    "It will take a dictionary as parameter.\n",
    "\n",
    "The dictionary is:\n",
    "<pre>\n",
    "{1: ['Spiderman', 24],\n",
    " 2: ['Wonder Woman', 100],\n",
    " 3: ['Batman', 45],\n",
    " 4: ['Superman', 70]}\n",
    "</pre>\n",
    "\n",
    "It will return a new dictionary containing only the **odd numbers** as the key and the name as value.\n",
    "\n",
    "**Hints:**\n",
    "* no loops\n",
    "* only with comprehension\n",
    "\n",
    "<pre style=\"background: gold\">\n",
    "Expected Output:\n",
    "{1: 'Spiderman', 3: 'Batman'}\n",
    "</pre>"
   ]
  },
  {
   "cell_type": "code",
   "execution_count": 7,
   "id": "julian-inventory",
   "metadata": {},
   "outputs": [
    {
     "name": "stdout",
     "output_type": "stream",
     "text": [
      "{1: 'Spiderman', 3: 'Batman'}\n"
     ]
    }
   ],
   "source": [
    "# Q 7:\n",
    "\n",
    "# ---- your solution here ----\n",
    "\n",
    "\n",
    "# call the function you defined\n",
    "heroes = {1: ['Spiderman', 24],\n",
    "          2: ['Wonder Woman', 100],\n",
    "          3: ['Batman', 45],\n",
    "          4: ['Superman', 70]}\n",
    "\n",
    "names_dict = odd_numbered_names(heroes)\n",
    "print(names_dict)"
   ]
  },
  {
   "cell_type": "markdown",
   "id": "chemical-things",
   "metadata": {},
   "source": [
    "---"
   ]
  },
  {
   "cell_type": "markdown",
   "id": "generous-writer",
   "metadata": {},
   "source": [
    "**Q 8:**\n",
    "\n",
    "Define a function named **word_lengths**.\n",
    "\n",
    "It will take a text as parameter.\n",
    "\n",
    "The function will return two lists.\n",
    "\n",
    "The first list is going to be the words in the text.\n",
    "\n",
    "And the second list will contain the lengths of these words.\n",
    "\n",
    "If the word is one ('the', 'in', 'as', 'at') it will ignore the word.\n",
    "\n",
    "**Hints:**\n",
    "* how a function returns multiple values -> Tuple\n",
    "* no loops\n",
    "* comprehensions only\n",
    "\n",
    "<pre style=\"background: gold\">\n",
    "Parameter:\n",
    "\"It takes all the running you can do, to keep in the same place. If you want to get somewhere else, you must run at least twice as fast as that!\"\n",
    "\n",
    "Expected Output:\n",
    "['It', 'takes', 'all', 'running', 'you', 'can', 'do,', 'to', 'keep', 'same', 'place.', 'If', 'you', 'want', 'to', 'get', 'somewhere', 'else,', 'you', 'must', 'run', 'least', 'twice', 'fast', 'that!']\n",
    "[2, 5, 3, 7, 3, 3, 3, 2, 4, 4, 6, 2, 3, 4, 2, 3, 9, 5, 3, 4, 3, 5, 5, 4, 5]\n",
    "</pre>"
   ]
  },
  {
   "cell_type": "code",
   "execution_count": 8,
   "id": "skilled-zealand",
   "metadata": {},
   "outputs": [
    {
     "name": "stdout",
     "output_type": "stream",
     "text": [
      "['It', 'takes', 'all', 'running', 'you', 'can', 'do,', 'to', 'keep', 'same', 'place.', 'If', 'you', 'want', 'to', 'get', 'somewhere', 'else,', 'you', 'must', 'run', 'least', 'twice', 'fast', 'that!']\n",
      "[2, 5, 3, 7, 3, 3, 3, 2, 4, 4, 6, 2, 3, 4, 2, 3, 9, 5, 3, 4, 3, 5, 5, 4, 5]\n"
     ]
    }
   ],
   "source": [
    "# Q 8:\n",
    "\n",
    "# ---- your solution here ----\n",
    "\n",
    "\n",
    "# call the function you defined\n",
    "# Alice's Adventures in Wonderland\n",
    "alice_in_wonderland = \"\"\"It takes all the running you can do, to keep in the same place. \n",
    "If you want to get somewhere else, you must run at least twice as fast as that!\"\"\"\n",
    "\n",
    "# call the function and unpack the returning Tuple\n",
    "words, lengths = word_lengths(alice_in_wonderland)\n",
    "\n",
    "# now print them\n",
    "print(words)\n",
    "print(lengths)"
   ]
  },
  {
   "cell_type": "markdown",
   "id": "confused-andorra",
   "metadata": {},
   "source": [
    "---"
   ]
  },
  {
   "cell_type": "markdown",
   "id": "given-suspension",
   "metadata": {},
   "source": [
    "**Q 9:**\n",
    "\n",
    "Define a function named **only_positives**.\n",
    "\n",
    "It will take a list of numbers (integers and floats) as parameter.\n",
    "\n",
    "It will take only the positive numbers and cast them into integers and return the final list.\n",
    "\n",
    "**Hints:**\n",
    "* no loops\n",
    "* use comprehension\n",
    "\n",
    "<pre style=\"background: gold\">\n",
    "Parameter:\n",
    "[12.8, -27.2, -34.5, 58.4, -82.0, 66.6, 14.9]\n",
    "\n",
    "Expected Output:\n",
    "[12, 58, 66, 14]\n",
    "</pre>"
   ]
  },
  {
   "cell_type": "code",
   "execution_count": 9,
   "id": "heavy-shark",
   "metadata": {},
   "outputs": [
    {
     "name": "stdout",
     "output_type": "stream",
     "text": [
      "[12, 58, 66, 14]\n"
     ]
    }
   ],
   "source": [
    "# Q 9:\n",
    "\n",
    "# ---- your solution here ----    \n",
    "    \n",
    "    \n",
    "# call the function you defined\n",
    "numbers = [12.8, -27.2, -34.5, 58.4, -82.0, 66.6, 14.9]\n",
    "positives = only_positives(numbers)\n",
    "print(positives)"
   ]
  },
  {
   "cell_type": "markdown",
   "id": "express-associate",
   "metadata": {},
   "source": [
    "---"
   ]
  },
  {
   "cell_type": "markdown",
   "id": "accepting-subject",
   "metadata": {},
   "source": [
    "**Q 10:**\n",
    "\n",
    "Define a function named **flatten**.\n",
    "\n",
    "It will take a list as parameter.\n",
    "\n",
    "This list will be containing lists as elements.\n",
    "\n",
    "Namely it is a nested list.\n",
    "\n",
    "The function will flatten the list and return a final list which contains only the individual elements. The final list not a nested list anymore.\n",
    "\n",
    "**Hints:**\n",
    "* no loops\n",
    "* comprehension only\n",
    "\n",
    "<pre style=\"background: gold\">\n",
    "Parameter:\n",
    "list_of_lists = [[8,6], [3,1,4], [2,0,9], [5]]\n",
    "          \n",
    "Expected Output:\n",
    "[8, 6, 3, 1, 4, 2, 0, 9, 5]\n",
    "</pre>"
   ]
  },
  {
   "cell_type": "code",
   "execution_count": 10,
   "id": "advance-charger",
   "metadata": {},
   "outputs": [
    {
     "name": "stdout",
     "output_type": "stream",
     "text": [
      "[8, 6, 3, 1, 4, 2, 0, 9, 5]\n"
     ]
    }
   ],
   "source": [
    "# Q 10:\n",
    "\n",
    "# ---- your solution here ----\n",
    "\n",
    "\n",
    "# call the function you defined\n",
    "list_of_lists = [[8,6], [3,1,4], [2,0,9], [5]]\n",
    "print(flatten(list_of_lists))"
   ]
  }
 ],
 "metadata": {
  "kernelspec": {
   "display_name": "Python 3",
   "language": "python",
   "name": "python3"
  },
  "language_info": {
   "codemirror_mode": {
    "name": "ipython",
    "version": 3
   },
   "file_extension": ".py",
   "mimetype": "text/x-python",
   "name": "python",
   "nbconvert_exporter": "python",
   "pygments_lexer": "ipython3",
   "version": "3.8.8"
  }
 },
 "nbformat": 4,
 "nbformat_minor": 5
}
