{
 "cells": [
  {
   "cell_type": "markdown",
   "id": "trained-repair",
   "metadata": {},
   "source": [
    "## QUIZ - Functions I"
   ]
  },
  {
   "cell_type": "markdown",
   "id": "contained-fourth",
   "metadata": {},
   "source": [
    "**Q 1:**\n",
    "\n",
    "Define a function named **first_function** that prints \"Hello World!\"."
   ]
  },
  {
   "cell_type": "code",
   "execution_count": 1,
   "id": "strange-anaheim",
   "metadata": {},
   "outputs": [
    {
     "name": "stdout",
     "output_type": "stream",
     "text": [
      "Hello World!\n"
     ]
    }
   ],
   "source": [
    "# S 1:\n",
    "\n",
    "# --- your solution here --- #    \n",
    "    \n",
    "# call the function you defined\n",
    "first_function()"
   ]
  },
  {
   "cell_type": "markdown",
   "id": "missing-given",
   "metadata": {},
   "source": [
    "---"
   ]
  },
  {
   "cell_type": "markdown",
   "id": "approximate-venezuela",
   "metadata": {},
   "source": [
    "**Q 2:**\n",
    "\n",
    "Define a function named **say_hello** that takes two string parameters.\n",
    "\n",
    "We will assume this parameters be two separate names. (name_1 and name_2)\n",
    "\n",
    "Function will concatenate these names with \"and\".\n",
    "\n",
    "Then it will print as:\n",
    "\n",
    "\"Hello name_1 and name_2.\"\n",
    "\n",
    "Example: Hello Clark Kent ve Superman."
   ]
  },
  {
   "cell_type": "code",
   "execution_count": 2,
   "id": "minus-stylus",
   "metadata": {},
   "outputs": [
    {
     "name": "stdout",
     "output_type": "stream",
     "text": [
      "Hello Clark Kent and Superman\n",
      "Hello Bruce Wayne and Batman\n",
      "Hello Peter Parker and Spiderman\n"
     ]
    }
   ],
   "source": [
    "# S 2:\n",
    "\n",
    "# --- your solution here --- #\n",
    "\n",
    "# call the function you defined\n",
    "say_hello(\"Clark Kent\" ,\"Superman\")\n",
    "say_hello(\"Bruce Wayne\" ,\"Batman\")\n",
    "say_hello(\"Peter Parker\" ,\"Spiderman\")"
   ]
  },
  {
   "cell_type": "markdown",
   "id": "collectible-material",
   "metadata": {},
   "source": [
    "---"
   ]
  },
  {
   "cell_type": "markdown",
   "id": "norman-dining",
   "metadata": {},
   "source": [
    "**Q 3:**\n",
    "\n",
    "Define a function named say_my_name that asks user to enter his/her name.\n",
    "\n",
    "This function will print as:\n",
    "\"Hi [user_name].\"\n",
    "\n",
    "Hints:\n",
    "* to get input from user -> input()"
   ]
  },
  {
   "cell_type": "code",
   "execution_count": 3,
   "id": "present-appeal",
   "metadata": {},
   "outputs": [
    {
     "name": "stdin",
     "output_type": "stream",
     "text": [
      "Please enter your name:  musa arda\n"
     ]
    },
    {
     "name": "stdout",
     "output_type": "stream",
     "text": [
      "Hi musa arda\n"
     ]
    }
   ],
   "source": [
    "# S 3:\n",
    "\n",
    "# --- your solution here --- #\n",
    "    \n",
    "# call the function you defined\n",
    "say_my_name()"
   ]
  },
  {
   "cell_type": "markdown",
   "id": "elect-mongolia",
   "metadata": {},
   "source": [
    "---"
   ]
  },
  {
   "cell_type": "markdown",
   "id": "fuzzy-quantity",
   "metadata": {},
   "source": [
    "**Q 4:**\n",
    "\n",
    "Define a function named get_max that takes 3 parameters as integer.\n",
    "\n",
    "Function will return the maximum of these three numbers.\n",
    "\n",
    "Add a docstring for this function.\n",
    "\n",
    "*Hint: Python has max() built-in function.*\n",
    "\n",
    "*You can use help(max) to see how to use the max() function.*\n",
    "\n",
    "*Or you can find the documentation here.*\n",
    "\n",
    "https://docs.python.org/3/library/functions.html#max"
   ]
  },
  {
   "cell_type": "code",
   "execution_count": 4,
   "id": "allied-sitting",
   "metadata": {},
   "outputs": [
    {
     "name": "stdout",
     "output_type": "stream",
     "text": [
      "82\n",
      "Help on function get_max in module __main__:\n",
      "\n",
      "get_max(num_1, num_2, num_3)\n",
      "    This function gets 3 numbers and selects the maximum.\n",
      "    Parameters: int num_1, num_2, num_3\n",
      "    Returns: value from Python's max() function\n",
      "\n",
      "\n",
      "    This function gets 3 numbers and selects the maximum.\n",
      "    Parameters: int num_1, num_2, num_3\n",
      "    Returns: value from Python's max() function\n",
      "    \n"
     ]
    }
   ],
   "source": [
    "# S 4:\n",
    "\n",
    "# --- your solution here --- #\n",
    "\n",
    "# call function -> get the returned value and print\n",
    "max_number = get_max(4, 82, 19)\n",
    "print(max_number)\n",
    "\n",
    "# docstring\n",
    "help(get_max)\n",
    "print(get_max.__doc__)"
   ]
  },
  {
   "cell_type": "markdown",
   "id": "junior-trading",
   "metadata": {},
   "source": [
    "---"
   ]
  },
  {
   "cell_type": "markdown",
   "id": "japanese-rugby",
   "metadata": {},
   "source": [
    "**Q 5:**\n",
    "\n",
    "Define a function named **strip_and_lower** that takes a string parameter.\n",
    "\n",
    "Function will remove spaces at the beginning and at the end of the string,\n",
    "then it will convert the string into lower case. \n",
    "\n",
    "Hints:\n",
    " * to remove spaces: strip()\n",
    " * to convert to lowercase: lower()"
   ]
  },
  {
   "cell_type": "code",
   "execution_count": 5,
   "id": "modified-picture",
   "metadata": {},
   "outputs": [
    {
     "name": "stdout",
     "output_type": "stream",
     "text": [
      "python machine learning\n"
     ]
    }
   ],
   "source": [
    "# S 5:\n",
    "\n",
    "# --- your solution here --- #\n",
    "\n",
    "# function call\n",
    "txt = \"    PyThon MaCHine LeARning   \"\n",
    "final_txt = strip_and_lower(txt)\n",
    "print(final_txt)"
   ]
  },
  {
   "cell_type": "markdown",
   "id": "painful-shannon",
   "metadata": {},
   "source": [
    "---"
   ]
  },
  {
   "cell_type": "markdown",
   "id": "promising-bulgarian",
   "metadata": {},
   "source": [
    "**Q 6:**\n",
    "\n",
    "Define a function named **add** which takes two integer parameters.\n",
    "\n",
    "The function will return the sum of these parameters."
   ]
  },
  {
   "cell_type": "code",
   "execution_count": 6,
   "id": "hundred-little",
   "metadata": {},
   "outputs": [
    {
     "name": "stdout",
     "output_type": "stream",
     "text": [
      "65\n"
     ]
    }
   ],
   "source": [
    "# S 6:\n",
    "\n",
    "# --- your solution here --- #    \n",
    "\n",
    "# function call\n",
    "n_1 = 45\n",
    "n_2 = 20\n",
    "addition = add(n_1, n_2)\n",
    "print(addition)"
   ]
  },
  {
   "cell_type": "markdown",
   "id": "ceramic-registration",
   "metadata": {},
   "source": [
    "---"
   ]
  },
  {
   "cell_type": "markdown",
   "id": "attached-couple",
   "metadata": {},
   "source": [
    "**Q 7:**\n",
    "\n",
    "Define a function named **minimum_difference** which is taking 3 numeric parameters.\n",
    "\n",
    "Function will calculate the difference between each pairs.\n",
    "\n",
    "And return the minimum of these differences.\n",
    "\n",
    "Hints:\n",
    "* Use absolute value to calculate differences -> abs()\n",
    "* To get minimum -> min()"
   ]
  },
  {
   "cell_type": "code",
   "execution_count": 7,
   "id": "fresh-parker",
   "metadata": {},
   "outputs": [
    {
     "name": "stdout",
     "output_type": "stream",
     "text": [
      "2\n"
     ]
    }
   ],
   "source": [
    "# S 7:\n",
    "\n",
    "# --- your solution here --- #\n",
    "\n",
    "# function call\n",
    "a = 8\n",
    "b = 5\n",
    "c = 10\n",
    "min_diff = minimum_difference(a, b, c)\n",
    "print(min_diff)"
   ]
  },
  {
   "cell_type": "markdown",
   "id": "minute-savings",
   "metadata": {},
   "source": [
    "---"
   ]
  },
  {
   "cell_type": "markdown",
   "id": "vietnamese-teach",
   "metadata": {},
   "source": [
    "**Q 8:**\n",
    "\n",
    "Define a function named **squre_root** which is taking an integer parameter.\n",
    "\n",
    "Function will return the square root of this parameter.\n",
    "\n",
    "Hint:\n",
    "* Square Root -> math.sqrt()"
   ]
  },
  {
   "cell_type": "code",
   "execution_count": 8,
   "id": "gothic-oxford",
   "metadata": {},
   "outputs": [
    {
     "name": "stdout",
     "output_type": "stream",
     "text": [
      "9.0\n"
     ]
    }
   ],
   "source": [
    "# S 8:\n",
    "\n",
    "import math\n",
    "\n",
    "# --- your solution here --- #    \n",
    "\n",
    "# function call\n",
    "num = 81\n",
    "sqr = squre_root(num)\n",
    "print(sqr)"
   ]
  },
  {
   "cell_type": "markdown",
   "id": "wooden-prague",
   "metadata": {},
   "source": [
    "---"
   ]
  },
  {
   "cell_type": "markdown",
   "id": "indonesian-guard",
   "metadata": {},
   "source": [
    "**Q 9:**\n",
    "\n",
    "Define a function named **get_logarithm** which takes a numeric parameter.\n",
    "\n",
    "Function will return the logarithm of this number.\n",
    "\n",
    "Hint:\n",
    "* logarithm -> math.log()"
   ]
  },
  {
   "cell_type": "code",
   "execution_count": 9,
   "id": "distant-telling",
   "metadata": {},
   "outputs": [
    {
     "name": "stdout",
     "output_type": "stream",
     "text": [
      "2.4849066497880004\n",
      "2.4849066497880004\n"
     ]
    }
   ],
   "source": [
    "# S 9:\n",
    "\n",
    "import math\n",
    "\n",
    "# --- your solution here --- #   \n",
    "\n",
    "# function call\n",
    "n = 12\n",
    "log = get_logarithm(n)\n",
    "print(log)\n",
    "\n",
    "# chained function call\n",
    "print(get_logarithm(n))"
   ]
  },
  {
   "cell_type": "markdown",
   "id": "finished-judgment",
   "metadata": {},
   "source": [
    "---"
   ]
  },
  {
   "cell_type": "markdown",
   "id": "other-protein",
   "metadata": {},
   "source": [
    "**Q 10:**\n",
    "\n",
    "Define a function named **hypotenuse** which takes two numeric parameters.\n",
    "\n",
    "Let's assume these numbers are two sides of a right triangle.\n",
    "\n",
    "The function will return the hypotenuse of this triangle.\n",
    "\n",
    "Hint:\n",
    "\n",
    "$$ hipo^2 = a^2 + b^2 $$"
   ]
  },
  {
   "cell_type": "code",
   "execution_count": 10,
   "id": "previous-giant",
   "metadata": {},
   "outputs": [
    {
     "name": "stdout",
     "output_type": "stream",
     "text": [
      "5.0\n",
      "25.0\n",
      "17.0\n"
     ]
    }
   ],
   "source": [
    "# S 10:\n",
    "\n",
    "import math\n",
    "\n",
    "# --- your solution here --- #       \n",
    "\n",
    "# function call\n",
    "# 3-4-5 triangle\n",
    "print(hypotenuse(3, 4))\n",
    "  \n",
    "# 7-24-25 triangle\n",
    "print(hypotenuse(7, 24))\n",
    "\n",
    "# 8-15-17 triangle\n",
    "print(hypotenuse(8, 15))"
   ]
  }
 ],
 "metadata": {
  "kernelspec": {
   "display_name": "Python 3",
   "language": "python",
   "name": "python3"
  },
  "language_info": {
   "codemirror_mode": {
    "name": "ipython",
    "version": 3
   },
   "file_extension": ".py",
   "mimetype": "text/x-python",
   "name": "python",
   "nbconvert_exporter": "python",
   "pygments_lexer": "ipython3",
   "version": "3.8.8"
  }
 },
 "nbformat": 4,
 "nbformat_minor": 5
}
