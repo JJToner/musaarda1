{
 "cells": [
  {
   "cell_type": "markdown",
   "id": "veterinary-august",
   "metadata": {},
   "source": [
    "## QUIZ - Functions II"
   ]
  },
  {
   "cell_type": "markdown",
   "id": "united-donor",
   "metadata": {},
   "source": [
    "**Q 1:**\n",
    "\n",
    "Many times, we need input from the user.\n",
    "\n",
    "Define a generic function to ask for user input.\n",
    "\n",
    "Function name will be **get_input**.\n",
    "\n",
    "Function will take the input text as parameter and use it while asking for input from the user."
   ]
  },
  {
   "cell_type": "code",
   "execution_count": 1,
   "id": "imported-contrast",
   "metadata": {},
   "outputs": [
    {
     "name": "stdin",
     "output_type": "stream",
     "text": [
      "Please enter a number:  78\n"
     ]
    },
    {
     "name": "stdout",
     "output_type": "stream",
     "text": [
      "78\n"
     ]
    },
    {
     "name": "stdin",
     "output_type": "stream",
     "text": [
      "Please enter month name:  June\n"
     ]
    },
    {
     "data": {
      "text/plain": [
       "'June'"
      ]
     },
     "execution_count": 1,
     "metadata": {},
     "output_type": "execute_result"
    }
   ],
   "source": [
    "# Q 1:\n",
    "\n",
    "# --- your solution here --- #    \n",
    "\n",
    "\n",
    "# call the function you defined\n",
    "# Ask for an integer\n",
    "number = get_input(\"Please enter a number: \")\n",
    "print(number)\n",
    "\n",
    "# Ask for the month name\n",
    "month = get_input(\"Please enter month name: \")\n",
    "month"
   ]
  },
  {
   "cell_type": "markdown",
   "id": "interpreted-value",
   "metadata": {},
   "source": [
    "---"
   ]
  },
  {
   "cell_type": "markdown",
   "id": "worse-quarterly",
   "metadata": {},
   "source": [
    "**Q 2:**\n",
    "\n",
    "We already know that, get_input function in Question 1 returns str.\n",
    "\n",
    "Now we will define a new function named **is_integer**.\n",
    "\n",
    "It will get a string parameter and will check if its value is integer or not.\n",
    "\n",
    "It will return True if the parameter is integer."
   ]
  },
  {
   "cell_type": "code",
   "execution_count": 2,
   "id": "forbidden-probe",
   "metadata": {},
   "outputs": [
    {
     "name": "stdin",
     "output_type": "stream",
     "text": [
      "Please enter a number:  A\n"
     ]
    },
    {
     "name": "stdout",
     "output_type": "stream",
     "text": [
      "False\n"
     ]
    },
    {
     "name": "stdin",
     "output_type": "stream",
     "text": [
      "Please enter a number:  -8\n"
     ]
    },
    {
     "name": "stdout",
     "output_type": "stream",
     "text": [
      "True\n"
     ]
    }
   ],
   "source": [
    "# Q 2:\n",
    "\n",
    "# --- your solution here --- #    \n",
    "\n",
    "\n",
    "# call the function you defined\n",
    "\n",
    "# let's test is_integer function\n",
    "# first call with a string\n",
    "input_text = \"Please enter a number: \"\n",
    "user_input = get_input(input_text)\n",
    "is_input_integer = is_integer(user_input)\n",
    "print(is_input_integer)\n",
    "\n",
    "# call with an integer\n",
    "input_text = \"Please enter a number: \"\n",
    "user_input = get_input(input_text)\n",
    "is_input_integer = is_integer(user_input)\n",
    "print(is_input_integer)"
   ]
  },
  {
   "cell_type": "markdown",
   "id": "religious-doctor",
   "metadata": {},
   "source": [
    "---"
   ]
  },
  {
   "cell_type": "markdown",
   "id": "gorgeous-supplier",
   "metadata": {},
   "source": [
    "**Q 3:**\n",
    "\n",
    "Get an integer from the user, using functions in Q1 and Q2.\n",
    "\n",
    "Which will guarantee that it is an integer.\n",
    "\n",
    "If the input is not integer, ask recursively.\n",
    "\n",
    "Function name will be **get_integer**.\n",
    "\n",
    "Hints:\n",
    "* Use Recursion"
   ]
  },
  {
   "cell_type": "code",
   "execution_count": 3,
   "id": "stainless-carroll",
   "metadata": {},
   "outputs": [
    {
     "name": "stdin",
     "output_type": "stream",
     "text": [
      "please enter an integer:  asdf\n",
      "please enter an integer:  qwerty\n",
      "please enter an integer:  78abc\n",
      "please enter an integer:  89\n"
     ]
    },
    {
     "name": "stdout",
     "output_type": "stream",
     "text": [
      "89\n"
     ]
    }
   ],
   "source": [
    "# Q 3:\n",
    "\n",
    "# --- your solution here --- #    \n",
    "\n",
    "    \n",
    "# call the function you defined\n",
    "# do not enter an integer for first several times\n",
    "num = get_integer(\"please enter an integer: \")\n",
    "print(num)"
   ]
  },
  {
   "cell_type": "markdown",
   "id": "mysterious-fitness",
   "metadata": {},
   "source": [
    "---"
   ]
  },
  {
   "cell_type": "markdown",
   "id": "intense-catalog",
   "metadata": {},
   "source": [
    "**Q 4:**\n",
    "\n",
    "Define a function named **day_of_week**.\n",
    "\n",
    "The function will ask the user to enter an integer between 1-7.\n",
    "\n",
    "And it will decide the day name according to that number.\n",
    "\n",
    "Hints:\n",
    "* use functions in Q3\n",
    "* check for number being in range 1-7"
   ]
  },
  {
   "cell_type": "code",
   "execution_count": 4,
   "id": "understanding-mixer",
   "metadata": {},
   "outputs": [
    {
     "name": "stdin",
     "output_type": "stream",
     "text": [
      "Please enter a day number 1-7:  asdfg\n",
      "Please enter a day number 1-7:  rt\n",
      "Please enter a day number 1-7:  5\n"
     ]
    },
    {
     "data": {
      "text/plain": [
       "'Friday'"
      ]
     },
     "execution_count": 4,
     "metadata": {},
     "output_type": "execute_result"
    }
   ],
   "source": [
    "# Q 4:\n",
    "\n",
    "# --- your solution here --- #    \n",
    "    \n",
    "    \n",
    "# call the function you defined\n",
    "day_of_week()"
   ]
  },
  {
   "cell_type": "markdown",
   "id": "monetary-royal",
   "metadata": {},
   "source": [
    "---"
   ]
  },
  {
   "cell_type": "markdown",
   "id": "legal-constitutional",
   "metadata": {},
   "source": [
    "**Q 5:**\n",
    "\n",
    "Copy the functions below and examine the **Stack Trace**.\n",
    "\n",
    "Stack Trace means the execution order of functions.\n",
    "\n",
    "Make sure you understand the execution order.\n",
    "\n",
    "<pre>\n",
    "def n(c):\n",
    "    power = m(c, c)\n",
    "    print(c, power)\n",
    "    return power\n",
    "        \n",
    "def m(x, y):\n",
    "    x = x + 2\n",
    "    return x**y\n",
    "\n",
    "def p(x, y, z):\n",
    "    summation = x + y + z\n",
    "    sqr = n(summation)**2\n",
    "    return sqr\n",
    "\n",
    "a = 1\n",
    "b = a + 1\n",
    "print(p(a, b+1, a+b)) \n",
    "</pre>\n"
   ]
  },
  {
   "cell_type": "code",
   "execution_count": 5,
   "id": "amazing-tanzania",
   "metadata": {},
   "outputs": [
    {
     "name": "stdout",
     "output_type": "stream",
     "text": [
      "7 4782969\n",
      "22876792454961\n"
     ]
    }
   ],
   "source": [
    "# Q 5:\n",
    "\n",
    "def n(c):\n",
    "    power = m(c, c)\n",
    "    print(c, power)\n",
    "    return power\n",
    "\n",
    "def m(x, y):\n",
    "    x = x + 2\n",
    "    return x**y\n",
    "\n",
    "def p(x, y, z):\n",
    "    summation = x + y + z\n",
    "    sqr = n(summation)**2\n",
    "    return sqr\n",
    "\n",
    "a = 1\n",
    "b = a + 1\n",
    "print(p(a, b+1, a+b))"
   ]
  },
  {
   "cell_type": "markdown",
   "id": "plain-arrow",
   "metadata": {},
   "source": [
    "**Stack Trace:**\n",
    "\n",
    "--- your solution here ---"
   ]
  },
  {
   "cell_type": "markdown",
   "id": "south-hypothesis",
   "metadata": {},
   "source": [
    "----"
   ]
  },
  {
   "cell_type": "markdown",
   "id": "aerial-merit",
   "metadata": {},
   "source": [
    "**Q 6:**\n",
    "\n",
    "Define a function named **arithmetic_mean**.\n",
    "\n",
    "The function will get parameters that are not known. (unknown parameters)\n",
    "\n",
    "Namely, the number of parameters is not known in advance.\n",
    "\n",
    "The function will print the arithmetic mean of these parameters.\n",
    "\n",
    "**Hints:**\n",
    "* *args\n",
    "* Arithmetic Mean = Summation / Number of Elements\n",
    "* sum()\n",
    "* len()"
   ]
  },
  {
   "cell_type": "code",
   "execution_count": 6,
   "id": "filled-savage",
   "metadata": {},
   "outputs": [
    {
     "name": "stdout",
     "output_type": "stream",
     "text": [
      "6.0\n"
     ]
    }
   ],
   "source": [
    "# Q 6:\n",
    "\n",
    "# --- your solution here --- #    \n",
    "\n",
    "\n",
    "# call the function you defined\n",
    "mean = arithmetic_mean(2, 5, 11)\n",
    "print(mean)"
   ]
  },
  {
   "cell_type": "markdown",
   "id": "painted-clerk",
   "metadata": {},
   "source": [
    "---"
   ]
  },
  {
   "cell_type": "markdown",
   "id": "vietnamese-writing",
   "metadata": {},
   "source": [
    "**Q 7:**\n",
    "\n",
    "Define a function named **area_of_circle**.\n",
    "\n",
    "It will take the radius as parameter and calcuates the area of the circle.\n",
    "\n",
    "The function body should be one line of code.\n",
    "\n",
    "**Hints:**\n",
    "\n",
    "$ Area Of Circle = \\pi * r^2$"
   ]
  },
  {
   "cell_type": "code",
   "execution_count": 7,
   "id": "exotic-canadian",
   "metadata": {},
   "outputs": [
    {
     "data": {
      "text/plain": [
       "314.1592653589793"
      ]
     },
     "execution_count": 7,
     "metadata": {},
     "output_type": "execute_result"
    }
   ],
   "source": [
    "# Q 7:\n",
    "\n",
    "# --- your solution here --- #    \n",
    "\n",
    "\n",
    "# call the function you defined\n",
    "area_of_circle(10)"
   ]
  },
  {
   "cell_type": "markdown",
   "id": "czech-convention",
   "metadata": {},
   "source": [
    "---"
   ]
  },
  {
   "cell_type": "markdown",
   "id": "suited-factor",
   "metadata": {},
   "source": [
    "**Q 8:**\n",
    "\n",
    "Define a function named **perimeter_of_circle**.\n",
    "\n",
    "It will take the radius as parameter and calcuates the perimeter of the circle.\n",
    "\n",
    "The function body should be one line of code.\n",
    "\n",
    "**Hints:**\n",
    "\n",
    "$ Perimeter Of Circle = 2 * \\pi * r$"
   ]
  },
  {
   "cell_type": "code",
   "execution_count": 8,
   "id": "polish-elite",
   "metadata": {},
   "outputs": [
    {
     "data": {
      "text/plain": [
       "62.83185307179586"
      ]
     },
     "execution_count": 8,
     "metadata": {},
     "output_type": "execute_result"
    }
   ],
   "source": [
    "# Q 8:\n",
    "\n",
    "# --- your solution here --- #    \n",
    "    \n",
    "    \n",
    "# call the function you defined\n",
    "perimeter_of_circle(10)"
   ]
  },
  {
   "cell_type": "markdown",
   "id": "engaged-excitement",
   "metadata": {},
   "source": [
    "---"
   ]
  },
  {
   "cell_type": "markdown",
   "id": "adolescent-airline",
   "metadata": {},
   "source": [
    "**Q 9:**\n",
    "\n",
    "Define a function named **area_of_rectangle**.\n",
    "\n",
    "The parameters will be length (l) and width (w).\n",
    "\n",
    "The function body should be one line of code.\n",
    "\n",
    "**Hints:**\n",
    "\n",
    "$ Area Of Rectangle = l * w$"
   ]
  },
  {
   "cell_type": "code",
   "execution_count": 9,
   "id": "innovative-charger",
   "metadata": {},
   "outputs": [
    {
     "data": {
      "text/plain": [
       "60"
      ]
     },
     "execution_count": 9,
     "metadata": {},
     "output_type": "execute_result"
    }
   ],
   "source": [
    "# Q 9:\n",
    "\n",
    "# --- your solution here --- #    \n",
    "\n",
    "\n",
    "# call the function you defined\n",
    "area_of_rectangle(5, 12)"
   ]
  },
  {
   "cell_type": "markdown",
   "id": "multiple-penetration",
   "metadata": {},
   "source": [
    "---"
   ]
  },
  {
   "cell_type": "markdown",
   "id": "arctic-generation",
   "metadata": {},
   "source": [
    "**Q 10:**\n",
    "\n",
    "Define a function to calculate the surface area of a right cylinder.\n",
    "\n",
    "The name will be **area_of_cylinder** and it will take two parameters.\n",
    "\n",
    "The first parameter r will be the radius of top and base circles.\n",
    "\n",
    "The seconda parameter h will be the hight of cylinder.\n",
    "\n",
    "**Hints:**\n",
    "* cylinder is a combination of two circles and a rectangle\n",
    "* use functions from previous questions to calculate the areas"
   ]
  },
  {
   "cell_type": "code",
   "execution_count": 10,
   "id": "uniform-emphasis",
   "metadata": {},
   "outputs": [
    {
     "data": {
      "text/plain": [
       "753.9822368615504"
      ]
     },
     "execution_count": 10,
     "metadata": {},
     "output_type": "execute_result"
    }
   ],
   "source": [
    "# Q 10:\n",
    "\n",
    "# --- your solution here --- #    \n",
    "\n",
    "\n",
    "# call the function you defined\n",
    "area_of_cylinder(10, 2)"
   ]
  }
 ],
 "metadata": {
  "kernelspec": {
   "display_name": "Python 3",
   "language": "python",
   "name": "python3"
  },
  "language_info": {
   "codemirror_mode": {
    "name": "ipython",
    "version": 3
   },
   "file_extension": ".py",
   "mimetype": "text/x-python",
   "name": "python",
   "nbconvert_exporter": "python",
   "pygments_lexer": "ipython3",
   "version": "3.8.8"
  }
 },
 "nbformat": 4,
 "nbformat_minor": 5
}
