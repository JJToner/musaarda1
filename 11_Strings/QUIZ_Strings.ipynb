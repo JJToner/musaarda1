{
 "cells": [
  {
   "cell_type": "markdown",
   "id": "governmental-hacker",
   "metadata": {},
   "source": [
    "## QUIZ - Strings"
   ]
  },
  {
   "cell_type": "markdown",
   "id": "checked-sauce",
   "metadata": {},
   "source": [
    "**Q 1:**\n",
    "\n",
    "Define a function named **only_first_letters**.\n",
    "\n",
    "It will take a string as the parameter.\n",
    "\n",
    "And it will convert all the first letters of each word into upper case.\n",
    "\n",
    "All the remaining letter will be lower case."
   ]
  },
  {
   "cell_type": "code",
   "execution_count": 1,
   "id": "sonic-touch",
   "metadata": {},
   "outputs": [
    {
     "name": "stdout",
     "output_type": "stream",
     "text": [
      "Python Is Great\n"
     ]
    }
   ],
   "source": [
    "# Q 1:\n",
    "\n",
    "# ---- your solution here ----\n",
    "\n",
    "\n",
    "# call the function you defined\n",
    "proper_text = only_first_letters('pyThon iS grEAt')\n",
    "print(proper_text)"
   ]
  },
  {
   "cell_type": "markdown",
   "id": "experimental-wrist",
   "metadata": {},
   "source": [
    "---"
   ]
  },
  {
   "cell_type": "markdown",
   "id": "checked-peninsula",
   "metadata": {},
   "source": [
    "**Q 2:**\n",
    "\n",
    "Define a function taking a text and a letter as parameters.\n",
    "\n",
    "The function name will be **count_the_letter**.\n",
    "\n",
    "Function will return the number (count) of occurrences of the letter in the text.\n",
    "\n",
    "**Hints:**\n",
    "* use built-in function\n",
    "* your function body should be one line of code\n",
    "* https://docs.python.org/3/library/stdtypes.html#string-methods"
   ]
  },
  {
   "cell_type": "code",
   "execution_count": 2,
   "id": "naughty-grenada",
   "metadata": {},
   "outputs": [
    {
     "name": "stdin",
     "output_type": "stream",
     "text": [
      "Please enter a text:  Python Hands-On is a perfect book :)\n",
      "Now a letter:  e\n"
     ]
    },
    {
     "data": {
      "text/plain": [
       "2"
      ]
     },
     "execution_count": 2,
     "metadata": {},
     "output_type": "execute_result"
    }
   ],
   "source": [
    "# Q 2:\n",
    "\n",
    "# ---- your solution here ----\n",
    "\n",
    "\n",
    "# call the function you defined\n",
    "text = input('Please enter a text: ')\n",
    "letter = input('Now a letter: ')\n",
    "count_the_letter(text, letter)"
   ]
  },
  {
   "cell_type": "markdown",
   "id": "adaptive-niger",
   "metadata": {},
   "source": [
    "---"
   ]
  },
  {
   "cell_type": "markdown",
   "id": "noted-instruction",
   "metadata": {},
   "source": [
    "**Q 3:**\n",
    "\n",
    "Define a function named **count_letters**.\n",
    "\n",
    "It will ask for sentence from the user.\n",
    "\n",
    "And it will count the occurrences of each letter and print it.\n",
    "\n",
    "**Hints:**\n",
    "* Do not count space character\n",
    "* Use the function you defined in Q2.\n",
    "\n",
    "<pre>\n",
    "Expected Output:\n",
    "\n",
    "Please enter a sentence:  pandas\n",
    "letter p: 1 time(s)\n",
    "letter a: 2 time(s)\n",
    "letter n: 1 time(s)\n",
    "letter d: 1 time(s)\n",
    "letter s: 1 time(s)\n",
    "</pre>"
   ]
  },
  {
   "cell_type": "code",
   "execution_count": 3,
   "id": "final-decision",
   "metadata": {},
   "outputs": [
    {
     "name": "stdin",
     "output_type": "stream",
     "text": [
      "Please enter a sentence:  pandas\n"
     ]
    },
    {
     "name": "stdout",
     "output_type": "stream",
     "text": [
      "letter p: 1 time(s)\n",
      "letter a: 2 time(s)\n",
      "letter n: 1 time(s)\n",
      "letter d: 1 time(s)\n",
      "letter s: 1 time(s)\n"
     ]
    }
   ],
   "source": [
    "# Q 3:\n",
    "\n",
    "# ---- your solution here ----\n",
    "    \n",
    "\n",
    "# call the function you defined\n",
    "count_letters()"
   ]
  },
  {
   "cell_type": "markdown",
   "id": "optional-pocket",
   "metadata": {},
   "source": [
    "---"
   ]
  },
  {
   "cell_type": "markdown",
   "id": "heated-falls",
   "metadata": {},
   "source": [
    "**Q 4:**\n",
    "\n",
    "Your text is:\n",
    "\n",
    "'Monday Tuesday Wednesday Thursday Friday'.\n",
    "\n",
    "Do slicing operations on this text and answer the following questions:\n",
    "\n",
    "<pre>\n",
    "* find the first 3 chars\n",
    "* find the chars between index 7 and 10 (inc.)\n",
    "* find the chars between index 2 and 12 (exc.)\n",
    "* find the chars at indices 3, 4 and 5\n",
    "</pre>"
   ]
  },
  {
   "cell_type": "code",
   "execution_count": 4,
   "id": "eligible-supervisor",
   "metadata": {},
   "outputs": [
    {
     "name": "stdout",
     "output_type": "stream",
     "text": [
      "the first 3 chars:  Mon\n",
      "the chars between index 7 and 10 (inc.):  Tues\n",
      "the chars between index 2 and 12 (exc.):  nday Tuesd\n",
      "the chars at indices 3, 4 and 5:  day\n"
     ]
    }
   ],
   "source": [
    "# Q 4:\n",
    "\n",
    "text = 'Monday Tuesday Wednesday Thursday Friday'\n",
    "\n",
    "\n",
    "# find the first 3 chars\n",
    "# ---- your solution here ----\n",
    "\n",
    "# find the chars between index 7 and 10 (inc.)\n",
    "# ---- your solution here ----\n",
    "\n",
    "# find the chars between index 2 and 12 (exc.)\n",
    "# ---- your solution here ----\n",
    "\n",
    "# find the chars at indices 3, 4 and 5\n",
    "# ---- your solution here ----"
   ]
  },
  {
   "cell_type": "markdown",
   "id": "viral-federal",
   "metadata": {},
   "source": [
    "---"
   ]
  },
  {
   "cell_type": "markdown",
   "id": "hungry-commissioner",
   "metadata": {},
   "source": [
    "**Q 5:**\n",
    "\n",
    "Your text is:\n",
    "\n",
    "'Monday Tuesday Wednesday'\n",
    "\n",
    "Do slicing operations on this text and answer the following questions:\n",
    "\n",
    "<pre>\n",
    "* find the chars from index 1 to 7 with step size 2\n",
    "* find the chars from index 3 to 20 with step size 3\n",
    "* find the chars with even indices (0, 2, 4, 6 ...)\n",
    "* find the chars with odd indices (1, 3, 5, 7 ...)\n",
    "</pre>"
   ]
  },
  {
   "cell_type": "code",
   "execution_count": 5,
   "id": "altered-adelaide",
   "metadata": {},
   "outputs": [
    {
     "name": "stdout",
     "output_type": "stream",
     "text": [
      "the chars from index 1 to 7 with step size 2:  ody\n",
      "the chars from index 3 to 20 with step size 3:  d eaWn\n",
      "the chars with even indices (0, 2, 4, 6 ...):  Mna usa ensa\n",
      "the chars with odd indices (1, 3, 5, 7 ...):  odyTedyWdedy\n"
     ]
    }
   ],
   "source": [
    "# Q 5:\n",
    "\n",
    "text = 'Monday Tuesday Wednesday'\n",
    "\n",
    "\n",
    "# find the chars from index 1 to 7 with step size 2\n",
    "# ---- your solution here ----\n",
    "\n",
    "# find the chars from index 3 to 20 with step size 3\n",
    "# ---- your solution here ----\n",
    "\n",
    "# find the chars with even indices (0, 2, 4, 6 ...)\n",
    "# ---- your solution here ----\n",
    "\n",
    "# find the chars with odd indices (1, 3, 5, 7 ...)\n",
    "# ---- your solution here ----"
   ]
  },
  {
   "cell_type": "markdown",
   "id": "radio-design",
   "metadata": {},
   "source": [
    "---"
   ]
  },
  {
   "cell_type": "markdown",
   "id": "empty-notification",
   "metadata": {},
   "source": [
    "**Q 6:**\n",
    "\n",
    "Your text:\n",
    "\n",
    "'Monday Tuesday Wednesday'\n",
    "\n",
    "Do slicing operations on this text and answer the following questions:\n",
    "\n",
    "<pre>\n",
    "* find the last character\n",
    "* find the 3rd character from last\n",
    "* find last 3 characters\n",
    "* print the text in reverse order\n",
    "</pre>"
   ]
  },
  {
   "cell_type": "code",
   "execution_count": 6,
   "id": "hollywood-balloon",
   "metadata": {},
   "outputs": [
    {
     "name": "stdout",
     "output_type": "stream",
     "text": [
      "the last character:  y\n",
      "the 3rd character from last:  d\n",
      "last 3 characters:  day\n",
      "the text in reverse order:  yadsendeW yadseuT yadnoM\n"
     ]
    }
   ],
   "source": [
    "# Q 6:\n",
    "\n",
    "text = 'Monday Tuesday Wednesday'\n",
    "\n",
    "\n",
    "# find the last character\n",
    "# ---- your solution here ----\n",
    "\n",
    "# find the 3rd character from last\n",
    "# ---- your solution here ----\n",
    "\n",
    "# find last 3 characters\n",
    "# ---- your solution here ----\n",
    "\n",
    "# print the text in reverse order\n",
    "# ---- your solution here ----"
   ]
  },
  {
   "cell_type": "markdown",
   "id": "large-discretion",
   "metadata": {},
   "source": [
    "---"
   ]
  },
  {
   "cell_type": "markdown",
   "id": "satisfactory-senator",
   "metadata": {},
   "source": [
    "**Q 7:**\n",
    "\n",
    "Your text:\n",
    "\n",
    "'Monday Tuesday Wednesday'\n",
    "\n",
    "Do slicing operations on this text and answer the following questions:\n",
    "\n",
    "<pre>\n",
    "* find the chars between 2nd and 6th from last\n",
    "* find the chars between 2nd (inc.) and 6th from last\n",
    "* find the negative index which correspond to the char with index 10\n",
    "* find all characters except the last one\n",
    "* find all characters except the fist and the last one\n",
    "</pre>"
   ]
  },
  {
   "cell_type": "code",
   "execution_count": 7,
   "id": "related-beginning",
   "metadata": {},
   "outputs": [
    {
     "name": "stdout",
     "output_type": "stream",
     "text": [
      "the chars between 2nd and 6th from last:  nesd\n",
      "the chars between 2nd (inc.) and 6th from last:  nesda\n",
      "negative_index:  -14\n",
      "all characters except the last one:  Monday Tuesday Wednesda\n",
      "all characters except the fist and the last one:  onday Tuesday Wednesda\n"
     ]
    }
   ],
   "source": [
    "# Q 7:\n",
    "\n",
    "text = 'Monday Tuesday Wednesday'\n",
    "\n",
    "\n",
    "# find the chars between 2nd and 6th from last\n",
    "# ---- your solution here ----\n",
    "\n",
    "# find the chars between 2nd (inc.) and 6th from last\n",
    "# ---- your solution here ----\n",
    "\n",
    "# find the negative index which correspond to the char with index 10\n",
    "# abs(index) + abs(negative_index) = length\n",
    "# ---- your solution here ----\n",
    "\n",
    "# find all characters except the last one\n",
    "# ---- your solution here ----\n",
    "\n",
    "# find all characters except the fist and the last one\n",
    "# ---- your solution here ----"
   ]
  },
  {
   "cell_type": "markdown",
   "id": "czech-politics",
   "metadata": {},
   "source": [
    "---"
   ]
  },
  {
   "cell_type": "markdown",
   "id": "final-treaty",
   "metadata": {},
   "source": [
    "**Q 8:**\n",
    "\n",
    "Define a function named **split_email**.\n",
    "\n",
    "It will ask for an email from the user.\n",
    "\n",
    "And it will split the email into user name and domain name using **index**.\n",
    "\n",
    "**Hints:**\n",
    "* if the input doesn't include '@' char, return a text as 'Invalid email format.'\n",
    "\n",
    "<pre>\n",
    "Expected output:\n",
    "\n",
    "Please enter an email:  abc@acme.corp\n",
    "User Name: abc\n",
    "Domain: acme.corp\n",
    "</pre>"
   ]
  },
  {
   "cell_type": "code",
   "execution_count": 8,
   "id": "thrown-guitar",
   "metadata": {},
   "outputs": [
    {
     "name": "stdin",
     "output_type": "stream",
     "text": [
      "Please enter an email:  abc@acme.com\n"
     ]
    },
    {
     "name": "stdout",
     "output_type": "stream",
     "text": [
      "User Name: abc\n",
      "Domain: acme.com\n"
     ]
    }
   ],
   "source": [
    "# Q 8:\n",
    "\n",
    "# ---- your solution here ----\n",
    "\n",
    "\n",
    "# call the function you defined\n",
    "split_email()"
   ]
  },
  {
   "cell_type": "markdown",
   "id": "coordinate-stranger",
   "metadata": {},
   "source": [
    "---"
   ]
  },
  {
   "cell_type": "markdown",
   "id": "lonely-vietnam",
   "metadata": {},
   "source": [
    "**Q 9:**\n",
    "\n",
    "Define a function named **reverse**.\n",
    "\n",
    "It will ask for a sentence from the user and return the reverse of this sentence.\n",
    "\n",
    "<pre>\n",
    "Expected Output:\n",
    "\n",
    "Please enter a sentence:  yesterday came suddenly\n",
    "'ylneddus emac yadretsey\n",
    "</pre>"
   ]
  },
  {
   "cell_type": "code",
   "execution_count": 9,
   "id": "parliamentary-grain",
   "metadata": {},
   "outputs": [
    {
     "name": "stdin",
     "output_type": "stream",
     "text": [
      "Please enter a sentence:  yesterday came suddenly\n"
     ]
    },
    {
     "data": {
      "text/plain": [
       "'ylneddus emac yadretsey'"
      ]
     },
     "execution_count": 9,
     "metadata": {},
     "output_type": "execute_result"
    }
   ],
   "source": [
    "# Q 9:\n",
    "\n",
    "# ---- your solution here ----\n",
    "\n",
    "\n",
    "# call the function you defined\n",
    "reverse()"
   ]
  },
  {
   "cell_type": "markdown",
   "id": "affiliated-pizza",
   "metadata": {},
   "source": [
    "---"
   ]
  },
  {
   "cell_type": "markdown",
   "id": "statutory-ceremony",
   "metadata": {},
   "source": [
    "**Q 10:**\n",
    "\n",
    "Define a function named **replace_with_next_letter**.\n",
    "\n",
    "It will ask for an input from the user.\n",
    "\n",
    "And will replace every character with the next letter in the English alphabet.\n",
    "\n",
    "**Hints:**\n",
    "* use nested functions\n",
    "* there should be is_lower() and is_upper() functions to check whether the char is small or upper\n",
    "* there should be next_letter() function to take a letter and return the next one from alphabet\n",
    "* alphabets:\n",
    "    * alphabet_lower = 'abcdefghijklmnoprstuvyz'\n",
    "    * alphabet_upper = 'ABCDEFGHIJKLMNOPRSTUVYZ'\n",
    "* use index to get the related letter\n",
    "\n",
    "<pre>\n",
    "Expected Output:\n",
    "\n",
    "Please enter a text:  Python\n",
    "Rzuipo\n",
    "\n",
    "Please enter a text:  abcZ\n",
    "bcdA\n",
    "</pre>"
   ]
  },
  {
   "cell_type": "code",
   "execution_count": 10,
   "id": "human-philosophy",
   "metadata": {},
   "outputs": [
    {
     "name": "stdin",
     "output_type": "stream",
     "text": [
      "Please enter a sentence:  Python\n"
     ]
    },
    {
     "name": "stdout",
     "output_type": "stream",
     "text": [
      "Rzuipo\n"
     ]
    },
    {
     "name": "stdin",
     "output_type": "stream",
     "text": [
      "Please enter a sentence:  abcZ\n"
     ]
    },
    {
     "name": "stdout",
     "output_type": "stream",
     "text": [
      "bcdA\n"
     ]
    }
   ],
   "source": [
    "# Q 10:\n",
    "\n",
    "# ---- your solution here ----     \n",
    "    \n",
    "    \n",
    "# call the function you defined\n",
    "new_text = replace_with_next_letter()\n",
    "print(new_text)\n",
    "\n",
    "new_text = replace_with_next_letter()\n",
    "print(new_text)"
   ]
  }
 ],
 "metadata": {
  "kernelspec": {
   "display_name": "Python 3",
   "language": "python",
   "name": "python3"
  },
  "language_info": {
   "codemirror_mode": {
    "name": "ipython",
    "version": 3
   },
   "file_extension": ".py",
   "mimetype": "text/x-python",
   "name": "python",
   "nbconvert_exporter": "python",
   "pygments_lexer": "ipython3",
   "version": "3.8.8"
  }
 },
 "nbformat": 4,
 "nbformat_minor": 5
}
