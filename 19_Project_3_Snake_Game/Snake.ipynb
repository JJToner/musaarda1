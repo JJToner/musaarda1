{
 "cells": [
  {
   "cell_type": "markdown",
   "id": "awful-rebate",
   "metadata": {},
   "source": [
    "# Snake"
   ]
  },
  {
   "cell_type": "markdown",
   "id": "prospective-integration",
   "metadata": {},
   "source": [
    "## Preparation"
   ]
  },
  {
   "cell_type": "code",
   "execution_count": 1,
   "id": "current-necessity",
   "metadata": {},
   "outputs": [],
   "source": [
    "import turtle\n",
    "import time\n",
    "import random"
   ]
  },
  {
   "cell_type": "code",
   "execution_count": 2,
   "id": "speaking-dragon",
   "metadata": {},
   "outputs": [],
   "source": [
    "# global variable\n",
    "\n",
    "window = None\n",
    "snake = []\n",
    "head = None\n",
    "\n",
    "direction = 'down'\n",
    "delay_time = 0.1\n",
    "\n",
    "food = None\n",
    "food_color = ''\n",
    "\n",
    "TURTLE_SIZE = 20\n",
    "WIDTH = 600\n",
    "HEIGHT = 600\n",
    "\n",
    "X_RANGE = (WIDTH - TURTLE_SIZE) / 2\n",
    "Y_RANGE = (HEIGHT - TURTLE_SIZE) / 2\n",
    "\n",
    "pen = None\n",
    "score = 0\n",
    "high_score = 0\n",
    "\n",
    "shapes = {\n",
    "    0: 'circle',\n",
    "    1: 'square',\n",
    "    2: 'triangle'\n",
    "}\n",
    "\n",
    "colors = {\n",
    "    0: 'gold',\n",
    "    1: 'lime green',\n",
    "    2: 'dark magenta',\n",
    "    3: 'red',\n",
    "    4: 'dark orange',\n",
    "    5: 'deep sky blue',\n",
    "    6: 'deep pink',\n",
    "    7: 'light sea green'\n",
    "}"
   ]
  },
  {
   "cell_type": "markdown",
   "id": "dominican-chest",
   "metadata": {},
   "source": [
    "## Functions"
   ]
  },
  {
   "cell_type": "markdown",
   "id": "developmental-central",
   "metadata": {},
   "source": [
    "**Main Screen:**"
   ]
  },
  {
   "cell_type": "code",
   "execution_count": 3,
   "id": "dependent-scanner",
   "metadata": {},
   "outputs": [],
   "source": [
    "# function to set up the main screen\n",
    "\n",
    "def set_screen():\n",
    "    \"\"\"Sets the main screen.\"\"\"\n",
    "    \n",
    "    global window\n",
    "    \n",
    "    window = turtle.Screen()\n",
    "    window.title('Hands-On Snake')\n",
    "    window.bgcolor('white smoke')\n",
    "    window.setup(width=WIDTH, height=HEIGHT)\n",
    "    window.tracer(0) # False"
   ]
  },
  {
   "cell_type": "markdown",
   "id": "superb-making",
   "metadata": {},
   "source": [
    "**Events:**"
   ]
  },
  {
   "cell_type": "code",
   "execution_count": 4,
   "id": "martial-wales",
   "metadata": {},
   "outputs": [],
   "source": [
    "# function to listen screen events\n",
    "\n",
    "def listen_events():\n",
    "    window.listen()\n",
    "    window.onkeypress(set_up_direction, 'Up')\n",
    "    window.onkeypress(set_down_direction, 'Down')\n",
    "    window.onkeypress(set_left_direction, 'Left')\n",
    "    window.onkeypress(set_right_direction, 'Right')"
   ]
  },
  {
   "cell_type": "code",
   "execution_count": 5,
   "id": "apart-abortion",
   "metadata": {},
   "outputs": [],
   "source": [
    "# keyboard functions\n",
    "\n",
    "def set_up_direction():\n",
    "    global direction\n",
    "    if direction != 'down':\n",
    "        direction = 'up'\n",
    "    \n",
    "def set_down_direction():\n",
    "    global direction\n",
    "    if direction != 'up':\n",
    "        direction = 'down'\n",
    "    \n",
    "def set_left_direction():\n",
    "    global direction\n",
    "    if direction != 'right':\n",
    "        direction = 'left'\n",
    "    \n",
    "def set_right_direction():\n",
    "    global direction\n",
    "    if direction != 'left':\n",
    "        direction = 'right'"
   ]
  },
  {
   "cell_type": "markdown",
   "id": "mediterranean-satisfaction",
   "metadata": {},
   "source": [
    "**Head:**"
   ]
  },
  {
   "cell_type": "code",
   "execution_count": 6,
   "id": "conceptual-dietary",
   "metadata": {},
   "outputs": [],
   "source": [
    "# create the head\n",
    "\n",
    "def create_head(is_initial=True):\n",
    "    \"\"\"Creates the snake head.\"\"\"\n",
    "    \n",
    "    global head, snake\n",
    "    \n",
    "    # create the head\n",
    "    head = turtle.Turtle()\n",
    "    head.shape(shapes[1])  # 20 x 20\n",
    "    head.speed(0)\n",
    "    head.penup()\n",
    "    \n",
    "    # start at a higher position\n",
    "    if is_initial:\n",
    "        head.goto(0, 200)\n",
    "    \n",
    "    snake.append(head)"
   ]
  },
  {
   "cell_type": "markdown",
   "id": "subject-debate",
   "metadata": {},
   "source": [
    "**Score:**"
   ]
  },
  {
   "cell_type": "code",
   "execution_count": 7,
   "id": "billion-wagon",
   "metadata": {},
   "outputs": [],
   "source": [
    "# create the score\n",
    "\n",
    "def create_score():\n",
    "    \n",
    "    global pen\n",
    "    \n",
    "    # create the pen turtle\n",
    "    pen = turtle.Turtle()\n",
    "    pen.penup()\n",
    "    pen.hideturtle()    \n",
    "    pen.goto(0, Y_RANGE - 2 * TURTLE_SIZE)\n",
    "    pen.color('black')\n",
    "    \n",
    "    # initialize the score\n",
    "    update_score(0)"
   ]
  },
  {
   "cell_type": "code",
   "execution_count": 8,
   "id": "thick-wallpaper",
   "metadata": {},
   "outputs": [],
   "source": [
    "# update the score\n",
    "\n",
    "def update_score(score_increment, is_reset=False):\n",
    "    \n",
    "    global score, high_score\n",
    "    \n",
    "    if is_reset:\n",
    "        score = 0\n",
    "    else:\n",
    "        score += score_increment\n",
    "        \n",
    "    if score > high_score:\n",
    "        high_score = score\n",
    "        \n",
    "    pen.clear()\n",
    "    \n",
    "    pen.write(\"Score: {0}  |  High Score: {1}\".format(score, high_score),\n",
    "              align='center',\n",
    "              font=('Arial', 16, 'normal'))"
   ]
  },
  {
   "cell_type": "markdown",
   "id": "stable-holiday",
   "metadata": {},
   "source": [
    "**Reset:**"
   ]
  },
  {
   "cell_type": "code",
   "execution_count": 9,
   "id": "global-particular",
   "metadata": {},
   "outputs": [],
   "source": [
    "# reset screen fn\n",
    "\n",
    "def reset():\n",
    "    \n",
    "    # hide the segments of snake\n",
    "    for t in snake:\n",
    "        t.goto(40000, 4000)\n",
    "    \n",
    "    # clear the snake list\n",
    "    snake.clear()\n",
    "    \n",
    "    # create a new head\n",
    "    create_head(is_initial=False)\n",
    "\n",
    "    # reset the score\n",
    "    update_score(0, is_reset=True)"
   ]
  },
  {
   "cell_type": "markdown",
   "id": "controlled-mother",
   "metadata": {},
   "source": [
    "**Delay:**"
   ]
  },
  {
   "cell_type": "code",
   "execution_count": 10,
   "id": "external-algeria",
   "metadata": {},
   "outputs": [],
   "source": [
    "# delay function\n",
    "\n",
    "def delay(duration):\n",
    "    time.sleep(duration)"
   ]
  },
  {
   "cell_type": "markdown",
   "id": "friendly-president",
   "metadata": {},
   "source": [
    "**Collisions:**"
   ]
  },
  {
   "cell_type": "code",
   "execution_count": 11,
   "id": "normal-terminology",
   "metadata": {},
   "outputs": [],
   "source": [
    "# function for border collisions\n",
    "\n",
    "def check_border_collisions():\n",
    "    \n",
    "    # if the head position (x, y) is out the ranges (X_RANGE, Y_RANGE) -> we collide\n",
    "    \n",
    "    x = head.xcor()\n",
    "    y = head.ycor()\n",
    "    \n",
    "    if x <= -X_RANGE or x >= X_RANGE or y <= -Y_RANGE or y >= Y_RANGE:\n",
    "        # set direction\n",
    "        global direction\n",
    "        direction = 'stop'\n",
    "    \n",
    "        # reset screen after 1 second\n",
    "        delay(1)\n",
    "        reset()"
   ]
  },
  {
   "cell_type": "code",
   "execution_count": 12,
   "id": "important-benjamin",
   "metadata": {},
   "outputs": [],
   "source": [
    "# body collisions\n",
    "\n",
    "def check_body_collisions():\n",
    "    \n",
    "    # if the distance betwwen the head and any of the segments is less than the TURTLE_SIZE\n",
    "    # then this means we collide\n",
    "\n",
    "    for i, t in enumerate(snake):        \n",
    "        # exclude head \n",
    "        if i > 0:            \n",
    "            if head.distance(t) < TURTLE_SIZE - 1:                \n",
    "                # set direction \n",
    "                global direction\n",
    "                direction = 'stop'\n",
    "        \n",
    "                # reset screen after 1 second\n",
    "                delay(1)\n",
    "                reset()"
   ]
  },
  {
   "cell_type": "markdown",
   "id": "frank-clearance",
   "metadata": {},
   "source": [
    "**Move:**"
   ]
  },
  {
   "cell_type": "code",
   "execution_count": 13,
   "id": "constant-identity",
   "metadata": {},
   "outputs": [],
   "source": [
    "# move function\n",
    "\n",
    "def move():\n",
    "    if window._RUNNING:        \n",
    "        # move only if the direction is not stop\n",
    "        if direction != 'stop':\n",
    "            # move the segments\n",
    "            move_segments()\n",
    "\n",
    "            # move the head\n",
    "            move_head()"
   ]
  },
  {
   "cell_type": "code",
   "execution_count": 14,
   "id": "expressed-playing",
   "metadata": {},
   "outputs": [],
   "source": [
    "# fn to move segments\n",
    "\n",
    "def move_segments():\n",
    "    \n",
    "    # move each segment in reverse order -> from last segment\n",
    "    # move each segment into the position of the previous one\n",
    "    # ignore the head\n",
    "    # start from the last one -> len(snake)-1\n",
    "    # up to head -> 0\n",
    "    # backwards -> -1\n",
    "    \n",
    "    for i in range(len(snake)-1, 0, -1):\n",
    "        x = snake[i-1].xcor()\n",
    "        y = snake[i-1].ycor()\n",
    "        snake[i].goto(x, y)"
   ]
  },
  {
   "cell_type": "code",
   "execution_count": 15,
   "id": "finished-finger",
   "metadata": {},
   "outputs": [],
   "source": [
    "# fn to move the head\n",
    "\n",
    "def move_head():\n",
    "    \n",
    "    # get current coordinate\n",
    "    x = head.xcor()\n",
    "    y = head.ycor()\n",
    "\n",
    "    if direction == 'up':\n",
    "        head.sety(y + TURTLE_SIZE)\n",
    "    elif direction == 'down':\n",
    "        head.sety(y - TURTLE_SIZE)\n",
    "    elif direction == 'left':\n",
    "        head.setx(x - TURTLE_SIZE)\n",
    "    elif direction == 'right':\n",
    "        head.setx(x + TURTLE_SIZE)"
   ]
  },
  {
   "cell_type": "markdown",
   "id": "coated-geology",
   "metadata": {},
   "source": [
    "**Food:**"
   ]
  },
  {
   "cell_type": "code",
   "execution_count": 16,
   "id": "owned-malawi",
   "metadata": {},
   "outputs": [],
   "source": [
    "# create the food object\n",
    "\n",
    "def add_food():\n",
    "    \n",
    "    if window._RUNNING:        \n",
    "        global food\n",
    "        \n",
    "        # create a turtle -> single -> Singleton Pattern\n",
    "        if food == None:\n",
    "            food = turtle.Turtle()\n",
    "            food.shape(get_shape())\n",
    "            food.shapesize(0.5, 0.5)\n",
    "            food.speed(0)\n",
    "            food.penup()\n",
    "            \n",
    "            # color\n",
    "            food.color(get_color())\n",
    "            \n",
    "            # move the food\n",
    "            move_food(food)"
   ]
  },
  {
   "cell_type": "code",
   "execution_count": 17,
   "id": "involved-easter",
   "metadata": {},
   "outputs": [],
   "source": [
    "# function to move the food\n",
    "\n",
    "def move_food(food):    \n",
    "    # x coordinate\n",
    "    x = random.randint(-X_RANGE, X_RANGE)\n",
    "    \n",
    "    # y coordinate\n",
    "    y = random.randint(-Y_RANGE, Y_RANGE - 2 * TURTLE_SIZE)\n",
    "    \n",
    "    # replace the food\n",
    "    food.goto(x, y)"
   ]
  },
  {
   "cell_type": "code",
   "execution_count": 18,
   "id": "serial-enterprise",
   "metadata": {},
   "outputs": [],
   "source": [
    "# function to eat the food\n",
    "\n",
    "def eat_food():\n",
    "    \n",
    "    # check the distance between the head and the food\n",
    "    if head.distance(food) < TURTLE_SIZE - 1:\n",
    "        \n",
    "        # move the food\n",
    "        move_food(food)\n",
    "        \n",
    "        # change the food shape\n",
    "        food.shape(get_shape())\n",
    "        \n",
    "        # create a segment for the snake\n",
    "        create_segment()\n",
    "        \n",
    "        # change the food color\n",
    "        food.color(get_color())\n",
    "        \n",
    "        # update score\n",
    "        update_score(10)"
   ]
  },
  {
   "cell_type": "markdown",
   "id": "separated-embassy",
   "metadata": {},
   "source": [
    "**Body Segments:**"
   ]
  },
  {
   "cell_type": "code",
   "execution_count": 19,
   "id": "grave-jerusalem",
   "metadata": {},
   "outputs": [],
   "source": [
    "# function to create segment\n",
    "\n",
    "def create_segment():\n",
    "    \"\"\"Creates a new segment for snake.\"\"\"\n",
    "    \n",
    "    global snake\n",
    "    \n",
    "    # create a segment\n",
    "    segment = turtle.Turtle()\n",
    "    segment.shape(shapes[1])\n",
    "    segment.speed(0)\n",
    "    segment.color(food_color)\n",
    "    segment.penup()\n",
    "    \n",
    "    # position the segment\n",
    "    x, y = get_last_segment_position()\n",
    "    segment.goto(x, y)\n",
    "    \n",
    "    # add this segment into snake list\n",
    "    snake.append(segment)"
   ]
  },
  {
   "cell_type": "code",
   "execution_count": 20,
   "id": "naughty-roommate",
   "metadata": {},
   "outputs": [],
   "source": [
    "# last segment position\n",
    "\n",
    "def get_last_segment_position():\n",
    "    \n",
    "    # last element -> snake[-1]\n",
    "    x = snake[-1].xcor()\n",
    "    y = snake[-1].ycor()\n",
    "    \n",
    "    # direction\n",
    "    # if direction is up -> same x, y is TURTLE_SIZE less\n",
    "    if direction == 'up':\n",
    "        y = y - TURTLE_SIZE\n",
    "    \n",
    "    # if direction is up -> same x, y is TURTLE_SIZE more\n",
    "    elif direction == 'down':\n",
    "        y = y + TURTLE_SIZE\n",
    "        \n",
    "    # if direction is right -> same y, x is TURTLE_SIZE less\n",
    "    elif direction == 'right':\n",
    "        x = x - TURTLE_SIZE\n",
    "        \n",
    "    # if direction is left -> same y, x is TURTLE_SIZE more\n",
    "    elif direction == 'left':\n",
    "        x = x + TURTLE_SIZE\n",
    "    \n",
    "    return (x, y)"
   ]
  },
  {
   "cell_type": "markdown",
   "id": "norwegian-netscape",
   "metadata": {},
   "source": [
    "**Shape:**"
   ]
  },
  {
   "cell_type": "code",
   "execution_count": 21,
   "id": "forward-intermediate",
   "metadata": {},
   "outputs": [],
   "source": [
    "# get a random shape\n",
    "\n",
    "def get_shape():\n",
    "    # get a random index from the shapes\n",
    "    index = random.randint(0, len(shapes)-1)\n",
    "    # return the item at that index\n",
    "    return shapes[index]"
   ]
  },
  {
   "cell_type": "markdown",
   "id": "secondary-boutique",
   "metadata": {},
   "source": [
    "**Color:**"
   ]
  },
  {
   "cell_type": "code",
   "execution_count": 22,
   "id": "unusual-barrel",
   "metadata": {},
   "outputs": [],
   "source": [
    "# get a random color\n",
    "\n",
    "def get_color():\n",
    "    \n",
    "    global food_color\n",
    "    \n",
    "    index = random.randint(0, len(colors)-1)\n",
    "    color = colors[index]\n",
    "    \n",
    "    food_color = color\n",
    "    \n",
    "    return color"
   ]
  },
  {
   "cell_type": "markdown",
   "id": "laughing-hearts",
   "metadata": {},
   "source": [
    "**Screen:**"
   ]
  },
  {
   "cell_type": "code",
   "execution_count": 23,
   "id": "humanitarian-appointment",
   "metadata": {},
   "outputs": [],
   "source": [
    "# function to update screen\n",
    "\n",
    "def update_screen():\n",
    "    \n",
    "    while window._RUNNING:\n",
    "\n",
    "        # side collisions\n",
    "        check_border_collisions()\n",
    "        \n",
    "        # body collisions\n",
    "        check_body_collisions()\n",
    "        \n",
    "        # move the head\n",
    "        move()\n",
    "            \n",
    "        # delay\n",
    "        delay(delay_time)\n",
    "        \n",
    "        # create the food\n",
    "        add_food()\n",
    "        \n",
    "        # eat the food\n",
    "        eat_food()\n",
    "        \n",
    "        # get rid of update error\n",
    "        window.update()"
   ]
  },
  {
   "cell_type": "markdown",
   "id": "drawn-pressing",
   "metadata": {},
   "source": [
    "**Main:**"
   ]
  },
  {
   "cell_type": "code",
   "execution_count": 24,
   "id": "dangerous-healthcare",
   "metadata": {},
   "outputs": [],
   "source": [
    "# main function to call other functions\n",
    "\n",
    "def main():\n",
    "    \n",
    "    # set the screen\n",
    "    set_screen()\n",
    "    \n",
    "    # listen keyboard events\n",
    "    listen_events()\n",
    "\n",
    "    # create head\n",
    "    create_head()\n",
    "    \n",
    "    # create score\n",
    "    create_score()\n",
    "    \n",
    "    # update screen\n",
    "    update_screen()"
   ]
  },
  {
   "cell_type": "code",
   "execution_count": 25,
   "id": "neutral-nurse",
   "metadata": {},
   "outputs": [],
   "source": [
    "# call the main function to start the game\n",
    "main()"
   ]
  },
  {
   "cell_type": "code",
   "execution_count": 26,
   "id": "joined-concept",
   "metadata": {},
   "outputs": [
    {
     "ename": "Terminator",
     "evalue": "",
     "output_type": "error",
     "traceback": [
      "\u001b[1;31m---------------------------------------------------------------------------\u001b[0m",
      "\u001b[1;31mTerminator\u001b[0m                                Traceback (most recent call last)",
      "\u001b[1;32m<ipython-input-26-4524fbad020d>\u001b[0m in \u001b[0;36m<module>\u001b[1;34m\u001b[0m\n\u001b[0;32m      1\u001b[0m \u001b[1;31m# the last line\u001b[0m\u001b[1;33m\u001b[0m\u001b[1;33m\u001b[0m\u001b[1;33m\u001b[0m\u001b[0m\n\u001b[0;32m      2\u001b[0m \u001b[1;33m\u001b[0m\u001b[0m\n\u001b[1;32m----> 3\u001b[1;33m \u001b[0mturtle\u001b[0m\u001b[1;33m.\u001b[0m\u001b[0mmainloop\u001b[0m\u001b[1;33m(\u001b[0m\u001b[1;33m)\u001b[0m\u001b[1;33m\u001b[0m\u001b[1;33m\u001b[0m\u001b[0m\n\u001b[0m",
      "\u001b[1;32m~\\anaconda3\\envs\\python_intro\\lib\\turtle.py\u001b[0m in \u001b[0;36mmainloop\u001b[1;34m()\u001b[0m\n",
      "\u001b[1;31mTerminator\u001b[0m: "
     ]
    }
   ],
   "source": [
    "# the last line\n",
    "turtle.mainloop()"
   ]
  }
 ],
 "metadata": {
  "kernelspec": {
   "display_name": "Python 3",
   "language": "python",
   "name": "python3"
  },
  "language_info": {
   "codemirror_mode": {
    "name": "ipython",
    "version": 3
   },
   "file_extension": ".py",
   "mimetype": "text/x-python",
   "name": "python",
   "nbconvert_exporter": "python",
   "pygments_lexer": "ipython3",
   "version": "3.8.8"
  }
 },
 "nbformat": 4,
 "nbformat_minor": 5
}
