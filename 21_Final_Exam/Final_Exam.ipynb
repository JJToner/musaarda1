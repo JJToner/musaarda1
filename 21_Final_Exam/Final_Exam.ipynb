{
 "cells": [
  {
   "cell_type": "markdown",
   "metadata": {},
   "source": [
    "# Final Exam"
   ]
  },
  {
   "cell_type": "markdown",
   "metadata": {},
   "source": [
    "The Final Exam includes the topics we have covered in this book.\n",
    "\n",
    "It is a multiple choice exam with 20 questions.\n",
    "\n",
    "Each question is 5 points, that makes 100 points in total."
   ]
  },
  {
   "cell_type": "markdown",
   "metadata": {},
   "source": [
    "The duration is 120 minutes."
   ]
  },
  {
   "cell_type": "markdown",
   "metadata": {},
   "source": [
    "You should get at least 70 points to be successful."
   ]
  },
  {
   "cell_type": "markdown",
   "metadata": {},
   "source": [
    "**Questions:**\n",
    "\n",
    "| Topic | Questions |\n",
    "| --- | --- |\n",
    "| First Program | 1 |\n",
    "| Variables | 1 |\n",
    "| Functions I | 1 |\n",
    "| Conditional Statements | 2 |\n",
    "| Functions II | 2 |\n",
    "| Loops | 2 |\n",
    "| Strings | 2 |\n",
    "| List | 2 |\n",
    "| Dictionary | 2 |\n",
    "| Tuple | 2 |\n",
    "| Set | 1 |\n",
    "| Comprehension | 2 |\n",
    "| **Total** | **20** |"
   ]
  },
  {
   "cell_type": "markdown",
   "metadata": {},
   "source": [
    "----"
   ]
  },
  {
   "cell_type": "markdown",
   "metadata": {},
   "source": [
    "**Q 1:**\n",
    "\n",
    "$$ 5*\\sqrt x = 3^3 - 17$$\n",
    "\n",
    "How do you solve this equation to find x, with Python?"
   ]
  },
  {
   "cell_type": "raw",
   "metadata": {},
   "source": [
    "A- (3**3 - 17) / 5**2"
   ]
  },
  {
   "cell_type": "raw",
   "metadata": {},
   "source": [
    "B- ((3**3 - 17) / 5)**2"
   ]
  },
  {
   "cell_type": "raw",
   "metadata": {},
   "source": [
    "C- (3**3 - 17) / 5**(1/2)"
   ]
  },
  {
   "cell_type": "raw",
   "metadata": {},
   "source": [
    "D- ((3**3 - 17) / 5)**1/2"
   ]
  },
  {
   "cell_type": "markdown",
   "metadata": {},
   "source": [
    "---"
   ]
  },
  {
   "cell_type": "markdown",
   "metadata": {},
   "source": [
    "**Q 2:**\n",
    "\n",
    "In Python we have rules for variable names. Which one below is a correct variable name in Python?"
   ]
  },
  {
   "cell_type": "raw",
   "metadata": {},
   "source": [
    "A- 3_quares"
   ]
  },
  {
   "cell_type": "raw",
   "metadata": {},
   "source": [
    "B- constant@number"
   ]
  },
  {
   "cell_type": "raw",
   "metadata": {},
   "source": [
    "C- set-item"
   ]
  },
  {
   "cell_type": "raw",
   "metadata": {},
   "source": [
    "D- OddNumbersSum"
   ]
  },
  {
   "cell_type": "markdown",
   "metadata": {},
   "source": [
    "---"
   ]
  },
  {
   "cell_type": "markdown",
   "metadata": {},
   "source": [
    "**Q 3:**\n",
    "\n",
    "Define a function that take 3 integer parameters.\n",
    "\n",
    "We want this function to return the maximum of these three numbers.\n",
    "\n",
    "Which one below is the correct definition for this function?\n",
    "\n",
    "<pre>\n",
    "Expected Output:\n",
    "get_max(5, 2, 8)  ->  8\n",
    "</pre>"
   ]
  },
  {
   "cell_type": "raw",
   "metadata": {},
   "source": [
    "# A-\n",
    "\n",
    "def get_max(n1, n2, n3):\n",
    "    \"\"\"\n",
    "        This function takes 3 numbers and returns the maximum.\n",
    "        Parameters: int n1, n2, n3\n",
    "        Returns: Maximum value via Python max function\n",
    "    \"\"\"\n",
    "    maximum = max(n1, n2, n3)"
   ]
  },
  {
   "cell_type": "raw",
   "metadata": {},
   "source": [
    "# B-\n",
    "\n",
    "def get_max(n1, n2, n3):\n",
    "    \"\"\"\n",
    "        This function takes 3 numbers and returns the maximum.\n",
    "        Parameters: int n1, n2, n3\n",
    "        Returns: Maximum value via Python max function\n",
    "    \"\"\"\n",
    "    max = max(n1, n2, n3)\n",
    "    return max"
   ]
  },
  {
   "cell_type": "raw",
   "metadata": {},
   "source": [
    "# C-\n",
    "\n",
    "def get_max(n1, n2, n3):\n",
    "    \"\n",
    "        This function takes 3 numbers and returns the maximum.\n",
    "        Parameters: int n1, n2, n3\n",
    "        Returns: Maximum value via Python max function\n",
    "    \"\n",
    "    maximum = max(n1, n2, n3)\n",
    "    return maximum"
   ]
  },
  {
   "cell_type": "raw",
   "metadata": {},
   "source": [
    "# D-\n",
    "\n",
    "def get_max(n1, n2, n3):\n",
    "    \"\"\"\n",
    "        This function takes 3 numbers and returns the maximum.\n",
    "        Parameters: int n1, n2, n3\n",
    "        Returns: Maximum value via Python max function\n",
    "    \"\"\"\n",
    "    maximum = max(n1, n2, n3)\n",
    "    return maximum"
   ]
  },
  {
   "cell_type": "markdown",
   "metadata": {},
   "source": [
    "---"
   ]
  },
  {
   "cell_type": "markdown",
   "metadata": {},
   "source": [
    "**Q 4:**\n",
    "\n",
    "We want to define a function named **polygon_name**.\n",
    "\n",
    "It will ask for number of sides from the user.\n",
    "\n",
    "Then it will return one of the names below based on number of sides:\n",
    "* if number of sides is 3 -> 'Triangle'\n",
    "* if number of sides is 4 -> 'Quadrilateral'\n",
    "* if number of sides is 5 -> 'Pentagon'\n",
    "* if number of sides is 6 -> 'Hexagon'\n",
    "* if number of sides is 7 or higher -> 'Polygon'\n",
    "* if number of sides is less than 3 -> 'Unknown'\n",
    "\n",
    "Which of the function definitions below is correct for this function?\n",
    "\n",
    "<pre>\n",
    "Please enter the number of sides: 8\n",
    "\n",
    "Expected Output:\n",
    "'Polygon'\n",
    "</pre>"
   ]
  },
  {
   "cell_type": "raw",
   "metadata": {},
   "source": [
    "A- \n",
    "\n",
    "def polygon_name():\n",
    "    \n",
    "    name = \"\"\n",
    "    \n",
    "    num_of_sides = int(input(\"Please enter the number of sides: \"))\n",
    "\n",
    "    if num_of_sides < 3:\n",
    "        name = \"Unknown\"\n",
    "    elif num_of_sides == 3:\n",
    "        name = \"Triangle\"\n",
    "    elif num_of_sides == 4:\n",
    "        name = \"Quadrilateral\"\n",
    "    elif num_of_sides == 5:\n",
    "        name = \"Pentagon\"\n",
    "    elif num_of_sides == 6:\n",
    "        name = \"Hexagon\"\n",
    "    else:\n",
    "        name = \"Polygon\"\n",
    "    \n",
    "    return name"
   ]
  },
  {
   "cell_type": "raw",
   "metadata": {},
   "source": [
    "B- \n",
    "\n",
    "def polygon_name():\n",
    "    \n",
    "    name = \"\"\n",
    "    \n",
    "    num_of_sides = input(\"Please enter the number of sides: \")\n",
    "\n",
    "    if num_of_sides < 3:\n",
    "        name = \"Unknown\"\n",
    "    elif num_of_sides == 3:\n",
    "        name = \"Triangle\"\n",
    "    elif num_of_sides == 4:\n",
    "        name = \"Quadrilateral\"\n",
    "    elif num_of_sides == 5:\n",
    "        name = \"Pentagon\"\n",
    "    elif num_of_sides == 6:\n",
    "        name = \"Hexagon\"\n",
    "    else:\n",
    "        name = \"Polygon\"\n",
    "    \n",
    "    return name"
   ]
  },
  {
   "cell_type": "raw",
   "metadata": {},
   "source": [
    "C- \n",
    "\n",
    "def polygon_name():\n",
    "    \n",
    "    name = \"\"\n",
    "    \n",
    "    num_of_sides = int(input(\"Please enter the number of sides: \"))\n",
    "\n",
    "    if num_of_sides > 3:\n",
    "        name = \"Unknown\"\n",
    "    elif num_of_sides == 3:\n",
    "        name = \"Triangle\"\n",
    "    elif num_of_sides == 4:\n",
    "        name = \"Quadrilateral\"\n",
    "    elif num_of_sides == 5:\n",
    "        name = \"Pentagon\"\n",
    "    elif num_of_sides == 6:\n",
    "        name = \"Hexagon\"\n",
    "    else:\n",
    "        name = \"Polygon\"\n",
    "    \n",
    "    return name"
   ]
  },
  {
   "cell_type": "raw",
   "metadata": {},
   "source": [
    "D- \n",
    "\n",
    "def polygon_name():\n",
    "    \n",
    "    name = \"\"\n",
    "    \n",
    "    num_of_sides = int(input(\"Please enter the number of sides: \"))\n",
    "\n",
    "    if num_of_sides == 3:\n",
    "        name = \"Unknown\"\n",
    "    elif num_of_sides == 3:\n",
    "        name = \"Triangle\"\n",
    "    elif num_of_sides == 4:\n",
    "        name = \"Quadrilateral\"\n",
    "    elif num_of_sides == 5:\n",
    "        name = \"Pentagon\"\n",
    "    elif num_of_sides == 6:\n",
    "        name = \"Hexagon\"\n",
    "    else:\n",
    "        name = \"Polygon\"\n",
    "    \n",
    "    return name"
   ]
  },
  {
   "cell_type": "markdown",
   "metadata": {},
   "source": [
    "---"
   ]
  },
  {
   "cell_type": "markdown",
   "metadata": {},
   "source": [
    "**Q 5:**\n",
    "\n",
    "We want to define a function.\n",
    "\n",
    "The function will ask for a positive integer from the user.\n",
    "\n",
    "It will check if the input is an integer or not.\n",
    "\n",
    "And if the input is an integer then it will check if it is positive or not.\n",
    "\n",
    "* If the input is not an integer -> It will return as 'Please enter an integer.' and it will exit the program (return)\n",
    "* It the input is not positive -> It will return as 'Please enter a positive number.' and it will exit the program (return)\n",
    "\n",
    "The functon will decide if the number is 'FUNNY' based on:\n",
    "* If the number is odd then it is 'FUNNY'\n",
    "* If the number is even but between 2 (inc) and 41 (exc) then it is 'NOT FUNNY'\n",
    "* If the number is even and greater than 40 then it is 'FUNNY'\n",
    "\n",
    "Which of the function definitions below is correct for this function?\n",
    "\n",
    "**Hint:**\n",
    "If the input is a negative number (-5) then isdigit() function will not accept it as an integer.\n",
    "\n",
    "<pre>\n",
    "Enter a number and I will tell you, if it's FUNNY: 24\n",
    "\n",
    "Expected Output:\n",
    "'NOT FUNNY'\n",
    "</pre>"
   ]
  },
  {
   "cell_type": "raw",
   "metadata": {},
   "source": [
    "A-\n",
    "\n",
    "def is_funny():\n",
    "    \n",
    "    n = input(\"Enter a number and I will tell you, if it's FUNNY: \")\n",
    "    \n",
    "    if not n.isdigit():\n",
    "        print('Please enter an integer.')\n",
    "    \n",
    "    n = int(n)\n",
    "\n",
    "    if n <= 0:\n",
    "        print('Please enter a positive number.')\n",
    "    else:            \n",
    "        if n % 2 == 1:\n",
    "            print(\"FUNNY\")\n",
    "        else:\n",
    "            if 2 <= n < 41:\n",
    "                print(\"NOT FUNNY\")\n",
    "            elif n > 40:\n",
    "                print(\"FUNNY\")"
   ]
  },
  {
   "cell_type": "raw",
   "metadata": {},
   "source": [
    "B-\n",
    "\n",
    "def is_funny():\n",
    "    \n",
    "    n = input(\"Enter a number and I will tell you, if it's FUNNY: \")\n",
    "    \n",
    "    if not n.isdigit():\n",
    "        print('Please enter an integer.')\n",
    "        return\n",
    "    \n",
    "    n = int(n)\n",
    "\n",
    "    if n <= 0:\n",
    "        print('Please enter a positive number.')\n",
    "        return\n",
    "    else:            \n",
    "        if n % 2 == 0:\n",
    "            print(\"FUNNY\")\n",
    "        else:\n",
    "            if 2 <= n < 41:\n",
    "                print(\"NOT FUNNY\")\n",
    "            elif n > 40:\n",
    "                print(\"FUNNY\")"
   ]
  },
  {
   "cell_type": "raw",
   "metadata": {},
   "source": [
    "C-\n",
    "\n",
    "def is_funny():\n",
    "    \n",
    "    n = input(\"Enter a number and I will tell you, if it's FUNNY: \")\n",
    "    \n",
    "    if not n.isdigit():\n",
    "        print('Please enter an integer.')\n",
    "        return\n",
    "    \n",
    "    n = int(n)\n",
    "\n",
    "    if n <= 0:\n",
    "        print('Please enter a positive number.')\n",
    "        return\n",
    "    else:            \n",
    "        if n % 2 == 1:\n",
    "            print(\"FUNNY\")\n",
    "        else:\n",
    "            if 2 <= n < 41:\n",
    "                print(\"NOT FUNNY\")\n",
    "            elif n > 40:\n",
    "                print(\"FUNNY\")"
   ]
  },
  {
   "cell_type": "raw",
   "metadata": {},
   "source": [
    "D-\n",
    "\n",
    "def is_funny():\n",
    "    \n",
    "    n = input(\"Enter a number and I will tell you, if it's FUNNY: \")\n",
    "    \n",
    "    if not n.isdigit():\n",
    "        print('Please enter an integer.')\n",
    "        return\n",
    "    \n",
    "    n = int(n)\n",
    "\n",
    "    if n <= 0:\n",
    "        print('Please enter a positive number.')\n",
    "        return\n",
    "    else:            \n",
    "        if n % 2 == 1:\n",
    "            print(\"FUNNY\")\n",
    "        else:\n",
    "            if 2 > n < 41:\n",
    "                print(\"NOT FUNNY\")\n",
    "            elif n > 40:\n",
    "                print(\"FUNNY\")"
   ]
  },
  {
   "cell_type": "markdown",
   "metadata": {},
   "source": [
    "---"
   ]
  },
  {
   "cell_type": "markdown",
   "metadata": {},
   "source": [
    "**Q 6:**\n",
    "\n",
    "We want to define a function named `total_and_number_of_elements`.\n",
    "\n",
    "It will take unknown number of parameters.\n",
    "\n",
    "And it will return the summation and number of elements for parameters.\n",
    "\n",
    "It will return these result in a tuple.\n",
    "\n",
    "Which one below is NOT CORRECT definition and function call for this function?\n",
    "\n",
    "(Either definiton or function call is not correct.)"
   ]
  },
  {
   "cell_type": "raw",
   "metadata": {},
   "source": [
    "A- \n",
    "\n",
    "def total_and_number_of_elements(args):    \n",
    "    total = sum(args)\n",
    "    num_of_elements = len(args)\n",
    "    \n",
    "    return (total, num_of_elements)\n",
    "\n",
    "total, num_of_elements = total_and_number_of_elements(2, 5, 11)\n",
    "print(total)\n",
    "print(num_of_elements)"
   ]
  },
  {
   "cell_type": "raw",
   "metadata": {},
   "source": [
    "B-\n",
    "\n",
    "def total_and_number_of_elements(*args):    \n",
    "    total = sum(args)\n",
    "    num_of_elements = len(args)\n",
    "    \n",
    "    return (total, num_of_elements)\n",
    "\n",
    "total, num_of_elements = total_and_number_of_elements(2, 5, 11)\n",
    "print(total)\n",
    "print(num_of_elements)"
   ]
  },
  {
   "cell_type": "raw",
   "metadata": {},
   "source": [
    "C- \n",
    "\n",
    "def total_and_number_of_elements(*args):    \n",
    "    total = sum(args)\n",
    "    \n",
    "    return (total, len(args))\n",
    "\n",
    "(total, num_of_elements) = total_and_number_of_elements(2, 5, 11)\n",
    "print(total)\n",
    "print(num_of_elements)"
   ]
  },
  {
   "cell_type": "raw",
   "metadata": {},
   "source": [
    "D-\n",
    "\n",
    "def total_and_number_of_elements(*args):\n",
    "    \n",
    "    return (sum(args), len(args))\n",
    "\n",
    "(total, num_of_elements) = total_and_number_of_elements(2, 5, 11)\n",
    "print(total)\n",
    "print(num_of_elements)"
   ]
  },
  {
   "cell_type": "markdown",
   "metadata": {},
   "source": [
    "---"
   ]
  },
  {
   "cell_type": "markdown",
   "metadata": {},
   "source": [
    "**Q 7:**\n",
    "\n",
    "We want to define a function named `area_of_circle`.\n",
    "\n",
    "It will take the radius (r) as parameter. The default value will be 10 for radius.\n",
    "\n",
    "The function will not create any variables and it's body will be single line of code.\n",
    "\n",
    "$ Area Of Circle = \\pi * r^2$\n",
    "\n",
    "Which one below is NOT CORRECT definition and function call for this function?\n",
    "\n",
    "(Either definiton or function call is not correct.)"
   ]
  },
  {
   "cell_type": "raw",
   "metadata": {},
   "source": [
    "A-\n",
    "\n",
    "import math\n",
    "\n",
    "def area_of_circle(r=10):\n",
    "    return math.pi * r**2\n",
    "\n",
    "area = area_of_circle()"
   ]
  },
  {
   "cell_type": "raw",
   "metadata": {},
   "source": [
    "B-\n",
    "\n",
    "import math\n",
    "\n",
    "def area_of_circle(r=10):\n",
    "    return math.pi * r**2\n",
    "\n",
    "area = area_of_circle(10)"
   ]
  },
  {
   "cell_type": "raw",
   "metadata": {},
   "source": [
    "C-\n",
    "\n",
    "import math\n",
    "\n",
    "def area_of_circle(r=10):\n",
    "    return math.pi * r**2\n",
    "\n",
    "area = area_of_circle(r=10)"
   ]
  },
  {
   "cell_type": "raw",
   "metadata": {},
   "source": [
    "D-\n",
    "\n",
    "import math\n",
    "\n",
    "def area_of_circle(r=10):\n",
    "    return math.pi * r**2\n",
    "\n",
    "area(10) = area_of_circle()"
   ]
  },
  {
   "cell_type": "markdown",
   "metadata": {},
   "source": [
    "---"
   ]
  },
  {
   "cell_type": "markdown",
   "metadata": {},
   "source": [
    "**Q 8:**\n",
    "\n",
    "We want to define function named `four_six`.\n",
    "\n",
    "It will loop over the numbers from 1 to 50 (both included).\n",
    "\n",
    "* If the number is a multiple of 4 -> it will print 'Four' instead of the number\n",
    "* If the number is a multiple of 6 -> it will print 'Six' instead of the number\n",
    "* If the number is a multiple of both 4 and 6 -> it will print 'FourSix' instead of the number\n",
    "\n",
    "In any case other than these, it will NOT PRINT anything.\n",
    "\n",
    "Which one below can achieve this task?\n",
    "\n",
    "<pre>\n",
    "Four\n",
    "Six\n",
    "Four\n",
    "FourSix\n",
    "Four\n",
    "Six\n",
    "Four\n",
    "FourSix\n",
    "Four\n",
    "Six\n",
    "Four\n",
    "FourSix\n",
    "Four\n",
    "Six\n",
    "Four\n",
    "FourSix\n",
    "</pre>"
   ]
  },
  {
   "cell_type": "raw",
   "metadata": {
    "jupyter": {
     "outputs_hidden": true
    }
   },
   "source": [
    "# A-\n",
    "\n",
    "def four_six():\n",
    "    \n",
    "    four = \"Four\"\n",
    "    six = \"Six\"\n",
    "    \n",
    "    for i in range(1, 51):\n",
    "        if i % 4 == 0 and i % 6 == 0:\n",
    "            print(four+six)\n",
    "        elif i % 4 == 0:\n",
    "            print(four)\n",
    "        elif i % 6 == 0:\n",
    "            print(six)\n",
    "        else:\n",
    "            print(i)\n",
    "            \n",
    "four_six()"
   ]
  },
  {
   "cell_type": "raw",
   "metadata": {},
   "source": [
    "# B-\n",
    "\n",
    "def four_six():\n",
    "    \n",
    "    four = \"Four\"\n",
    "    six = \"Six\"\n",
    "    \n",
    "    for i in range(1, 51):\n",
    "        if i % 4 == 0 and i % 6 == 0:\n",
    "            print(four+six)\n",
    "        elif i % 4 == 0:\n",
    "            print(four)\n",
    "        elif i % 6 == 0:\n",
    "            print(six)\n",
    "            \n",
    "four_six()"
   ]
  },
  {
   "cell_type": "raw",
   "metadata": {},
   "source": [
    "# C-\n",
    "\n",
    "def four_six():\n",
    "    \n",
    "    four = \"Four\"\n",
    "    six = \"Six\"\n",
    "    \n",
    "    for i in range(1, 51):\n",
    "        if i % 4 == 0 and i % 6 == 0:\n",
    "            print(four+six)\n",
    "        elif i % 4 == 0:\n",
    "            print(six)\n",
    "        elif i % 6 == 0:\n",
    "            print(four)\n",
    "            \n",
    "four_six()"
   ]
  },
  {
   "cell_type": "raw",
   "metadata": {},
   "source": [
    "# D-\n",
    "\n",
    "def four_six():\n",
    "    \n",
    "    four = \"Four\"\n",
    "    six = \"Six\"\n",
    "    \n",
    "    for i in range(1, 51):\n",
    "        if i % 4 == 0 or i % 6 == 0:\n",
    "            print(four+six)\n",
    "        elif i % 4 == 0:\n",
    "            print(four)\n",
    "        elif i % 6 == 0:\n",
    "            print(six)\n",
    "            \n",
    "four_six()"
   ]
  },
  {
   "cell_type": "markdown",
   "metadata": {},
   "source": [
    "---"
   ]
  },
  {
   "cell_type": "markdown",
   "metadata": {},
   "source": [
    "**Q 9:**\n",
    "\n",
    "We want to draw a triangle of stars.\n",
    "\n",
    "The function will take the number of stars as parameter.\n",
    "\n",
    "Let's say the number of stars is 5:\n",
    "\n",
    "<pre>\n",
    "*\n",
    "* *\n",
    "* * *\n",
    "* * * * \n",
    "* * * * *\n",
    "</pre>\n",
    "\n",
    "Which one below can achieve this task?"
   ]
  },
  {
   "cell_type": "raw",
   "metadata": {},
   "source": [
    "# A\n",
    "\n",
    "def triangle(n):\n",
    "    for i in range(n):        \n",
    "        stars = \"\"        \n",
    "        for j in range(i-1):\n",
    "            stars += \"* \"\n",
    "        \n",
    "        print(stars)\n",
    "        \n",
    "triangle(5)"
   ]
  },
  {
   "cell_type": "raw",
   "metadata": {},
   "source": [
    "# B\n",
    "\n",
    "def triangle(n):    \n",
    "    for i in range(n):        \n",
    "        stars = \"\"        \n",
    "        for j in range(i):\n",
    "            stars += \"* \"\n",
    "            \n",
    "        print(stars)\n",
    "        \n",
    "triangle(5)"
   ]
  },
  {
   "cell_type": "raw",
   "metadata": {},
   "source": [
    "# C\n",
    "\n",
    "def triangle(n):\n",
    "    for i in range(n):        \n",
    "        stars = \"\"        \n",
    "        for j in range(i+1):\n",
    "            stars += \"* \"\n",
    "        \n",
    "        print(stars)\n",
    "        \n",
    "triangle(5)"
   ]
  },
  {
   "cell_type": "raw",
   "metadata": {},
   "source": [
    "# D\n",
    "\n",
    "def triangle(n):\n",
    "    for i in range(n+1):        \n",
    "        stars = \"\"        \n",
    "        for j in range(i+1):\n",
    "            stars += \"* \"\n",
    "        \n",
    "        print(stars)\n",
    "        \n",
    "triangle(5)"
   ]
  },
  {
   "cell_type": "markdown",
   "metadata": {},
   "source": [
    "---"
   ]
  },
  {
   "cell_type": "markdown",
   "metadata": {},
   "source": [
    "**Q 10:**\n",
    "\n",
    "We want to define a function `title_case`.\n",
    "\n",
    "It will take a text as parameter and convert this text into \"title case\".\n",
    "\n",
    "\"title case\" means; all the letters are lower case except the first letters. First etters are capital case.\n",
    "\n",
    "'pYtHon iS cOoL' -> 'Python Is Cool'"
   ]
  },
  {
   "cell_type": "raw",
   "metadata": {},
   "source": [
    "A-\n",
    "\n",
    "def title_case(text):\n",
    "    return text.title().upper()\n",
    "\n",
    "title_case(\"pYtHon iS cOoL\")"
   ]
  },
  {
   "cell_type": "raw",
   "metadata": {},
   "source": [
    "B-\n",
    "\n",
    "def title_case(text):\n",
    "    return text.title().lower()\n",
    "    \n",
    "title_case(\"pYtHon iS cOoL\")"
   ]
  },
  {
   "cell_type": "raw",
   "metadata": {},
   "source": [
    "# C-\n",
    "\n",
    "def title_case(text):\n",
    "    return text.lower().upper()\n",
    "\n",
    "title_case(\"pYtHon iS cOoL\")"
   ]
  },
  {
   "cell_type": "raw",
   "metadata": {},
   "source": [
    "# D-\n",
    "\n",
    "def title_case(text):\n",
    "    return text.lower().title()\n",
    "    \n",
    "title_case(\"pYtHon iS cOoL\")"
   ]
  },
  {
   "cell_type": "markdown",
   "metadata": {},
   "source": [
    "---"
   ]
  },
  {
   "cell_type": "markdown",
   "metadata": {},
   "source": [
    "**Q 11:**\n",
    "\n",
    "Our text is 'Python Django Numpy'.\n",
    "\n",
    "Which one below is NOT CORRECT when you do slicing operations?\n",
    "\n",
    "**text = 'Python Django Numpy'**"
   ]
  },
  {
   "cell_type": "raw",
   "metadata": {},
   "source": [
    "A- The last character in the text is text[-1] and its value is 'y'."
   ]
  },
  {
   "cell_type": "raw",
   "metadata": {},
   "source": [
    "B- The last 4 characters is text[-5:] and its value is 'umpy'."
   ]
  },
  {
   "cell_type": "raw",
   "metadata": {},
   "source": [
    "C- You can use text[::-1] to get the text in reverse order."
   ]
  },
  {
   "cell_type": "raw",
   "metadata": {},
   "source": [
    "D- The characters between 2nd and 8th are text[2:8] and the value is 'thon D'."
   ]
  },
  {
   "cell_type": "markdown",
   "metadata": {},
   "source": [
    "---"
   ]
  },
  {
   "cell_type": "markdown",
   "metadata": {},
   "source": [
    "**Q 12:**\n",
    "\n",
    "We want to define a function named **quadrapol**.\n",
    "\n",
    "It will take a list as parameter.\n",
    "\n",
    "The function will calculate the power of 4 of each element in the list and append it to a new list.\n",
    "\n",
    "At the end, it will return this new list of power 4.\n",
    "\n",
    "<pre>\n",
    "[1, 2, 3, 4, 5] -> [1, 16, 81, 256, 625]\n",
    "</pre>\n",
    "\n",
    "Which one below CAN NOT achieve this task?"
   ]
  },
  {
   "cell_type": "raw",
   "metadata": {},
   "source": [
    "A-\n",
    "\n",
    "def quadrapol(a_list):\n",
    "    new_list = []    \n",
    "    for i in a_list:\n",
    "        new_list.add(i**4)\n",
    "    \n",
    "    return new_list"
   ]
  },
  {
   "cell_type": "raw",
   "metadata": {},
   "source": [
    "B-\n",
    "\n",
    "def quadrapol(a_list):\n",
    "    new_list = list()    \n",
    "    for i in a_list:\n",
    "        new_list.append(i**4)\n",
    "    \n",
    "    return new_list"
   ]
  },
  {
   "cell_type": "raw",
   "metadata": {},
   "source": [
    "C-\n",
    "\n",
    "def quadrapol(a_list):\n",
    "    new_list = []    \n",
    "    for i in a_list:\n",
    "        new_list.extend([i**4])\n",
    "    \n",
    "    return new_list"
   ]
  },
  {
   "cell_type": "raw",
   "metadata": {},
   "source": [
    "# D-\n",
    "\n",
    "def quadrapol(a_list):\n",
    "    new_list = list()    \n",
    "    for i in a_list:\n",
    "        new_list.insert(len(new_list), i**4)\n",
    "    \n",
    "    return new_list"
   ]
  },
  {
   "cell_type": "markdown",
   "metadata": {},
   "source": [
    "---"
   ]
  },
  {
   "cell_type": "markdown",
   "metadata": {},
   "source": [
    "**Q 13:**\n",
    "\n",
    "We want to define a function named **crop**.\n",
    "\n",
    "Cropping is deleting the last two elements in a sequence.\n",
    "\n",
    "The function will take a list and parameter and will mutate this list.\n",
    "\n",
    "It will crop the original list and returns nothing.\n",
    "\n",
    "Which one below is this function?\n",
    "\n",
    "<pre>\n",
    "a_list = [1, 2, 3, 4, 5, 6, 7]\n",
    "crop(a_list)\n",
    "\n",
    "print(a_list)  ->  [1, 2, 3, 4, 5]\n",
    "</pre>"
   ]
  },
  {
   "cell_type": "raw",
   "metadata": {},
   "source": [
    "#A-\n",
    "\n",
    "def crop(a_list):\n",
    "    a_list.pop(-1)\n",
    "    a_list.pop(-2)"
   ]
  },
  {
   "cell_type": "raw",
   "metadata": {},
   "source": [
    "# B-\n",
    "\n",
    "def crop(a_list):\n",
    "    a_list.pop(len(a_list))\n",
    "    a_list.pop()"
   ]
  },
  {
   "cell_type": "raw",
   "metadata": {},
   "source": [
    "C-\n",
    "\n",
    "def crop(a_list):\n",
    "    del a_list[0]\n",
    "    a_list.pop()"
   ]
  },
  {
   "cell_type": "raw",
   "metadata": {},
   "source": [
    "D-\n",
    "\n",
    "def crop(a_list):\n",
    "    del a_list[-1]\n",
    "    a_list.pop()"
   ]
  },
  {
   "cell_type": "markdown",
   "metadata": {},
   "source": [
    "---"
   ]
  },
  {
   "cell_type": "markdown",
   "metadata": {},
   "source": [
    "**Q 14:**\n",
    "\n",
    "We want to define a dictionary named **movie** as follows:\n",
    "\n",
    "<pre>\n",
    "movie = {\n",
    " 'name': 'Magnolia',\n",
    " 'year': 1999,\n",
    " 'director': 'Paul Thomas Anderson',\n",
    " 'imdb': 8.0\n",
    "}\n",
    "</pre>\n",
    "\n",
    "Which one below CAN NOT create this dictionary?"
   ]
  },
  {
   "cell_type": "raw",
   "metadata": {},
   "source": [
    "A-\n",
    "\n",
    "movie = {}\n",
    "movie['name'] = 'Magnolia'\n",
    "movie['year'] = 1999\n",
    "movie.update({'director': 'Paul Thomas Anderson'})\n",
    "movie.update({'imdb': 8.0})"
   ]
  },
  {
   "cell_type": "raw",
   "metadata": {},
   "source": [
    "# B-\n",
    "\n",
    "movie = dict()\n",
    "movie.add({'name': 'Magnolia'})\n",
    "movie.add({'year': 1999})\n",
    "movie.add({'director': 'Paul Thomas Anderson'})\n",
    "movie.add({'imdb': 8.0})"
   ]
  },
  {
   "cell_type": "raw",
   "metadata": {},
   "source": [
    "C-\n",
    "\n",
    "movie = dict({\n",
    "    'name': 'Magnolia',\n",
    "    'year': 1999,\n",
    "    'director': 'Paul Thomas Anderson',\n",
    "    'imdb': 8.0\n",
    "})"
   ]
  },
  {
   "cell_type": "raw",
   "metadata": {},
   "source": [
    "D-\n",
    "\n",
    "movie = dict({})\n",
    "movie.update({\n",
    "    'name': 'Magnolia',\n",
    "    'year': 1999,\n",
    "    'director': 'Paul Thomas Anderson',\n",
    "    'imdb': 8.0\n",
    "})"
   ]
  },
  {
   "cell_type": "markdown",
   "metadata": {},
   "source": [
    "---"
   ]
  },
  {
   "cell_type": "markdown",
   "metadata": {},
   "source": [
    "**Q 15:**\n",
    "\n",
    "If we run the code below, what will be the value of the `result` variable?\n",
    "\n",
    "<pre>\n",
    "result = {}\n",
    "\n",
    "d1 = {'a': 1, 'b': 3, 'c':5}\n",
    "d2 = {'a': 4, 'b': 6, 'd':9}\n",
    "\n",
    "for key in d1:\n",
    "    if key in d2:\n",
    "        result[key] = d1[key] * d2[key]\n",
    "</pre>"
   ]
  },
  {
   "cell_type": "raw",
   "metadata": {},
   "source": [
    "result = {}\n",
    "\n",
    "d1 = {'a': 1, 'b': 3, 'c':5}\n",
    "d2 = {'a': 4, 'b': 6, 'd':9}\n",
    "\n",
    "for key in d1:\n",
    "    if key in d2:\n",
    "        result[key] = d1[key] * d2[key]\n",
    "        \n",
    "result"
   ]
  },
  {
   "cell_type": "raw",
   "metadata": {},
   "source": [
    "A- {'a': 4, 'b': 18, 'c':5}"
   ]
  },
  {
   "cell_type": "raw",
   "metadata": {},
   "source": [
    "B- {'a': 4, 'b': 18, 'c':5, 'd': 9}"
   ]
  },
  {
   "cell_type": "raw",
   "metadata": {},
   "source": [
    "C- {'a': 4, 'b': 18}"
   ]
  },
  {
   "cell_type": "raw",
   "metadata": {},
   "source": [
    "D- {'a': 1, 'b': 3}"
   ]
  },
  {
   "cell_type": "markdown",
   "metadata": {},
   "source": [
    "---"
   ]
  },
  {
   "cell_type": "markdown",
   "metadata": {},
   "source": [
    "**Q 16:**\n",
    "\n",
    "We want to define a function which takes a Tuple and an element as parameters.\n",
    "\n",
    "The function name will be **how_many_occurrences**.\n",
    "\n",
    "The function will return the number occurances of this element in the Tuple.\n",
    "\n",
    "<pre>\n",
    "tup = (4, 3, 5, 2, 3, 3, 4, 2, 1, 3, 4, 5, 2, 1, 3)\n",
    "element = 3\n",
    "\n",
    "Expected Output:\n",
    "how_many_occurences(tup, element)  ->  5\n",
    "</pre>\n",
    "\n",
    "Which one below is this function?"
   ]
  },
  {
   "cell_type": "raw",
   "metadata": {},
   "source": [
    "# A-\n",
    "\n",
    "def how_many_occurrences(tup, element):\n",
    "    occurrences = 0\n",
    "    for e in list(tup):\n",
    "        if e == element:\n",
    "            occurrences += 1\n",
    "    \n",
    "    return occurrences"
   ]
  },
  {
   "cell_type": "raw",
   "metadata": {},
   "source": [
    "B-\n",
    "\n",
    "def how_many_occurrences(tup, element):\n",
    "    occurrences = 0\n",
    "    for i, e in enumerate(tup):\n",
    "        if i == element:\n",
    "            occurrences += 1\n",
    "    \n",
    "    return occurrences"
   ]
  },
  {
   "cell_type": "raw",
   "metadata": {},
   "source": [
    "C-\n",
    "\n",
    "def how_many_occurrences(tup, element):\n",
    "    occurrences = 0\n",
    "    for key, value in tup.items():\n",
    "        if value == element:\n",
    "            occurrences += 1\n",
    "    \n",
    "    return occurrences"
   ]
  },
  {
   "cell_type": "raw",
   "metadata": {},
   "source": [
    "# D-\n",
    "\n",
    "def how_many_occurrences(tup, element):\n",
    "    occurrences = 0\n",
    "    for i, e in list(tup):\n",
    "        if e == element:\n",
    "            occurrences += 1\n",
    "    \n",
    "    return occurrences"
   ]
  },
  {
   "cell_type": "markdown",
   "metadata": {},
   "source": [
    "---"
   ]
  },
  {
   "cell_type": "markdown",
   "metadata": {},
   "source": [
    "**Q 17:**\n",
    "\n",
    "We have the tuple below:\n",
    "\n",
    "<pre> tup = ('a', 'b', 'c', 'd', 'e', 'f', 'g', 'h', 'i', 'j') </pre>\n",
    "\n",
    "Which of the question-answer pairs below is NOT CORRECT?"
   ]
  },
  {
   "cell_type": "raw",
   "metadata": {},
   "source": [
    "A- \n",
    "\n",
    "Q: Find the items from 3rd index to 6 (both included).\n",
    "A: tup[3:7]"
   ]
  },
  {
   "cell_type": "raw",
   "metadata": {},
   "source": [
    "B- \n",
    "\n",
    "Q: Find the elements starting from the 5th one (inc).\n",
    "A: tup[4:]"
   ]
  },
  {
   "cell_type": "raw",
   "metadata": {},
   "source": [
    "C-\n",
    "\n",
    "Q: write the tup in reverse order with step-size 3.\n",
    "A: tup[::-3]"
   ]
  },
  {
   "cell_type": "raw",
   "metadata": {},
   "source": [
    "D-\n",
    "\n",
    "Q: Get all the items up to the 2nd (exc) in the last via negative index.\n",
    "A: tup[:-3]"
   ]
  },
  {
   "cell_type": "markdown",
   "metadata": {},
   "source": [
    "---"
   ]
  },
  {
   "cell_type": "markdown",
   "metadata": {},
   "source": [
    "**Q 18:**\n",
    "\n",
    "Which one below is NOT CORRECT about the Sets (Set Data Structure)?"
   ]
  },
  {
   "cell_type": "raw",
   "metadata": {},
   "source": [
    "A- We use empty curly braces {} to create a Set."
   ]
  },
  {
   "cell_type": "raw",
   "metadata": {},
   "source": [
    "B- An element cannot exist more than once in a Set."
   ]
  },
  {
   "cell_type": "raw",
   "metadata": {},
   "source": [
    "C- We use 'intersection()' method to get common elements of two Sets."
   ]
  },
  {
   "cell_type": "raw",
   "metadata": {},
   "source": [
    "D- We use 'add()' method to add elements to a Set."
   ]
  },
  {
   "cell_type": "markdown",
   "metadata": {},
   "source": [
    "---"
   ]
  },
  {
   "cell_type": "markdown",
   "metadata": {},
   "source": [
    "**Q 19:**\n",
    "\n",
    "We want to print all the words in a paragraph.\n",
    "\n",
    "We can achieve this via for loop as follows:\n",
    "\n",
    "<pre>\n",
    "paragraph = [\"Lorem ipsum dolor sit amet.\",\n",
    "             \"Ut enim ad minim veniam.\",\n",
    "             \"Duis aute irure dolor.\",\n",
    "             \"Excepteur sint.\"]\n",
    "             \n",
    "words = []\n",
    "\n",
    "for sentence in paragraph:\n",
    "    for word in sentence.split():\n",
    "        words.append(word)\n",
    "</pre>\n",
    "\n",
    "What is the `Comprehension` form of this loop?"
   ]
  },
  {
   "cell_type": "raw",
   "metadata": {},
   "source": [
    "A-\n",
    "\n",
    "words = [sentence \n",
    "         for sentence in paragraph\n",
    "         for word in sentence.split()]"
   ]
  },
  {
   "cell_type": "raw",
   "metadata": {},
   "source": [
    "B-\n",
    "\n",
    "words = [word \n",
    "         for sentence in paragraph\n",
    "         for word in sentence.split()]"
   ]
  },
  {
   "cell_type": "raw",
   "metadata": {},
   "source": [
    "C-\n",
    "\n",
    "words = [word, sentence \n",
    "        for sentence in paragraph\n",
    "        for word in sentence.split()]"
   ]
  },
  {
   "cell_type": "raw",
   "metadata": {},
   "source": [
    "D-\n",
    "\n",
    "words = [word \n",
    "        for sentence in paragraph.split()\n",
    "        for word in sentence.split()]"
   ]
  },
  {
   "cell_type": "markdown",
   "metadata": {},
   "source": [
    "---"
   ]
  },
  {
   "cell_type": "markdown",
   "metadata": {},
   "source": [
    "**Q 20:**\n",
    "\n",
    "We have a dictionary of heroes:\n",
    "<pre>\n",
    "heroes = {\n",
    " 1: ['Wonder Woman', 'Diana Prince'],\n",
    " 2: ['Batman', 'Bruce Wayne'],\n",
    " 3: ['Superman', 'Klark Kent'],\n",
    " 4: ['Spiderman', 'Peter Parker']\n",
    "}\n",
    "</pre>\n",
    "\n",
    "We only want to get the `odd` numbered heroes with their secret names and create a new dictionary with this data.\n",
    "\n",
    "Hwo can we succeed this via `Comprehension`?\n",
    "\n",
    "<pre>\n",
    "Expected Output:\n",
    "secret_names = {1: 'Diana Prince', 3: 'Klark Kent'}\n",
    "</pre>"
   ]
  },
  {
   "cell_type": "raw",
   "metadata": {},
   "source": [
    "A-\n",
    "\n",
    "secret_names = {i: name[1] for i, name in heroes.items()}"
   ]
  },
  {
   "cell_type": "raw",
   "metadata": {},
   "source": [
    "B-\n",
    "\n",
    "secret_names = {key: value[0] for key, value in heroes.items() if key % 2 != 0}"
   ]
  },
  {
   "cell_type": "raw",
   "metadata": {},
   "source": [
    "C-\n",
    "\n",
    "secret_names = {num: sec[1] for num, sec in heroes.items() if num % 2 == 1}"
   ]
  },
  {
   "cell_type": "raw",
   "metadata": {},
   "source": [
    "D-\n",
    "\n",
    "secret_names = {k: v[1] for k, v in heroes.items() if k % 2 == 0}"
   ]
  }
 ],
 "metadata": {
  "kernelspec": {
   "display_name": "Python 3",
   "language": "python",
   "name": "python3"
  },
  "language_info": {
   "codemirror_mode": {
    "name": "ipython",
    "version": 3
   },
   "file_extension": ".py",
   "mimetype": "text/x-python",
   "name": "python",
   "nbconvert_exporter": "python",
   "pygments_lexer": "ipython3",
   "version": "3.8.8"
  }
 },
 "nbformat": 4,
 "nbformat_minor": 4
}
