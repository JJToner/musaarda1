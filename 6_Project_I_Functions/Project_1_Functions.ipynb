{
 "cells": [
  {
   "cell_type": "markdown",
   "id": "promotional-polish",
   "metadata": {},
   "source": [
    "# Project 1 - Functions"
   ]
  },
  {
   "cell_type": "markdown",
   "id": "czech-salmon",
   "metadata": {},
   "source": [
    "## The Turtle Module"
   ]
  },
  {
   "cell_type": "markdown",
   "id": "opponent-flesh",
   "metadata": {},
   "source": [
    "https://docs.python.org/3/library/turtle.html"
   ]
  },
  {
   "cell_type": "code",
   "execution_count": 1,
   "id": "confident-collaboration",
   "metadata": {},
   "outputs": [],
   "source": [
    "# import the module -> turtle\n",
    "import turtle"
   ]
  },
  {
   "cell_type": "code",
   "execution_count": 2,
   "id": "listed-encyclopedia",
   "metadata": {},
   "outputs": [],
   "source": [
    "# get the tutle object and assing it to a local variable\n",
    "t = turtle.Turtle()"
   ]
  },
  {
   "cell_type": "code",
   "execution_count": 3,
   "id": "interstate-leave",
   "metadata": {},
   "outputs": [],
   "source": [
    "# move turtle forward by 100 pixels\n",
    "t.fd(100)"
   ]
  },
  {
   "cell_type": "code",
   "execution_count": 4,
   "id": "afraid-estate",
   "metadata": {},
   "outputs": [],
   "source": [
    "# turn the turtle to the left by 90 degrees\n",
    "t.lt(90)"
   ]
  },
  {
   "cell_type": "code",
   "execution_count": 5,
   "id": "confused-rebate",
   "metadata": {},
   "outputs": [],
   "source": [
    "# move turtle forward by 100 pixels\n",
    "t.fd(100)"
   ]
  },
  {
   "cell_type": "code",
   "execution_count": 6,
   "id": "occupational-merchant",
   "metadata": {},
   "outputs": [],
   "source": [
    "# turn the turtle to the left by 90 degrees\n",
    "t.lt(90)"
   ]
  },
  {
   "cell_type": "code",
   "execution_count": 7,
   "id": "related-mercy",
   "metadata": {},
   "outputs": [],
   "source": [
    "# move turtle forward by 100 pixels\n",
    "t.fd(100)"
   ]
  },
  {
   "cell_type": "code",
   "execution_count": 8,
   "id": "typical-economics",
   "metadata": {},
   "outputs": [],
   "source": [
    "# turn the turtle to the left by 90 degrees\n",
    "t.lt(90)"
   ]
  },
  {
   "cell_type": "code",
   "execution_count": 9,
   "id": "prospective-nowhere",
   "metadata": {},
   "outputs": [],
   "source": [
    "# move turtle forward by 100 pixels\n",
    "t.fd(100)"
   ]
  },
  {
   "cell_type": "code",
   "execution_count": 10,
   "id": "danish-colleague",
   "metadata": {},
   "outputs": [],
   "source": [
    "# turn the turtle to the left by 90 degrees\n",
    "t.lt(90)"
   ]
  },
  {
   "cell_type": "markdown",
   "id": "personal-concept",
   "metadata": {},
   "source": [
    "Move functions:\n",
    "* fd(px) -> forward\n",
    "* bk(px) -> backward\n",
    "* lt(angle) -> turns left\n",
    "* rt(angles) -> turns right"
   ]
  },
  {
   "cell_type": "code",
   "execution_count": 11,
   "id": "supported-truck",
   "metadata": {},
   "outputs": [],
   "source": [
    "# clear screen and reset the turtle to initial position\n",
    "t.clear()"
   ]
  },
  {
   "cell_type": "code",
   "execution_count": 12,
   "id": "advised-madness",
   "metadata": {},
   "outputs": [],
   "source": [
    "# reset the screen\n",
    "turtle.resetscreen()"
   ]
  },
  {
   "cell_type": "code",
   "execution_count": 13,
   "id": "under-motor",
   "metadata": {},
   "outputs": [],
   "source": [
    "# We want to create a squre\n",
    "\n",
    "# Move 100 pixel forward\n",
    "# Turn left 90 deg\n",
    "\n",
    "# Move 100 pixel forward\n",
    "# Turn left 90 deg\n",
    "\n",
    "# Move 100 pixel forward\n",
    "# Turn left 90 deg\n",
    "\n",
    "# Move 100 pixel forward\n",
    "# Turn left 90 deg\n",
    "\n",
    "t.fd(100)\n",
    "t.lt(90)\n",
    "\n",
    "t.fd(100)\n",
    "t.lt(90)\n",
    "\n",
    "t.fd(100)\n",
    "t.lt(90)\n",
    "\n",
    "t.fd(100)\n",
    "t.lt(90)"
   ]
  },
  {
   "cell_type": "code",
   "execution_count": 14,
   "id": "inclusive-dallas",
   "metadata": {},
   "outputs": [],
   "source": [
    "turtle.resetscreen()"
   ]
  },
  {
   "cell_type": "code",
   "execution_count": 15,
   "id": "federal-office",
   "metadata": {},
   "outputs": [],
   "source": [
    "# with loop\n",
    "# it's going to repeat fd-lt patter 4 times\n",
    "\n",
    "for i in range(4):\n",
    "    t.fd(100)\n",
    "    t.lt(90)"
   ]
  },
  {
   "cell_type": "markdown",
   "id": "plastic-lightweight",
   "metadata": {},
   "source": [
    "## Square"
   ]
  },
  {
   "cell_type": "markdown",
   "id": "alert-bahamas",
   "metadata": {},
   "source": [
    "Create a square with a function -> **square**\n",
    "\n",
    "Parameters: turtle object, d in pixels"
   ]
  },
  {
   "cell_type": "code",
   "execution_count": 16,
   "id": "anticipated-classification",
   "metadata": {},
   "outputs": [],
   "source": [
    "# square function\n",
    "\n",
    "def square(t, d, is_screen_reset):\n",
    "    \"\"\"\n",
    "    It draws square with turtle.\n",
    "    Parameters: turtle t, int d, bool is_screen_reset\n",
    "    Returns: None\n",
    "    \"\"\"\n",
    "    \n",
    "    # reset screen\n",
    "    if is_screen_reset == True:\n",
    "        reset()\n",
    "    \n",
    "    # draw a square\n",
    "    for i in range(4):\n",
    "        t.fd(d)\n",
    "        t.lt(90)"
   ]
  },
  {
   "cell_type": "code",
   "execution_count": 17,
   "id": "provincial-february",
   "metadata": {},
   "outputs": [],
   "source": [
    "# reset function\n",
    "\n",
    "def reset():\n",
    "    turtle.resetscreen()"
   ]
  },
  {
   "cell_type": "code",
   "execution_count": 18,
   "id": "ordinary-guitar",
   "metadata": {},
   "outputs": [],
   "source": [
    "square(t, 200, True)"
   ]
  },
  {
   "cell_type": "code",
   "execution_count": 19,
   "id": "tested-tragedy",
   "metadata": {},
   "outputs": [],
   "source": [
    "square(t, 300, True)"
   ]
  },
  {
   "cell_type": "code",
   "execution_count": 20,
   "id": "protecting-modeling",
   "metadata": {},
   "outputs": [],
   "source": [
    "square(t, 100, False)"
   ]
  },
  {
   "cell_type": "code",
   "execution_count": 21,
   "id": "iraqi-attack",
   "metadata": {},
   "outputs": [],
   "source": [
    "# draw 10 squares of size: 20 - 40 - 60 80 - ... - 200\n",
    "\n",
    "# first reset the screen just once\n",
    "reset()\n",
    "\n",
    "# loop to draw the circles\n",
    "for i in range(1, 11):\n",
    "    square(t, i * 20, False)"
   ]
  },
  {
   "cell_type": "markdown",
   "id": "numeric-motion",
   "metadata": {},
   "source": [
    "## Polygon"
   ]
  },
  {
   "cell_type": "markdown",
   "id": "caroline-medline",
   "metadata": {},
   "source": [
    "Draw a polygon."
   ]
  },
  {
   "cell_type": "code",
   "execution_count": 22,
   "id": "forward-orleans",
   "metadata": {},
   "outputs": [],
   "source": [
    "# polygon function\n",
    "\n",
    "def polygon(t, d, n, is_screen_reset):\n",
    "    \"\"\"\n",
    "    Draws a polygon.\n",
    "    Parameters: turtle t, int d (pixels), int n (number of sides), \n",
    "        bool is_screen_reset\n",
    "    Returns: None\n",
    "    \"\"\"\n",
    "    \n",
    "    # resetting\n",
    "    if is_screen_reset:\n",
    "        reset()\n",
    "    \n",
    "    # angle\n",
    "    angle = 360 / n\n",
    "    \n",
    "     # polygon\n",
    "    for i in range(n):\n",
    "        t.fd(d)\n",
    "        t.lt(angle)"
   ]
  },
  {
   "cell_type": "code",
   "execution_count": 23,
   "id": "exciting-mason",
   "metadata": {},
   "outputs": [],
   "source": [
    "# draw a 6 sided hexagon\n",
    "polygon(t, 100, 6, True)"
   ]
  },
  {
   "cell_type": "markdown",
   "id": "welcome-validation",
   "metadata": {},
   "source": [
    "**Named Arguments:**\n",
    "\n",
    "When you call a function and passing parameters:\n",
    "\n",
    "`function_name(parameter_name = parameter_value)`"
   ]
  },
  {
   "cell_type": "code",
   "execution_count": 24,
   "id": "adapted-milton",
   "metadata": {},
   "outputs": [],
   "source": [
    "# call the polygon fn with named arguments\n",
    "polygon(t=t, d=120, n=8, is_screen_reset=False)"
   ]
  },
  {
   "cell_type": "code",
   "execution_count": 25,
   "id": "acknowledged-riverside",
   "metadata": {},
   "outputs": [],
   "source": [
    "# call the square fn with named arguments\n",
    "square(t, d=250, is_screen_reset=True)"
   ]
  },
  {
   "cell_type": "markdown",
   "id": "celtic-bolivia",
   "metadata": {},
   "source": [
    "## Circle"
   ]
  },
  {
   "cell_type": "markdown",
   "id": "incorporate-trunk",
   "metadata": {},
   "source": [
    "Draw a Circle ->\n",
    "\n",
    "* t\n",
    "* r"
   ]
  },
  {
   "cell_type": "code",
   "execution_count": 26,
   "id": "insured-headline",
   "metadata": {},
   "outputs": [],
   "source": [
    "import math\n",
    "\n",
    "def circle(t, r, is_screen_reset):\n",
    "    \"\"\"\n",
    "    Draws a circle.\n",
    "    Parameters: turtle t, int r, bool is_screen_reset\n",
    "    Returns: None (void)\n",
    "    \"\"\"\n",
    "    \n",
    "    # perimeter -> total distance to draw\n",
    "    perimeter = 2 * math.pi * r\n",
    "    \n",
    "    # angles to turn at each step\n",
    "    angles = 10\n",
    "    \n",
    "    # steps -> 360 / angles \n",
    "    # angle of an arc\n",
    "    steps = int(360 / angles)\n",
    "    \n",
    "    # distance -> distance to draw in each arc\n",
    "    distance = perimeter / steps\n",
    "    \n",
    "    # call polygon\n",
    "    polygon(t, d=distance, n=steps, is_screen_reset=is_screen_reset)"
   ]
  },
  {
   "cell_type": "code",
   "execution_count": 27,
   "id": "planned-greeting",
   "metadata": {},
   "outputs": [],
   "source": [
    "# call the circle function with radius of 200 and resetting the screen\n",
    "circle(t, 200, True)"
   ]
  },
  {
   "cell_type": "code",
   "execution_count": 28,
   "id": "western-local",
   "metadata": {},
   "outputs": [],
   "source": [
    "# reset the screen first\n",
    "reset()\n",
    "\n",
    "# call the circle in a loop\n",
    "for i in range(1, 4):\n",
    "    # modify the radius at each iteration\n",
    "    circle(t, i * 50, False)"
   ]
  },
  {
   "cell_type": "markdown",
   "id": "regular-member",
   "metadata": {},
   "source": [
    "## Star"
   ]
  },
  {
   "cell_type": "markdown",
   "id": "occupational-honduras",
   "metadata": {},
   "source": [
    "Draw a star."
   ]
  },
  {
   "cell_type": "code",
   "execution_count": 29,
   "id": "immediate-navigation",
   "metadata": {},
   "outputs": [
    {
     "name": "stdout",
     "output_type": "stream",
     "text": [
      "144.0\n"
     ]
    }
   ],
   "source": [
    "# angle of a 5 sized star\n",
    "\n",
    "angle = 180 / 5\n",
    "angle = 180 - angle\n",
    "print(angle)"
   ]
  },
  {
   "cell_type": "markdown",
   "id": "rational-flashing",
   "metadata": {},
   "source": [
    "Fixed size star."
   ]
  },
  {
   "cell_type": "code",
   "execution_count": 30,
   "id": "weird-juice",
   "metadata": {},
   "outputs": [],
   "source": [
    "def star(t, d, is_screen_reset, color):\n",
    "    \"\"\"\n",
    "    Draws a star with 5 sizes.\n",
    "    Parameters: turtle t, int d, bool is_screen_reset, str color\n",
    "    \"\"\"\n",
    "    \n",
    "    # resetting\n",
    "    if is_screen_reset:\n",
    "        reset()\n",
    "        \n",
    "    # angle\n",
    "    angle = 180 / 5\n",
    "    angle = 180 - angle\n",
    "    \n",
    "    # line color -> pen color\n",
    "    t.color(color)\n",
    "    \n",
    "    # start the filling\n",
    "    t.fillcolor(color)\n",
    "    t.begin_fill()\n",
    "    \n",
    "    for i in range(5):\n",
    "        t.fd(d)\n",
    "        t.lt(angle)\n",
    "    \n",
    "    # end the filling\n",
    "    t.end_fill()"
   ]
  },
  {
   "cell_type": "code",
   "execution_count": 31,
   "id": "thirty-imperial",
   "metadata": {},
   "outputs": [],
   "source": [
    "star(t, 300, is_screen_reset=True, color='green')"
   ]
  },
  {
   "cell_type": "code",
   "execution_count": 32,
   "id": "literary-macedonia",
   "metadata": {},
   "outputs": [],
   "source": [
    "star(t, 200, is_screen_reset=False, color='orange')"
   ]
  },
  {
   "cell_type": "code",
   "execution_count": 33,
   "id": "equipped-dressing",
   "metadata": {},
   "outputs": [],
   "source": [
    "star(t, 100, is_screen_reset=False, color='purple')"
   ]
  },
  {
   "cell_type": "markdown",
   "id": "least-sailing",
   "metadata": {},
   "source": [
    "Variable size star."
   ]
  },
  {
   "cell_type": "code",
   "execution_count": 34,
   "id": "angry-mineral",
   "metadata": {},
   "outputs": [],
   "source": [
    "# redefine the star function with number of sides as a new parameter\n",
    "\n",
    "def star(t, d, n, is_screen_reset, color):\n",
    "    \"\"\"\n",
    "    Draws a star with n sizes.\n",
    "    Parameters: turtle t, int d, int n, bool is_screen_reset, str color\n",
    "    \"\"\"\n",
    "    \n",
    "    # resetting\n",
    "    if is_screen_reset:\n",
    "        reset()\n",
    "        \n",
    "    # angle\n",
    "    angle = 180 / n\n",
    "    angle = 180 - angle\n",
    "    \n",
    "    # line color -> pen color\n",
    "    t.color(color)\n",
    "    \n",
    "    # start the filling\n",
    "    t.fillcolor(color)\n",
    "    t.begin_fill()\n",
    "    \n",
    "    for i in range(n):\n",
    "        t.fd(d)\n",
    "        t.lt(angle)\n",
    "    \n",
    "    # end the filling\n",
    "    t.end_fill()"
   ]
  },
  {
   "cell_type": "code",
   "execution_count": 35,
   "id": "consecutive-candidate",
   "metadata": {},
   "outputs": [],
   "source": [
    "star(t, 300, 11, is_screen_reset=True, color='yellow')"
   ]
  },
  {
   "cell_type": "markdown",
   "id": "acute-gross",
   "metadata": {},
   "source": [
    "Different fill and pen colors."
   ]
  },
  {
   "cell_type": "code",
   "execution_count": 36,
   "id": "dental-dependence",
   "metadata": {},
   "outputs": [],
   "source": [
    "# redefine the star function with pen_color and fill_color\n",
    "\n",
    "def star(t, d, n, is_screen_reset, pen_color, fill_color):\n",
    "    \"\"\"\n",
    "    Draws a star with n sizes.\n",
    "    Parameters: turtle t, int d, int n, bool is_screen_reset, str pen_color, fill_color\n",
    "    \"\"\"\n",
    "    \n",
    "    # resetting\n",
    "    if is_screen_reset:\n",
    "        reset()\n",
    "        \n",
    "    # angle\n",
    "    angle = 180 / n\n",
    "    angle = 180 - angle\n",
    "    \n",
    "    # line color -> pen color\n",
    "    t.color(pen_color)\n",
    "    \n",
    "    # start the filling\n",
    "    t.fillcolor(fill_color)\n",
    "    t.begin_fill()\n",
    "    \n",
    "    for i in range(n):\n",
    "        t.fd(d)\n",
    "        t.lt(angle)\n",
    "    \n",
    "    # end the filling\n",
    "    t.end_fill()"
   ]
  },
  {
   "cell_type": "code",
   "execution_count": 37,
   "id": "accessible-madness",
   "metadata": {},
   "outputs": [],
   "source": [
    "star(t, 300, 15, is_screen_reset=True, pen_color='red', fill_color='yellow')"
   ]
  },
  {
   "cell_type": "code",
   "execution_count": 38,
   "id": "wrapped-devil",
   "metadata": {},
   "outputs": [],
   "source": [
    "# last statement -> before close\n",
    "# restart the kernel after you close the turtle\n",
    "\n",
    "turtle.mainloop()"
   ]
  }
 ],
 "metadata": {
  "kernelspec": {
   "display_name": "Python 3",
   "language": "python",
   "name": "python3"
  },
  "language_info": {
   "codemirror_mode": {
    "name": "ipython",
    "version": 3
   },
   "file_extension": ".py",
   "mimetype": "text/x-python",
   "name": "python",
   "nbconvert_exporter": "python",
   "pygments_lexer": "ipython3",
   "version": "3.8.8"
  }
 },
 "nbformat": 4,
 "nbformat_minor": 5
}
