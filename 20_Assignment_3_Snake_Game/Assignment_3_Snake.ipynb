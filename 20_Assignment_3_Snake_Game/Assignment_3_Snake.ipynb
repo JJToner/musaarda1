{
 "cells": [
  {
   "cell_type": "markdown",
   "id": "right-palmer",
   "metadata": {},
   "source": [
    "# Snake"
   ]
  },
  {
   "cell_type": "markdown",
   "id": "wound-principle",
   "metadata": {},
   "source": [
    "Complete the Snake project based on **#TODO**'s."
   ]
  },
  {
   "cell_type": "markdown",
   "id": "latin-bookmark",
   "metadata": {},
   "source": [
    "https://docs.python.org/3/library/turtle.html#module-turtle"
   ]
  },
  {
   "cell_type": "markdown",
   "id": "hidden-constitution",
   "metadata": {},
   "source": [
    "## Preparation"
   ]
  },
  {
   "cell_type": "code",
   "execution_count": 1,
   "id": "american-frank",
   "metadata": {},
   "outputs": [],
   "source": [
    "#TODO - import the packages: turtle, time and random"
   ]
  },
  {
   "cell_type": "code",
   "execution_count": 2,
   "id": "simplified-wound",
   "metadata": {},
   "outputs": [],
   "source": [
    "# global variable\n",
    "\n",
    "window = None\n",
    "snake = []\n",
    "head = None\n",
    "\n",
    "direction = 'down'\n",
    "delay_time = 0.1\n",
    "\n",
    "food = None\n",
    "food_color = ''\n",
    "\n",
    "TURTLE_SIZE = 20\n",
    "WIDTH = 600\n",
    "HEIGHT = 600\n",
    "\n",
    "X_RANGE = (WIDTH - TURTLE_SIZE) / 2\n",
    "Y_RANGE = (HEIGHT - TURTLE_SIZE) / 2\n",
    "\n",
    "pen = None\n",
    "score = 0\n",
    "high_score = 0\n",
    "\n",
    "#TODO - define shapes dictionary\n",
    "\n",
    "#TODO - define colors dictionary"
   ]
  },
  {
   "cell_type": "markdown",
   "id": "electrical-simulation",
   "metadata": {},
   "source": [
    "## Functions"
   ]
  },
  {
   "cell_type": "markdown",
   "id": "supreme-blast",
   "metadata": {},
   "source": [
    "**Main Screen:**"
   ]
  },
  {
   "cell_type": "code",
   "execution_count": 3,
   "id": "horizontal-matrix",
   "metadata": {},
   "outputs": [],
   "source": [
    "# function to set up the main screen\n",
    "\n",
    "def set_screen():\n",
    "    \"\"\"Sets the main screen.\"\"\"\n",
    "    \n",
    "    global window\n",
    "    \n",
    "    #TODO - create the window (Screen) and give it; title, background, width-height. And set the tracer."
   ]
  },
  {
   "cell_type": "markdown",
   "id": "designed-introduction",
   "metadata": {},
   "source": [
    "**Events:**"
   ]
  },
  {
   "cell_type": "code",
   "execution_count": 4,
   "id": "modern-review",
   "metadata": {},
   "outputs": [],
   "source": [
    "# function to listen screen events\n",
    "\n",
    "def listen_events():\n",
    "    window.listen()\n",
    "    #TODO - listen Up, Down, Left and Right key press events"
   ]
  },
  {
   "cell_type": "code",
   "execution_count": 5,
   "id": "generous-rubber",
   "metadata": {},
   "outputs": [],
   "source": [
    "# keyboard functions\n",
    "\n",
    "def set_up_direction():\n",
    "    #TODO - set the global direction to up\n",
    "    \n",
    "def set_down_direction():\n",
    "    #TODO - set the global direction to down\n",
    "    \n",
    "def set_left_direction():\n",
    "    #TODO - set the global direction to left\n",
    "    \n",
    "def set_right_direction():\n",
    "    global direction\n",
    "    if direction != 'left':\n",
    "        #TODO - set the global direction to right"
   ]
  },
  {
   "cell_type": "markdown",
   "id": "impossible-brick",
   "metadata": {},
   "source": [
    "**Head:**"
   ]
  },
  {
   "cell_type": "code",
   "execution_count": 6,
   "id": "organizational-remove",
   "metadata": {},
   "outputs": [],
   "source": [
    "# create the head\n",
    "\n",
    "def create_head(is_initial=True):\n",
    "    \"\"\"Creates the snake head.\"\"\"\n",
    "    \n",
    "    global head, snake\n",
    "    \n",
    "    # create the head\n",
    "    \n",
    "    #TODO - create the head tirtle, give it a shape and a color. \n",
    "    #TODO - set the position for the head\n",
    "    #TODO - append the head into snake list"
   ]
  },
  {
   "cell_type": "markdown",
   "id": "studied-variable",
   "metadata": {},
   "source": [
    "**Score:**"
   ]
  },
  {
   "cell_type": "code",
   "execution_count": 7,
   "id": "reported-prayer",
   "metadata": {},
   "outputs": [],
   "source": [
    "# create the score\n",
    "\n",
    "def create_score():\n",
    "    \n",
    "    global pen\n",
    "    \n",
    "    # create the pen turtle\n",
    "    #TODO - create the pen turtle and place it on screen\n",
    "\n",
    "    # initialize the score\n",
    "    #TODO - call the update_score function to initialize the pen"
   ]
  },
  {
   "cell_type": "code",
   "execution_count": 8,
   "id": "coastal-fleece",
   "metadata": {},
   "outputs": [],
   "source": [
    "# update the score\n",
    "\n",
    "def update_score(score_increment, is_reset=False):\n",
    "    \n",
    "    #TODO - update the global score and high_score variables, based on is_reset\n",
    "    \n",
    "    #TODO - check if the score is greater than the high_score\n",
    "    \n",
    "    #TODO - clear the pen\n",
    "    \n",
    "    pen.write(\"Score: {0}  |  High Score: {1}\".format(score, high_score),\n",
    "              align='center',\n",
    "              font=('Arial', 16, 'normal'))"
   ]
  },
  {
   "cell_type": "markdown",
   "id": "agreed-insider",
   "metadata": {},
   "source": [
    "**Reset:**"
   ]
  },
  {
   "cell_type": "code",
   "execution_count": 9,
   "id": "multiple-shock",
   "metadata": {},
   "outputs": [],
   "source": [
    "# reset screen fn\n",
    "\n",
    "def reset():\n",
    "    \n",
    "    # hide the segments of snake\n",
    "    for t in snake:\n",
    "        t.goto(40000, 4000)\n",
    "    \n",
    "    # clear the snake list\n",
    "    snake.clear()\n",
    "    \n",
    "    # create a new head\n",
    "    #TODO - call create_head function with is_initial parameter being False\n",
    "\n",
    "    # reset the score\n",
    "    #TODO - call update_score function with score_increment as 0 and is_reset as True"
   ]
  },
  {
   "cell_type": "markdown",
   "id": "current-greensboro",
   "metadata": {},
   "source": [
    "**Delay:**"
   ]
  },
  {
   "cell_type": "code",
   "execution_count": 10,
   "id": "coral-lunch",
   "metadata": {},
   "outputs": [],
   "source": [
    "# delay function\n",
    "\n",
    "def delay(duration):\n",
    "    time.sleep(duration)"
   ]
  },
  {
   "cell_type": "markdown",
   "id": "cosmetic-denver",
   "metadata": {},
   "source": [
    "**Collisions:**"
   ]
  },
  {
   "cell_type": "code",
   "execution_count": 11,
   "id": "stupid-theater",
   "metadata": {},
   "outputs": [],
   "source": [
    "# function for border collisions\n",
    "\n",
    "def check_border_collisions():\n",
    "    \n",
    "    # if the head position (x, y) is out the ranges (X_RANGE, Y_RANGE) -> we collide\n",
    "    \n",
    "    #TODO - get x and y coordinates of the head turtle\n",
    "    \n",
    "    if  #TODO decide the collision :\n",
    "        \n",
    "        # set direction\n",
    "        #TODO - set the global direction variable to 'stop'\n",
    "    \n",
    "        # reset screen after 1 second\n",
    "        #TODO - call delay function with 1 seconds\n",
    "        #TODO - call reset function"
   ]
  },
  {
   "cell_type": "code",
   "execution_count": 12,
   "id": "cloudy-scotland",
   "metadata": {},
   "outputs": [],
   "source": [
    "# body collisions\n",
    "\n",
    "def check_body_collisions():\n",
    "    \n",
    "    # if the distance betwwen the head and any of the segments is less than the TURTLE_SIZE\n",
    "    # then this means we collide\n",
    "\n",
    "    for ...#TODO - get all turtles and indices for the snake...:\n",
    "        \n",
    "        # exclude head \n",
    "        if #TODO - exclude head index:\n",
    "            \n",
    "            if ...#TODO - get the distance between the head and the current turtle in the loop... < TURTLE_SIZE - 1:\n",
    "                \n",
    "                # set direction\n",
    "                #TODO - set the global direction variable to 'stop'\n",
    "\n",
    "                # reset screen after 1 second\n",
    "                #TODO - call delay function with 1 seconds\n",
    "                #TODO - call reset function"
   ]
  },
  {
   "cell_type": "markdown",
   "id": "caring-stupid",
   "metadata": {},
   "source": [
    "**Move:**"
   ]
  },
  {
   "cell_type": "code",
   "execution_count": 13,
   "id": "operational-ridge",
   "metadata": {},
   "outputs": [],
   "source": [
    "# move function\n",
    "\n",
    "def move():\n",
    "    if window._RUNNING:        \n",
    "        # move only if the direction is not stop\n",
    "        if direction != 'stop':\n",
    "            # move the segments\n",
    "            #TODO - call move_segments function\n",
    "\n",
    "            # move the head\n",
    "            #TODO - call move_head function"
   ]
  },
  {
   "cell_type": "code",
   "execution_count": 14,
   "id": "frozen-nebraska",
   "metadata": {},
   "outputs": [],
   "source": [
    "# fn to move segments\n",
    "\n",
    "def move_segments():\n",
    "    \n",
    "    # move each segment in reverse order -> from last segment\n",
    "    # move each segment into the position of the previous one\n",
    "    # ignore the head\n",
    "    # start from the last one -> len(snake)-1\n",
    "    # up to head -> 0\n",
    "    # backwards -> -1\n",
    "    \n",
    "    for i in range(len(snake)-1, 0, -1):\n",
    "        #TODO - get the x and y coordinate of the previous segment\n",
    "        #TODO - place the current turtle in the loop at x and y"
   ]
  },
  {
   "cell_type": "code",
   "execution_count": 15,
   "id": "african-particular",
   "metadata": {},
   "outputs": [],
   "source": [
    "# fn to move the head\n",
    "\n",
    "def move_head():\n",
    "    \n",
    "    # get current coordinate\n",
    "    #TODO - get x and y coordinates of the head turtle\n",
    "\n",
    "    if direction == 'up':\n",
    "        head.sety(y + TURTLE_SIZE)\n",
    "    elif direction == 'down':\n",
    "        #TODO - set the y coordinate of the head appriopliately -> remember the turtle moves TURTLE_SIZE pixels\n",
    "    elif direction == 'left':\n",
    "        #TODO - set the x coordinate of the head appriopliately -> remember the turtle moves TURTLE_SIZE pixels\n",
    "    elif direction == 'right':\n",
    "        #TODO - set the x coordinate of the head appriopliately -> remember the turtle moves TURTLE_SIZE pixels"
   ]
  },
  {
   "cell_type": "markdown",
   "id": "serial-swimming",
   "metadata": {},
   "source": [
    "**Food:**"
   ]
  },
  {
   "cell_type": "code",
   "execution_count": 16,
   "id": "atlantic-agency",
   "metadata": {},
   "outputs": [],
   "source": [
    "# create the food object\n",
    "\n",
    "def add_food():\n",
    "    \n",
    "    if window._RUNNING:        \n",
    "        global food\n",
    "        \n",
    "        # create a turtle -> single -> Singleton Pattern\n",
    "        if food == None:\n",
    "            \n",
    "            #TODO - create the food the turtle and give it a random shape\n",
    "            \n",
    "            # color\n",
    "            #TODO - give food turtle a random color\n",
    "            \n",
    "            # move the food\n",
    "            #TODO - call move_food function with the food turtle"
   ]
  },
  {
   "cell_type": "code",
   "execution_count": 17,
   "id": "italian-andrews",
   "metadata": {},
   "outputs": [],
   "source": [
    "# function to move the food\n",
    "\n",
    "def move_food(food):    \n",
    "    # x coordinate\n",
    "    x = #TODO - get a random integer between -X_RANGE and X_RANGE\n",
    "    \n",
    "    # y coordinate\n",
    "    y = #TODO - get a random integer between -Y_RANGE and (Y_RANGE - 2 * TURTLE_SIZE)\n",
    "    \n",
    "    # replace the food\n",
    "    food.goto(x, y)"
   ]
  },
  {
   "cell_type": "code",
   "execution_count": 18,
   "id": "typical-march",
   "metadata": {},
   "outputs": [],
   "source": [
    "# function to eat the food\n",
    "\n",
    "def eat_food():\n",
    "    \n",
    "    # check the distance between the head and the food\n",
    "    if head.distance(food) < TURTLE_SIZE - 1:\n",
    "        \n",
    "        # move the fodd\n",
    "        #TODO - call the move_food function with the food\n",
    "        \n",
    "        # change the food shape\n",
    "        #TODO - change the food shape to a random one\n",
    "        \n",
    "        # create a segment for the snake\n",
    "        #TODO - call create_segment function\n",
    "        \n",
    "        # change the fodd color\n",
    "        #TODO - give food turtle a random color\n",
    "        \n",
    "        # update score\n",
    "        #TODO - call update_score function with 10 as increment"
   ]
  },
  {
   "cell_type": "markdown",
   "id": "institutional-suspect",
   "metadata": {},
   "source": [
    "**Body Segments:**"
   ]
  },
  {
   "cell_type": "code",
   "execution_count": 19,
   "id": "broke-riding",
   "metadata": {},
   "outputs": [],
   "source": [
    "# function to create segment\n",
    "\n",
    "def create_segment():\n",
    "    \"\"\"Creates a new segment for snake.\"\"\"\n",
    "    \n",
    "    global snake\n",
    "    \n",
    "    # create a segment\n",
    "    #TODO - create the segment turtle with appropiate shape\n",
    "    \n",
    "    #TODO - set the color of the segment turtle to global food_color\n",
    "    \n",
    "    # position the segment\n",
    "    x, y = #TODO - call get_last_segment_position function\n",
    "    segment.goto(x, y)\n",
    "    \n",
    "    # add this segment into snake list\n",
    "    #TODO - append the segment to global snake list"
   ]
  },
  {
   "cell_type": "code",
   "execution_count": 20,
   "id": "corresponding-tiger",
   "metadata": {},
   "outputs": [],
   "source": [
    "# last segment position\n",
    "\n",
    "def get_last_segment_position():\n",
    "    \n",
    "    # last element -> snake[-1]\n",
    "    #TODO - get the x and y coordinates of the last segment in the snake\n",
    "    \n",
    "    # direction\n",
    "    # if direction is up -> same x, y is TURTLE_SIZE less\n",
    "    if direction == 'up':\n",
    "        y = y - TURTLE_SIZE\n",
    "    \n",
    "    # if direction is up -> same x, y is TURTLE_SIZE more\n",
    "    elif direction == 'down':\n",
    "        y = #TODO - assign the new y value\n",
    "        \n",
    "    # if direction is right -> same y, x is TURTLE_SIZE less\n",
    "    elif direction == 'right':\n",
    "        x = #TODO - assign the new x value\n",
    "        \n",
    "    # if direction is left -> same y, x is TURTLE_SIZE more\n",
    "    elif direction == 'left':\n",
    "        x = #TODO - assign the new x value\n",
    "    \n",
    "    return #TODO - return a tuple of x and y"
   ]
  },
  {
   "cell_type": "markdown",
   "id": "psychological-locator",
   "metadata": {},
   "source": [
    "**Shape:**"
   ]
  },
  {
   "cell_type": "code",
   "execution_count": 21,
   "id": "through-south",
   "metadata": {},
   "outputs": [],
   "source": [
    "# get a random shape\n",
    "\n",
    "def get_shape():\n",
    "    # get a random index from the shapes\n",
    "    index = random.randint(0, len(shapes)-1)\n",
    "    # return the item at that index\n",
    "    return shapes[index]"
   ]
  },
  {
   "cell_type": "markdown",
   "id": "opposed-stocks",
   "metadata": {},
   "source": [
    "**Color:**"
   ]
  },
  {
   "cell_type": "code",
   "execution_count": 22,
   "id": "weighted-thesis",
   "metadata": {},
   "outputs": [],
   "source": [
    "# get a random color\n",
    "\n",
    "def get_color():\n",
    "    \n",
    "    global food_color\n",
    "    \n",
    "    index = #TODO - get a random integer between 0 and the length of colors -1\n",
    "    color = colors[index]\n",
    "    \n",
    "    food_color = color\n",
    "    \n",
    "    return color"
   ]
  },
  {
   "cell_type": "markdown",
   "id": "coordinate-cooling",
   "metadata": {},
   "source": [
    "**Screen:**"
   ]
  },
  {
   "cell_type": "code",
   "execution_count": 23,
   "id": "passive-manitoba",
   "metadata": {},
   "outputs": [],
   "source": [
    "# function to update screen\n",
    "\n",
    "def update_screen():\n",
    "    \n",
    "    while window._RUNNING:\n",
    "\n",
    "        # side collisions\n",
    "        #TODO - call check_border_collisions function\n",
    "        \n",
    "        # body collisions\n",
    "        #TODO - call check_body_collisions function\n",
    "        \n",
    "        # move the head\n",
    "        #TODO - call move function\n",
    "            \n",
    "        # delay\n",
    "        #TODO - call delay function with global delay_time\n",
    "        \n",
    "        # create the food\n",
    "        #TODO - call add_food function\n",
    "        \n",
    "        # eat the food\n",
    "        #TODO - call eat_food function\n",
    "        \n",
    "        # get rid of upate error\n",
    "        window.update()"
   ]
  },
  {
   "cell_type": "markdown",
   "id": "material-warren",
   "metadata": {},
   "source": [
    "**Main:**"
   ]
  },
  {
   "cell_type": "code",
   "execution_count": 24,
   "id": "entertaining-clark",
   "metadata": {},
   "outputs": [],
   "source": [
    "# main function to call other functions\n",
    "\n",
    "def main():\n",
    "    \n",
    "    # set the screen\n",
    "    set_screen()\n",
    "    \n",
    "    # listen keyboard events\n",
    "    listen_events()\n",
    "\n",
    "    # create head\n",
    "    create_head()\n",
    "    \n",
    "    # create score\n",
    "    create_score()\n",
    "    \n",
    "    # update screen\n",
    "    update_screen()"
   ]
  },
  {
   "cell_type": "code",
   "execution_count": 25,
   "id": "enormous-choir",
   "metadata": {},
   "outputs": [],
   "source": [
    "# call the main function to start the game\n",
    "main()"
   ]
  },
  {
   "cell_type": "code",
   "execution_count": 26,
   "id": "played-movement",
   "metadata": {},
   "outputs": [
    {
     "ename": "Terminator",
     "evalue": "",
     "output_type": "error",
     "traceback": [
      "\u001b[1;31m---------------------------------------------------------------------------\u001b[0m",
      "\u001b[1;31mTerminator\u001b[0m                                Traceback (most recent call last)",
      "\u001b[1;32m<ipython-input-26-4524fbad020d>\u001b[0m in \u001b[0;36m<module>\u001b[1;34m\u001b[0m\n\u001b[0;32m      1\u001b[0m \u001b[1;31m# the last line\u001b[0m\u001b[1;33m\u001b[0m\u001b[1;33m\u001b[0m\u001b[1;33m\u001b[0m\u001b[0m\n\u001b[0;32m      2\u001b[0m \u001b[1;33m\u001b[0m\u001b[0m\n\u001b[1;32m----> 3\u001b[1;33m \u001b[0mturtle\u001b[0m\u001b[1;33m.\u001b[0m\u001b[0mmainloop\u001b[0m\u001b[1;33m(\u001b[0m\u001b[1;33m)\u001b[0m\u001b[1;33m\u001b[0m\u001b[1;33m\u001b[0m\u001b[0m\n\u001b[0m",
      "\u001b[1;32m~\\anaconda3\\envs\\python_intro\\lib\\turtle.py\u001b[0m in \u001b[0;36mmainloop\u001b[1;34m()\u001b[0m\n",
      "\u001b[1;31mTerminator\u001b[0m: "
     ]
    }
   ],
   "source": [
    "# the last line\n",
    "turtle.mainloop()"
   ]
  }
 ],
 "metadata": {
  "kernelspec": {
   "display_name": "Python 3",
   "language": "python",
   "name": "python3"
  },
  "language_info": {
   "codemirror_mode": {
    "name": "ipython",
    "version": 3
   },
   "file_extension": ".py",
   "mimetype": "text/x-python",
   "name": "python",
   "nbconvert_exporter": "python",
   "pygments_lexer": "ipython3",
   "version": "3.8.8"
  }
 },
 "nbformat": 4,
 "nbformat_minor": 5
}
