{
 "cells": [
  {
   "cell_type": "markdown",
   "id": "egyptian-martin",
   "metadata": {},
   "source": [
    "# Assignment 1 - Functions"
   ]
  },
  {
   "cell_type": "markdown",
   "id": "thermal-killing",
   "metadata": {},
   "source": [
    "## The Turtle Module"
   ]
  },
  {
   "cell_type": "markdown",
   "id": "laden-hayes",
   "metadata": {},
   "source": [
    "https://docs.python.org/3/library/turtle.html"
   ]
  },
  {
   "cell_type": "markdown",
   "id": "killing-healthcare",
   "metadata": {},
   "source": [
    "Complete the code with respect to **#TODO** statements."
   ]
  },
  {
   "cell_type": "code",
   "execution_count": 1,
   "id": "everyday-briefs",
   "metadata": {},
   "outputs": [],
   "source": [
    "# import the module -> turtle\n",
    "\n",
    "#TODO - import turtle module\n"
   ]
  },
  {
   "cell_type": "code",
   "execution_count": 2,
   "id": "alone-honor",
   "metadata": {},
   "outputs": [],
   "source": [
    "#TODO - create a turtle object and name it as t\n"
   ]
  },
  {
   "cell_type": "code",
   "execution_count": 3,
   "id": "reported-pollution",
   "metadata": {},
   "outputs": [],
   "source": [
    "# move turtle forward by 100 pixels\n",
    "t.fd(100)"
   ]
  },
  {
   "cell_type": "code",
   "execution_count": 4,
   "id": "matched-cooper",
   "metadata": {},
   "outputs": [],
   "source": [
    "# turn the turtle to the left by 90 degrees\n",
    "t.lt(90)"
   ]
  },
  {
   "cell_type": "code",
   "execution_count": 5,
   "id": "municipal-sweden",
   "metadata": {},
   "outputs": [],
   "source": [
    "#TODO - move turtle t 100 pixels forward\n"
   ]
  },
  {
   "cell_type": "code",
   "execution_count": 6,
   "id": "final-cylinder",
   "metadata": {},
   "outputs": [],
   "source": [
    "#TODO - turn turtle to the left by 90 degrees\n"
   ]
  },
  {
   "cell_type": "code",
   "execution_count": 7,
   "id": "rotary-blink",
   "metadata": {},
   "outputs": [],
   "source": [
    "#TODO - move turtle t 100 pixels forward\n"
   ]
  },
  {
   "cell_type": "code",
   "execution_count": 8,
   "id": "selective-hunter",
   "metadata": {},
   "outputs": [],
   "source": [
    "#TODO - turn turtle to the left by 90 degrees\n"
   ]
  },
  {
   "cell_type": "code",
   "execution_count": 9,
   "id": "civilian-replica",
   "metadata": {},
   "outputs": [],
   "source": [
    "#TODO - move turtle t 100 pixels forward\n"
   ]
  },
  {
   "cell_type": "code",
   "execution_count": 10,
   "id": "impressive-pressure",
   "metadata": {},
   "outputs": [],
   "source": [
    "#TODO - turn turtle to the left by 90 degrees\n"
   ]
  },
  {
   "cell_type": "markdown",
   "id": "backed-solomon",
   "metadata": {},
   "source": [
    "Move functions:\n",
    "* fd(px) -> forward\n",
    "* bk(px) -> backward\n",
    "* lt(angle) -> turns left\n",
    "* rt(angles) -> turns right"
   ]
  },
  {
   "cell_type": "code",
   "execution_count": 11,
   "id": "cross-revelation",
   "metadata": {},
   "outputs": [],
   "source": [
    "# clear screen and reset the turtle to initial position\n",
    "t.clear()"
   ]
  },
  {
   "cell_type": "code",
   "execution_count": 12,
   "id": "impressive-external",
   "metadata": {},
   "outputs": [],
   "source": [
    "# reset the screen\n",
    "turtle.resetscreen()"
   ]
  },
  {
   "cell_type": "code",
   "execution_count": 13,
   "id": "unlimited-duncan",
   "metadata": {},
   "outputs": [],
   "source": [
    "# We want to create a squre\n",
    "\n",
    "# Move 100 pixel forward\n",
    "# Turn left 90 deg\n",
    "\n",
    "# Move 100 pixel forward\n",
    "# Turn left 90 deg\n",
    "\n",
    "# Move 100 pixel forward\n",
    "# Turn left 90 deg\n",
    "\n",
    "# Move 100 pixel forward\n",
    "# Turn left 90 deg\n",
    "\n",
    "t.fd(100)\n",
    "t.lt(90)\n",
    "\n",
    "t.fd(100)\n",
    "t.lt(90)\n",
    "\n",
    "t.fd(100)\n",
    "t.lt(90)\n",
    "\n",
    "t.fd(100)\n",
    "t.lt(90)"
   ]
  },
  {
   "cell_type": "code",
   "execution_count": 14,
   "id": "flush-cloud",
   "metadata": {},
   "outputs": [],
   "source": [
    "#TODO - reset turtle screen"
   ]
  },
  {
   "cell_type": "code",
   "execution_count": 15,
   "id": "directed-account",
   "metadata": {},
   "outputs": [],
   "source": [
    "# with loop\n",
    "# it's going to repeat fd-lt patter 4 times\n",
    "\n",
    "for i in range(...#TODO...):\n",
    "    #TODO - move forward and turn left\n"
   ]
  },
  {
   "cell_type": "markdown",
   "id": "wrapped-absolute",
   "metadata": {},
   "source": [
    "## Square"
   ]
  },
  {
   "cell_type": "markdown",
   "id": "alien-hardware",
   "metadata": {},
   "source": [
    "Create a square with a function -> **square**\n",
    "\n",
    "Parameters: turtle object, d in pixels"
   ]
  },
  {
   "cell_type": "code",
   "execution_count": 16,
   "id": "crazy-reporter",
   "metadata": {},
   "outputs": [],
   "source": [
    "# square function\n",
    "\n",
    "def square(t, d, is_screen_reset):\n",
    "    \"\"\"\n",
    "    It draws square with turtle.\n",
    "    Parameters: turtle t, int d, bool is_screen_reset\n",
    "    Returns: None\n",
    "    \"\"\"\n",
    "    \n",
    "    # reset screen\n",
    "    if is_screen_reset == True:\n",
    "        reset()\n",
    "    \n",
    "    # draw a square\n",
    "    #TODO - create a loop to draw a circle\n",
    "    "
   ]
  },
  {
   "cell_type": "code",
   "execution_count": 17,
   "id": "identified-prefix",
   "metadata": {},
   "outputs": [],
   "source": [
    "# reset function\n",
    "\n",
    "def reset():\n",
    "    #TODO - call turtle modules resetscreen function\n",
    "    "
   ]
  },
  {
   "cell_type": "code",
   "execution_count": 18,
   "id": "present-sister",
   "metadata": {},
   "outputs": [],
   "source": [
    "square(t, 200, True)"
   ]
  },
  {
   "cell_type": "code",
   "execution_count": 19,
   "id": "surgical-macro",
   "metadata": {},
   "outputs": [],
   "source": [
    "#TODO - call square function with: t, 300 distance and resetting screen\n"
   ]
  },
  {
   "cell_type": "code",
   "execution_count": 20,
   "id": "sunset-decrease",
   "metadata": {},
   "outputs": [],
   "source": [
    "#TODO - call square function with: t, 100 distance and NOT resetting screen\n"
   ]
  },
  {
   "cell_type": "code",
   "execution_count": 21,
   "id": "comparable-router",
   "metadata": {},
   "outputs": [],
   "source": [
    "# draw 10 squares of size: 20 - 40 - 60 80 - ... - 200\n",
    "\n",
    "# first reset the screen just once\n",
    "reset()\n",
    "\n",
    "# loop to draw the circles\n",
    "for i in range(1, 11):\n",
    "    #TODO - call square function with NOT resetting screen and appropriate parameters\n",
    "    "
   ]
  },
  {
   "cell_type": "markdown",
   "id": "bound-diabetes",
   "metadata": {},
   "source": [
    "## Polygon"
   ]
  },
  {
   "cell_type": "markdown",
   "id": "stone-audience",
   "metadata": {},
   "source": [
    "Draw a polygon."
   ]
  },
  {
   "cell_type": "code",
   "execution_count": 22,
   "id": "cooperative-beverage",
   "metadata": {},
   "outputs": [],
   "source": [
    "# polygon function\n",
    "\n",
    "def polygon(t, d, n, is_screen_reset):\n",
    "    #TODO - write the function documentation (docstring)\n",
    "    \n",
    "    # resetting\n",
    "    #TODO - check if screen will be resetted and reset if needed\n",
    "    \n",
    "    # angle\n",
    "    angle = 360 / n\n",
    "    \n",
    "     # polygon\n",
    "    for i in range(...#TODO...):\n",
    "        #TODO - move and turn the turtle to draw polygon\n",
    "        "
   ]
  },
  {
   "cell_type": "code",
   "execution_count": 23,
   "id": "monetary-spyware",
   "metadata": {},
   "outputs": [],
   "source": [
    "# draw a 6 sided hexagon\n",
    "polygon(t, 100, 6, True)"
   ]
  },
  {
   "cell_type": "markdown",
   "id": "grand-diary",
   "metadata": {},
   "source": [
    "**Named Arguments:**\n",
    "\n",
    "When you call a function and passing parameters:\n",
    "\n",
    "`function_name(parameter_name = parameter_value)`"
   ]
  },
  {
   "cell_type": "code",
   "execution_count": 24,
   "id": "disciplinary-pakistan",
   "metadata": {},
   "outputs": [],
   "source": [
    "# call the polygon fn with named arguments\n",
    "polygon(t=t, d=120, n=8, is_screen_reset=False)"
   ]
  },
  {
   "cell_type": "code",
   "execution_count": 25,
   "id": "verified-treatment",
   "metadata": {},
   "outputs": [],
   "source": [
    "# call the square fn with named arguments\n",
    "\n",
    "#TODO - call square function with named parameters -> t for turtle, 250 for d and True for is_screen_reset\n"
   ]
  },
  {
   "cell_type": "markdown",
   "id": "clinical-johnson",
   "metadata": {},
   "source": [
    "## Circle"
   ]
  },
  {
   "cell_type": "markdown",
   "id": "introductory-machinery",
   "metadata": {},
   "source": [
    "Draw a Circle ->\n",
    "\n",
    "* t\n",
    "* r"
   ]
  },
  {
   "cell_type": "code",
   "execution_count": 26,
   "id": "choice-grammar",
   "metadata": {},
   "outputs": [],
   "source": [
    "import math\n",
    "\n",
    "def circle(t, r, is_screen_reset):\n",
    "    \"\"\"\n",
    "    Draws a circle.\n",
    "    Parameters: turtle t, int r, bool is_screen_reset\n",
    "    Returns: None (void)\n",
    "    \"\"\"\n",
    "    \n",
    "    # perimeter -> total distance to draw\n",
    "    # TODO - Calculate the perimeter of circle -> 2 * math.pi * r\n",
    "    \n",
    "    # angles to turn at each step\n",
    "    angles = 10\n",
    "    \n",
    "    # steps -> 360 / angles \n",
    "    # angle of an arc\n",
    "    # TODO - Calculate number of steps for arc of 10 degrees, then convert into int\n",
    "    \n",
    "    # distance -> distance to draw in each arc\n",
    "    # TODO - Calculate the distance which is perimeter / steps\n",
    "    \n",
    "    # call polygon\n",
    "    #TODO - Call polygon function with appropriate parameters\n",
    "    "
   ]
  },
  {
   "cell_type": "code",
   "execution_count": 27,
   "id": "typical-courage",
   "metadata": {},
   "outputs": [],
   "source": [
    "# call the circle function with radius of 200 and resetting the screen\n",
    "circle(t, 200, True)"
   ]
  },
  {
   "cell_type": "code",
   "execution_count": 28,
   "id": "acknowledged-heritage",
   "metadata": {},
   "outputs": [],
   "source": [
    "# reset the screen first\n",
    "# TODO - call reset() function\n",
    "\n",
    "# call the circle in a loop\n",
    "for i in # TODO - Range from 1 to 4:\n",
    "    \n",
    "    # TODO - Call circle() function with i * 50 radius and do not reset screen\n",
    "    "
   ]
  },
  {
   "cell_type": "markdown",
   "id": "permanent-namibia",
   "metadata": {},
   "source": [
    "## Star"
   ]
  },
  {
   "cell_type": "markdown",
   "id": "practical-dictionary",
   "metadata": {},
   "source": [
    "Draw a star."
   ]
  },
  {
   "cell_type": "code",
   "execution_count": 29,
   "id": "entire-switzerland",
   "metadata": {},
   "outputs": [
    {
     "name": "stdout",
     "output_type": "stream",
     "text": [
      "144.0\n"
     ]
    }
   ],
   "source": [
    "# angle of a 5 sized star\n",
    "\n",
    "angle = 180 / 5\n",
    "angle = 180 - angle\n",
    "print(angle)"
   ]
  },
  {
   "cell_type": "markdown",
   "id": "upset-carbon",
   "metadata": {},
   "source": [
    "Fixed size star."
   ]
  },
  {
   "cell_type": "code",
   "execution_count": 30,
   "id": "superb-class",
   "metadata": {},
   "outputs": [],
   "source": [
    "def star(t, d, is_screen_reset, color):\n",
    "    \"\"\"\n",
    "    Draws a star with 5 sizes.\n",
    "    Parameters: turtle t, int d, bool is_screen_reset, str color\n",
    "    \"\"\"\n",
    "    \n",
    "    # resetting\n",
    "    # TODO - call reset screen based on is_screen_reset\n",
    "        \n",
    "    # angle\n",
    "    # TODO - Calculate the angle for 5 sizes\n",
    "    \n",
    "    # line color -> pen color\n",
    "    t.color(color)\n",
    "    \n",
    "    # start the filling\n",
    "    t.fillcolor(color)\n",
    "    t.begin_fill()\n",
    "    \n",
    "    # 5 sized star\n",
    "    for i in range(...#TODO...):\n",
    "        #TODO - move and turn the turtle to draw a star\n",
    "    \n",
    "    # end the filling\n",
    "    t.end_fill()"
   ]
  },
  {
   "cell_type": "code",
   "execution_count": 31,
   "id": "informative-packaging",
   "metadata": {},
   "outputs": [],
   "source": [
    "star(t, 300, is_screen_reset=True, color='green')"
   ]
  },
  {
   "cell_type": "code",
   "execution_count": 32,
   "id": "earlier-recording",
   "metadata": {},
   "outputs": [],
   "source": [
    "star(t, 200, is_screen_reset=False, color='orange')"
   ]
  },
  {
   "cell_type": "code",
   "execution_count": 33,
   "id": "several-brush",
   "metadata": {},
   "outputs": [],
   "source": [
    "star(t, 100, is_screen_reset=False, color='purple')"
   ]
  },
  {
   "cell_type": "markdown",
   "id": "later-blowing",
   "metadata": {},
   "source": [
    "Variable size star."
   ]
  },
  {
   "cell_type": "code",
   "execution_count": 34,
   "id": "southwest-jones",
   "metadata": {},
   "outputs": [],
   "source": [
    "# redefine the star function with number of sides as a new parameter\n",
    "\n",
    "def star(t, d, n, is_screen_reset, color):\n",
    "    \"\"\"\n",
    "    Draws a star with n sizes.\n",
    "    Parameters: turtle t, int d, int n, bool is_screen_reset, str color\n",
    "    \"\"\"\n",
    "    \n",
    "    # resetting\n",
    "    # TODO - call reset screen based on is_screen_reset\n",
    "        \n",
    "    # angle\n",
    "    # TODO - Calculate the angle for n sizes\n",
    "    \n",
    "    # line color -> pen color\n",
    "    # TODO - set the line color\n",
    "    \n",
    "    # start the filling\n",
    "    # TODO - set the fill color\n",
    "    # TODO - begin fill\n",
    "    \n",
    "    # n sized star\n",
    "    for i in range(...#TODO...):\n",
    "        #TODO - move and turn the turtle to draw a star\n",
    "    \n",
    "    # end the filling\n",
    "    # TODO - end fill\n",
    "                   "
   ]
  },
  {
   "cell_type": "code",
   "execution_count": 35,
   "id": "impressive-corner",
   "metadata": {},
   "outputs": [],
   "source": [
    "star(t, 300, 11, is_screen_reset=True, color='yellow')"
   ]
  },
  {
   "cell_type": "markdown",
   "id": "wound-provincial",
   "metadata": {},
   "source": [
    "Different fill and pen colors."
   ]
  },
  {
   "cell_type": "code",
   "execution_count": 36,
   "id": "behavioral-qatar",
   "metadata": {},
   "outputs": [],
   "source": [
    "# redefine the star function with pen_color and fill_color\n",
    "\n",
    "def star(t, d, n, is_screen_reset, pen_color, fill_color):\n",
    "    \"\"\"\n",
    "    Draws a star with n sizes.\n",
    "    Parameters: turtle t, int d, int n, bool is_screen_reset, str pen_color, fill_color\n",
    "    \"\"\"\n",
    "    \n",
    "    # resetting\n",
    "    # TODO - call reset screen based on is_screen_reset\n",
    "        \n",
    "    # angle\n",
    "    # TODO - Calculate the angle for n sizes\n",
    "    \n",
    "    # line color -> pen color\n",
    "    # TODO - set the line color\n",
    "    \n",
    "    # start the filling\n",
    "    # TODO - set the fill color\n",
    "    # TODO - begin fill\n",
    "    \n",
    "    # n sized star\n",
    "    for i in range(...#TODO...):\n",
    "        #TODO - move and turn the turtle to draw a star\n",
    "    \n",
    "    # end the filling\n",
    "    # TODO - end fill\n",
    "                   "
   ]
  },
  {
   "cell_type": "code",
   "execution_count": 37,
   "id": "informational-allowance",
   "metadata": {},
   "outputs": [],
   "source": [
    "star(t, 300, 15, is_screen_reset=True, pen_color='red', fill_color='yellow')"
   ]
  },
  {
   "cell_type": "code",
   "execution_count": 38,
   "id": "historic-federation",
   "metadata": {},
   "outputs": [],
   "source": [
    "# last statement -> before close\n",
    "# restart the kernel after you close the turtle\n",
    "\n",
    "turtle.mainloop()"
   ]
  }
 ],
 "metadata": {
  "kernelspec": {
   "display_name": "Python 3",
   "language": "python",
   "name": "python3"
  },
  "language_info": {
   "codemirror_mode": {
    "name": "ipython",
    "version": 3
   },
   "file_extension": ".py",
   "mimetype": "text/x-python",
   "name": "python",
   "nbconvert_exporter": "python",
   "pygments_lexer": "ipython3",
   "version": "3.8.8"
  }
 },
 "nbformat": 4,
 "nbformat_minor": 5
}
