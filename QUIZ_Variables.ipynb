{
 "cells": [
  {
   "cell_type": "markdown",
   "id": "controlling-conference",
   "metadata": {},
   "source": [
    "## [10 Questions] QUIZ - Variables"
   ]
  },
  {
   "cell_type": "markdown",
   "id": "ahead-share",
   "metadata": {},
   "source": [
    "#### General Syntax"
   ]
  },
  {
   "cell_type": "markdown",
   "id": "brief-occurrence",
   "metadata": {},
   "source": [
    "**Q 1:**\n",
    "\n",
    "Fill in the blanks to print \"Hello World!\":\n",
    "\n",
    ".....(\"Hello World!\")"
   ]
  },
  {
   "cell_type": "code",
   "execution_count": 1,
   "id": "sustained-appraisal",
   "metadata": {},
   "outputs": [],
   "source": [
    "# S 1:\n",
    "\n"
   ]
  },
  {
   "cell_type": "markdown",
   "id": "educational-awareness",
   "metadata": {},
   "source": [
    "---"
   ]
  },
  {
   "cell_type": "markdown",
   "id": "convertible-theta",
   "metadata": {},
   "source": [
    "**Q 2:**\n",
    "Fix the typo (coding error) below:\n",
    "\n",
    "<pre>\n",
    "print(\"Alice's Adventures')\n",
    "</pre>"
   ]
  },
  {
   "cell_type": "code",
   "execution_count": 2,
   "id": "impressive-supplement",
   "metadata": {},
   "outputs": [],
   "source": [
    "# S 2:\n",
    "\n"
   ]
  },
  {
   "cell_type": "markdown",
   "id": "prepared-percentage",
   "metadata": {},
   "source": [
    "---"
   ]
  },
  {
   "cell_type": "markdown",
   "id": "primary-preserve",
   "metadata": {},
   "source": [
    "**Q 3:**\n",
    "\n",
    "Convert the line below into a Comment Line.\n",
    "(One line comment)\n",
    "\n",
    "I am a Comment Line :)"
   ]
  },
  {
   "cell_type": "code",
   "execution_count": 3,
   "id": "contained-commissioner",
   "metadata": {},
   "outputs": [],
   "source": [
    "# S 3:\n",
    "\n"
   ]
  },
  {
   "cell_type": "markdown",
   "id": "growing-airfare",
   "metadata": {},
   "source": [
    "---"
   ]
  },
  {
   "cell_type": "markdown",
   "id": "dramatic-ranking",
   "metadata": {},
   "source": [
    "**Q 4:**\n",
    "\n",
    "Convert the lines below into comment lines. (multi-line comment)\n",
    "\n",
    "<pre>\n",
    "This comment line\n",
    "Is multiple lines comment\n",
    "Not just one...\n",
    "</pre>"
   ]
  },
  {
   "cell_type": "code",
   "execution_count": 4,
   "id": "dense-parks",
   "metadata": {},
   "outputs": [],
   "source": [
    "# S 4:\n",
    "\n"
   ]
  },
  {
   "cell_type": "markdown",
   "id": "electoral-tonight",
   "metadata": {},
   "source": [
    "---"
   ]
  },
  {
   "cell_type": "markdown",
   "id": "stunning-southwest",
   "metadata": {},
   "source": [
    "**Q 5:**\n",
    "\n",
    "Print the text below exactly as it is shown.\n",
    "\n",
    "<pre>\n",
    "Who in the world am I?\n",
    "    Ah, that's the great puzzle!\n",
    "        'Alice in Wonderland'\n",
    "</pre>"
   ]
  },
  {
   "cell_type": "code",
   "execution_count": 5,
   "id": "healthy-consortium",
   "metadata": {},
   "outputs": [],
   "source": [
    "# S 5:\n",
    "\n"
   ]
  },
  {
   "cell_type": "markdown",
   "id": "associate-march",
   "metadata": {},
   "source": [
    "---"
   ]
  },
  {
   "cell_type": "markdown",
   "id": "favorite-optics",
   "metadata": {},
   "source": [
    "**Q 6:**\n",
    "\n",
    "Create a variable named car_model and assign the value 'Volvo' to it."
   ]
  },
  {
   "cell_type": "code",
   "execution_count": 6,
   "id": "timely-desktop",
   "metadata": {},
   "outputs": [],
   "source": [
    "# S 6:\n",
    "\n"
   ]
  },
  {
   "cell_type": "markdown",
   "id": "necessary-plasma",
   "metadata": {},
   "source": [
    "---"
   ]
  },
  {
   "cell_type": "markdown",
   "id": "prostate-glance",
   "metadata": {},
   "source": [
    "**Q 7:**\n",
    "\n",
    "Create a variable named x and set its value to 50."
   ]
  },
  {
   "cell_type": "code",
   "execution_count": 7,
   "id": "dirty-insert",
   "metadata": {},
   "outputs": [],
   "source": [
    "# S 7:\n",
    "\n"
   ]
  },
  {
   "cell_type": "markdown",
   "id": "upper-ridge",
   "metadata": {},
   "source": [
    "---"
   ]
  },
  {
   "cell_type": "markdown",
   "id": "moral-sender",
   "metadata": {},
   "source": [
    "**Q 8:**\n",
    "\n",
    "Create two variables x and y. And assign them as 20 and 50 respectively.\n",
    "\n",
    "Create a variable z, and assign x + y to it.\n",
    "\n",
    "Then print z.\n",
    "\n",
    "<pre>\n",
    "x = 20\n",
    "y = 80\n",
    "\n",
    "... = x + y\n",
    "print(...)\n",
    "</pre>"
   ]
  },
  {
   "cell_type": "code",
   "execution_count": 8,
   "id": "loving-deviation",
   "metadata": {},
   "outputs": [],
   "source": [
    "# S 8:\n",
    "\n"
   ]
  },
  {
   "cell_type": "markdown",
   "id": "effective-clearance",
   "metadata": {},
   "source": [
    "---"
   ]
  },
  {
   "cell_type": "markdown",
   "id": "annual-narrative",
   "metadata": {},
   "source": [
    "**Q 9:**\n",
    "\n",
    "Remove forbidden characters from the variable name.\n",
    "\n",
    "**2my-first_variable*β = \"Beta\"**"
   ]
  },
  {
   "cell_type": "code",
   "execution_count": 9,
   "id": "graduate-harvest",
   "metadata": {},
   "outputs": [],
   "source": [
    "# S 9:\n",
    "\n"
   ]
  },
  {
   "cell_type": "markdown",
   "id": "musical-paper",
   "metadata": {},
   "source": [
    "---"
   ]
  },
  {
   "cell_type": "markdown",
   "id": "horizontal-adapter",
   "metadata": {},
   "source": [
    "**Q 10:**\n",
    "\n",
    "Fill in the blanks to assign three variables at the same time.\n",
    "\n",
    "x ... y ... z = \"Python\""
   ]
  },
  {
   "cell_type": "code",
   "execution_count": 10,
   "id": "introductory-frederick",
   "metadata": {},
   "outputs": [],
   "source": [
    "# S 10:\n",
    "\n"
   ]
  },
  {
   "cell_type": "code",
   "execution_count": null,
   "id": "charged-noise",
   "metadata": {},
   "outputs": [],
   "source": []
  }
 ],
 "metadata": {
  "kernelspec": {
   "display_name": "Python 3",
   "language": "python",
   "name": "python3"
  },
  "language_info": {
   "codemirror_mode": {
    "name": "ipython",
    "version": 3
   },
   "file_extension": ".py",
   "mimetype": "text/x-python",
   "name": "python",
   "nbconvert_exporter": "python",
   "pygments_lexer": "ipython3",
   "version": "3.8.8"
  }
 },
 "nbformat": 4,
 "nbformat_minor": 5
}
